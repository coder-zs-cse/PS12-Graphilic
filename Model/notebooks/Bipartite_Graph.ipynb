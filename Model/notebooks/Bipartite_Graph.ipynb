{
  "cells": [
    {
      "cell_type": "code",
      "execution_count": 28,
      "metadata": {
        "colab": {
          "base_uri": "https://localhost:8080/"
        },
        "id": "xT7Brt5Z21XI",
        "outputId": "f46f1a50-994e-4e20-c7a9-9037dad70d44"
      },
      "outputs": [
        {
          "output_type": "stream",
          "name": "stdout",
          "text": [
            "Drive already mounted at /content/drive; to attempt to forcibly remount, call drive.mount(\"/content/drive\", force_remount=True).\n"
          ]
        }
      ],
      "source": [
        "from google.colab import drive\n",
        "drive.mount('/content/drive')"
      ]
    },
    {
      "cell_type": "code",
      "execution_count": 29,
      "metadata": {
        "colab": {
          "base_uri": "https://localhost:8080/"
        },
        "id": "wEddS7QB1_SK",
        "outputId": "393f838e-b965-48e4-ce88-cdb2c68b8508"
      },
      "outputs": [
        {
          "output_type": "stream",
          "name": "stdout",
          "text": [
            "openjdk version \"11.0.19\" 2023-04-18\n",
            "OpenJDK Runtime Environment (build 11.0.19+7-post-Ubuntu-0ubuntu122.04.1)\n",
            "OpenJDK 64-Bit Server VM (build 11.0.19+7-post-Ubuntu-0ubuntu122.04.1, mixed mode, sharing)\n"
          ]
        }
      ],
      "source": [
        "!java -version"
      ]
    },
    {
      "cell_type": "code",
      "execution_count": 30,
      "metadata": {
        "colab": {
          "base_uri": "https://localhost:8080/"
        },
        "id": "3COPdspa2D-G",
        "outputId": "b22b8c3e-2cbf-4779-e1f6-d61bef2056ba"
      },
      "outputs": [
        {
          "output_type": "stream",
          "name": "stdout",
          "text": [
            "Requirement already satisfied: pyspark in /usr/local/lib/python3.10/dist-packages (3.4.1)\n",
            "Requirement already satisfied: py4j==0.10.9.7 in /usr/local/lib/python3.10/dist-packages (from pyspark) (0.10.9.7)\n"
          ]
        }
      ],
      "source": [
        "!pip install pyspark"
      ]
    },
    {
      "cell_type": "code",
      "execution_count": 31,
      "metadata": {
        "colab": {
          "base_uri": "https://localhost:8080/"
        },
        "id": "CQnpjLHw2GN3",
        "outputId": "768842c5-787b-43b4-c68f-461cdbff1f83"
      },
      "outputs": [
        {
          "output_type": "stream",
          "name": "stdout",
          "text": [
            "Requirement already satisfied: findspark in /usr/local/lib/python3.10/dist-packages (2.0.1)\n"
          ]
        }
      ],
      "source": [
        "!pip install findspark"
      ]
    },
    {
      "cell_type": "code",
      "execution_count": 32,
      "metadata": {
        "colab": {
          "base_uri": "https://localhost:8080/",
          "height": 36
        },
        "id": "aAYaw-gD2skY",
        "outputId": "1a91df2b-379e-49e4-9b20-0014546c71f2"
      },
      "outputs": [
        {
          "output_type": "execute_result",
          "data": {
            "text/plain": [
              "'/usr/local/lib/python3.10/dist-packages/pyspark'"
            ],
            "application/vnd.google.colaboratory.intrinsic+json": {
              "type": "string"
            }
          },
          "metadata": {},
          "execution_count": 32
        }
      ],
      "source": [
        "import findspark\n",
        "findspark.init()\n",
        "findspark.find()"
      ]
    },
    {
      "cell_type": "code",
      "execution_count": 33,
      "metadata": {
        "colab": {
          "base_uri": "https://localhost:8080/"
        },
        "id": "48C5ltY92VDb",
        "outputId": "2bab45e6-48c2-4f57-815f-63243c62cd1b"
      },
      "outputs": [
        {
          "output_type": "stream",
          "name": "stdout",
          "text": [
            "EmptyRDD[140] at emptyRDD at NativeMethodAccessorImpl.java:0\n"
          ]
        }
      ],
      "source": [
        "from pyspark.sql import SparkSession\n",
        "spark = SparkSession.builder.appName('SparkByExamples.com').getOrCreate()\n",
        "emptyRDD = spark.sparkContext.emptyRDD()\n",
        "print(emptyRDD)"
      ]
    },
    {
      "cell_type": "code",
      "execution_count": 34,
      "metadata": {
        "colab": {
          "base_uri": "https://localhost:8080/"
        },
        "id": "hD7Lfnet2pRW",
        "outputId": "5ec7831f-68c2-465c-8f98-431ac6342942"
      },
      "outputs": [
        {
          "output_type": "stream",
          "name": "stdout",
          "text": [
            "+--------+-----------+\n",
            "|language|users_count|\n",
            "+--------+-----------+\n",
            "|    Java|      20000|\n",
            "|  Python|     100000|\n",
            "|   Scala|       3000|\n",
            "+--------+-----------+\n",
            "\n"
          ]
        }
      ],
      "source": [
        "data = [(\"Java\", \"20000\"), (\"Python\", \"100000\"), (\"Scala\", \"3000\")]\n",
        "columns = [\"language\", \"users_count\"]\n",
        "df = spark.createDataFrame(data).toDF(*columns)\n",
        "df.show()"
      ]
    },
    {
      "cell_type": "code",
      "execution_count": 35,
      "metadata": {
        "id": "FuM-wWeF2yl_"
      },
      "outputs": [],
      "source": [
        "import pandas as pd\n",
        "import numpy as np\n",
        "import networkx as nx\n",
        "import matplotlib.pyplot as plt"
      ]
    },
    {
      "cell_type": "code",
      "execution_count": 36,
      "metadata": {
        "id": "ZBMoz_4n3El2"
      },
      "outputs": [],
      "source": [
        "file_path = \"/content/drive/MyDrive/hackrx/\""
      ]
    },
    {
      "cell_type": "code",
      "execution_count": 37,
      "metadata": {
        "id": "bYsCizhl3GwX"
      },
      "outputs": [],
      "source": [
        "from pyspark.sql import functions\n",
        "from pyspark.sql import types"
      ]
    },
    {
      "cell_type": "code",
      "execution_count": 14,
      "metadata": {
        "id": "YTB-XDKb3gr6"
      },
      "outputs": [],
      "source": [
        "categories = spark.read.option(\"header\",True).csv(file_path+'categories.csv')\n",
        "info = spark.read.option(\"header\",True).csv(file_path+'info.csv')\n",
        "reviews = spark.read.option(\"header\",True).csv(file_path+'reviews.csv')\n",
        "similar = spark.read.option(\"header\",True).csv(file_path+'similar.csv')"
      ]
    },
    {
      "cell_type": "code",
      "execution_count": 38,
      "metadata": {
        "colab": {
          "base_uri": "https://localhost:8080/"
        },
        "id": "U1PofgizD45L",
        "outputId": "6866ddd2-60ee-4737-de4b-ee5f891d351b"
      },
      "outputs": [
        {
          "output_type": "stream",
          "name": "stdout",
          "text": [
            "<class 'pyspark.sql.dataframe.DataFrame'>\n"
          ]
        }
      ],
      "source": [
        "print(type(reviews))"
      ]
    },
    {
      "cell_type": "markdown",
      "metadata": {
        "id": "1HIxjctNGmMU"
      },
      "source": [
        "###User Charachteristics"
      ]
    },
    {
      "cell_type": "markdown",
      "metadata": {
        "id": "wUMfyecbJxq4"
      },
      "source": [
        "Doing on small dataset containing 10000 items"
      ]
    },
    {
      "cell_type": "code",
      "execution_count": 39,
      "metadata": {
        "colab": {
          "base_uri": "https://localhost:8080/",
          "height": 53
        },
        "id": "ngIsLRqxIzPS",
        "outputId": "f4fd4e65-b264-4d31-b2fb-fe71813b939e"
      },
      "outputs": [
        {
          "output_type": "execute_result",
          "data": {
            "text/plain": [
              "'\\nUser charachteristics could contain:\\n  Customer_id\\n  group of purchase\\n  Voting Pattern\\n    Total votes on reviews\\n    Total helpful votes on reviews\\n'"
            ],
            "application/vnd.google.colaboratory.intrinsic+json": {
              "type": "string"
            }
          },
          "metadata": {},
          "execution_count": 39
        }
      ],
      "source": [
        "\"\"\"\n",
        "User charachteristics could contain:\n",
        "  Customer_id\n",
        "  group of purchase\n",
        "  Voting Pattern\n",
        "    Total votes on reviews\n",
        "    Total helpful votes on reviews\n",
        "\"\"\"\n"
      ]
    },
    {
      "cell_type": "code",
      "execution_count": 40,
      "metadata": {
        "colab": {
          "base_uri": "https://localhost:8080/"
        },
        "id": "5eyM9RsHJvSt",
        "outputId": "78f68de4-a716-4812-e0d8-99389393365b"
      },
      "outputs": [
        {
          "output_type": "stream",
          "name": "stdout",
          "text": [
            "Reviews DF size 100 info DF size 100 category Df size 100\n"
          ]
        }
      ],
      "source": [
        "reviews_red = reviews.limit(100)\n",
        "info_red = info.limit(100)\n",
        "cat_red = categories.limit(100)\n",
        "print(f\"Reviews DF size {reviews_red.count()} info DF size { info_red.count()} category Df size {cat_red.count()}\")\n"
      ]
    },
    {
      "cell_type": "code",
      "execution_count": 41,
      "metadata": {
        "colab": {
          "base_uri": "https://localhost:8080/"
        },
        "id": "WQpaYlJSTnyw",
        "outputId": "69726f85-92b6-4f3a-df50-55358f3d70c3"
      },
      "outputs": [
        {
          "output_type": "stream",
          "name": "stdout",
          "text": [
            "+----------+--------------------------------------------------------------------------------------------------+\n",
            "|ASIN      |category                                                                                          |\n",
            "+----------+--------------------------------------------------------------------------------------------------+\n",
            "|0827229534|[, Books, Subjects, Religion & Spirituality, Christianity, Clergy, Preaching]                     |\n",
            "|0827229534|[, Books, Subjects, Religion & Spirituality, Christianity, Clergy, Sermons]                       |\n",
            "|0738700797|[, Books, Subjects, Religion & Spirituality, Earth-Based Religions, Wicca]                        |\n",
            "|0738700797|[, Books, Subjects, Religion & Spirituality, Earth-Based Religions, Witchcraft]                   |\n",
            "|0486287785|[, Books, Subjects, Home & Garden, Crafts & Hobbies, General]                                     |\n",
            "|0842328327|[, Books, Subjects, Religion & Spirituality, Christianity, Reference, Commentaries, New Testament]|\n",
            "|0842328327|[, Books, Subjects, Religion & Spirituality, Christianity, Christian Living, Discipleship]        |\n",
            "|0842328327|[, Books, Subjects, Religion & Spirituality, Christianity, Bibles, Translations, Life Application]|\n",
            "|0842328327|[, Books, Subjects, Religion & Spirituality, Bible & Other Sacred Texts, Bible, New Testament]    |\n",
            "|0842328327|[, Books, Subjects, Religion & Spirituality, Christianity, Bibles, Study Guides]                  |\n",
            "|0842328327|[ History & Reference, General]                                                                   |\n",
            "|1577943082|[, Books, Subjects, Religion & Spirituality, Christianity, Worship & Devotion, Prayerbooks]       |\n",
            "|1577943082|[, Books, Subjects, Religion & Spirituality, Christianity, Christian Living, Business]            |\n",
            "|0486220125|[, Books, Subjects, Arts & Photography, Photography, Photo Essays]                                |\n",
            "|0486220125|[, Books, Subjects, History, Americas, United States, General]                                    |\n",
            "|0486220125|[, Books, Subjects, History, Jewish, General]                                                     |\n",
            "|0486220125|[, Books, Subjects, Nonfiction, Social Sciences, Sociology, Urban]                                |\n",
            "|0486220125|[, , Categories, Camera & Photo, Photography Books, Photo Essays]                                 |\n",
            "|B00000AU3R|[, Music, Styles, Jazz, General]                                                                  |\n",
            "|B00000AU3R|[, Music, Styles, Jazz, Modern Postbebop]                                                         |\n",
            "+----------+--------------------------------------------------------------------------------------------------+\n",
            "only showing top 20 rows\n",
            "\n"
          ]
        }
      ],
      "source": [
        "cat_red = cat_red.withColumn(\"category\", functions.split(functions.regexp_replace(functions.col(\"category\"), r\"\\[.*?\\]\", \"\"), \"\\\\|\"))\n",
        "cat_red.show(truncate=False)"
      ]
    },
    {
      "cell_type": "code",
      "execution_count": 42,
      "metadata": {
        "id": "KKKlApvOMsiN"
      },
      "outputs": [],
      "source": [
        "def flatten_category(arr):\n",
        "  return list(set(x.strip() for sublist in arr for x in sublist if x.strip()))"
      ]
    },
    {
      "cell_type": "code",
      "execution_count": 43,
      "metadata": {
        "id": "IXAv_hDNNBYm"
      },
      "outputs": [],
      "source": [
        "flattenUDF = functions.udf(lambda z: flatten_category(z), types.ArrayType(types.StringType()))"
      ]
    },
    {
      "cell_type": "code",
      "execution_count": 44,
      "metadata": {
        "colab": {
          "base_uri": "https://localhost:8080/"
        },
        "id": "fL5AikoUTYjw",
        "outputId": "da964ee0-4a1e-414e-d532-4207049ebb0c"
      },
      "outputs": [
        {
          "output_type": "stream",
          "name": "stdout",
          "text": [
            "+----------+-----------------------------------------------------------------------------------------------------------------------------------------------------------------------------------------------------------------------------------------------------------------------------------------------------------------------------+\n",
            "|ASIN      |category                                                                                                                                                                                                                                                                                                                     |\n",
            "+----------+-----------------------------------------------------------------------------------------------------------------------------------------------------------------------------------------------------------------------------------------------------------------------------------------------------------------------------+\n",
            "|0827229534|[Preaching, Christianity, Books, Sermons, Clergy, Religion & Spirituality, Subjects]                                                                                                                                                                                                                                         |\n",
            "|0738700797|[Wicca, Books, Religion & Spirituality, Earth-Based Religions, Subjects, Witchcraft]                                                                                                                                                                                                                                         |\n",
            "|0486287785|[Home & Garden, Books, General, Crafts & Hobbies, Subjects]                                                                                                                                                                                                                                                                  |\n",
            "|0842328327|[Christianity, Translations, History & Reference, Life Application, Bible & Other Sacred Texts, Books, New Testament, Bibles, General, Study Guides, Christian Living, Bible, Commentaries, Discipleship, Religion & Spirituality, Subjects, Reference]                                                                      |\n",
            "|1577943082|[Christianity, Worship & Devotion, Books, Christian Living, Business, Religion & Spirituality, Prayerbooks, Subjects]                                                                                                                                                                                                        |\n",
            "|0486220125|[Urban, Arts & Photography, Categories, United States, Sociology, Camera & Photo, Photography Books, Nonfiction, Books, Jewish, General, Social Sciences, Photo Essays, Americas, History, Photography, Subjects]                                                                                                            |\n",
            "|B00000AU3R|[Styles, Imports, Jazz, General, Specialty Stores, Modern Postbebop, Music]                                                                                                                                                                                                                                                  |\n",
            "|0231118597|[Criminology, Crime & Criminals, Politics, Nonfiction, Books, General, Gay & Lesbian, U.S., Subjects]                                                                                                                                                                                                                        |\n",
            "|1859677800|[Bread, Food & Wine, Baking, Books, Cooking, Subjects]                                                                                                                                                                                                                                                                       |\n",
            "|0375709363|[History & Criticism, Criticism & Theory, Politics, Nonfiction, Anthropology, Books, Social Sciences, Cultural, General, Literature & Fiction, History & Theory, Subjects]                                                                                                                                                   |\n",
            "|0871318237|[Alternative & Holistic, Professional & Technical, Medicine, Medical, Mind & Body, Books, General, Specialty Stores, Alternative Medicine, jp-unknown2, Health, Subjects]                                                                                                                                                    |\n",
            "|1590770218|[Mind & Body, Herbs, Nutrition, Spices & Condiments, Low-Fat Diet, Low Fat, Books, Health, Special Conditions, Special Diet, General, Low Sugar, Diets, Subjects, Food & Wine, Low Carb, Diets & Weight Loss, Low Carbohydrate, Diabetic & Sugar-Free, Cooking, Cooking by Ingredient]                                       |\n",
            "|0313230269|[History & Criticism, Science Fiction, Criticism & Theory, Books, General, Fantasy, Science Fiction & Fantasy, Literature & Fiction, Subjects]                                                                                                                                                                               |\n",
            "|B00004W1W1|[Styles, Jazz, General, Specialty Stores, Music, Indie Music]                                                                                                                                                                                                                                                                |\n",
            "|1559362022|[Bogosian, Arts & Photography, Eric, Drama, United States, Authors, Books, ( B ), General, Performing Arts, Literature & Fiction, Theater, A-Z, Subjects]                                                                                                                                                                    |\n",
            "|0195110382|[World War II, Naval, Books, General, History, Military, Subjects]                                                                                                                                                                                                                                                           |\n",
            "|0849311012|[Industrial, Telecommunications, Engineering, Business & Investing Books, Management & Leadership, Books, Amazon.com Stores, General, Computers & Internet, Business & Investing, Hardware, Engineering Economics, Management, Manufacturing & Operational Systems, Home & Office, Microprocessors & System Design, Subjects]|\n",
            "|B000007R0T|[Styles, Jazz, Music, General]                                                                                                                                                                                                                                                                                               |\n",
            "|078510870X|[Literature, Science Fiction, Comics & Graphic Novels, Marvel, Books, Mystery & Horror, Science Fiction & Fantasy, Graphic Novels, Superheroes, Publishers, Children's Books, Fantasy, Teens, Subjects]                                                                                                                      |\n",
            "|3895780812|[Specialties, Radiology, Professional & Technical, Medical, Medicine, Internal Medicine, Books, General, Computers & Internet, Subjects]                                                                                                                                                                                     |\n",
            "+----------+-----------------------------------------------------------------------------------------------------------------------------------------------------------------------------------------------------------------------------------------------------------------------------------------------------------------------------+\n",
            "only showing top 20 rows\n",
            "\n"
          ]
        }
      ],
      "source": [
        "cat_red = cat_red.groupBy('ASIN').agg(functions.collect_set(\"category\").alias(\"category\"))\n",
        "cat_red = cat_red.withColumn('category', flattenUDF(functions.col(\"category\")))\n",
        "cat_red.show(truncate=False)"
      ]
    },
    {
      "cell_type": "code",
      "execution_count": 45,
      "metadata": {
        "colab": {
          "base_uri": "https://localhost:8080/"
        },
        "id": "JaTROtWALubt",
        "outputId": "d7e071b9-5608-4a3d-ebea-b4b9dad40c4a"
      },
      "outputs": [
        {
          "output_type": "stream",
          "name": "stdout",
          "text": [
            "+----------+--------------+------+-----+-------+\n",
            "|      ASIN|   customer id|rating|votes|helpful|\n",
            "+----------+--------------+------+-----+-------+\n",
            "|0827229534|A2JW67OY8U6HHK|     5|   10|      9|\n",
            "|0827229534|A2VE83MZF98ITY|     5|    6|      5|\n",
            "|0738700797|A11NCO6YTE4BTJ|     5|    5|      4|\n",
            "|0738700797| A9CQ3PLRNIR83|     4|    5|      5|\n",
            "|0738700797|A13SG9ACZ9O5IM|     5|    8|      8|\n",
            "|0738700797|A1BDAI6VEYMAZA|     5|    4|      4|\n",
            "|0738700797|A2P6KAWXJ16234|     4|   16|     16|\n",
            "|0738700797| AMACWC3M7PQFR|     4|    5|      5|\n",
            "|0738700797|A3GO7UV9XX14D8|     4|    6|      6|\n",
            "|0738700797|A1GIL64QK68WKL|     5|    8|      8|\n",
            "|0738700797| AEOBOF2ONQJWV|     5|    8|      5|\n",
            "|0738700797|A3IGHTES8ME05L|     5|    5|      5|\n",
            "|0738700797|A1CP26N8RHYVVO|     1|   13|      9|\n",
            "|0738700797| ANEIANH0WAT9D|     5|    1|      1|\n",
            "|0486287785|A3IDGASRQAW8B2|     5|    2|      2|\n",
            "|0842328327|A2591BUPXCS705|     4|    1|      1|\n",
            "|0486220125| ATVPDKIKX0DER|     5|   12|     11|\n",
            "|0486220125| AUEZ7NVOEHYRY|     5|   13|     12|\n",
            "|0486220125| ATVPDKIKX0DER|     5|   18|      7|\n",
            "|0486220125| AJYG6ZJUQPZ9M|     4|   14|     10|\n",
            "+----------+--------------+------+-----+-------+\n",
            "only showing top 20 rows\n",
            "\n"
          ]
        }
      ],
      "source": [
        "reviews_red.show()"
      ]
    },
    {
      "cell_type": "code",
      "execution_count": 46,
      "metadata": {
        "id": "_AC9ABHZLTyQ"
      },
      "outputs": [],
      "source": [
        "reviews_red = reviews_red.drop(\"rating\")"
      ]
    },
    {
      "cell_type": "code",
      "execution_count": 47,
      "metadata": {
        "colab": {
          "base_uri": "https://localhost:8080/"
        },
        "id": "LUa3GTh_MKp_",
        "outputId": "42ed8431-2442-4273-af66-2d5f0c3b7b19"
      },
      "outputs": [
        {
          "output_type": "execute_result",
          "data": {
            "text/plain": [
              "['ASIN', 'customer id', 'votes', 'helpful']"
            ]
          },
          "metadata": {},
          "execution_count": 47
        }
      ],
      "source": [
        "reviews_red.columns"
      ]
    },
    {
      "cell_type": "code",
      "execution_count": null,
      "metadata": {
        "id": "ZrcGlHKeXXu4"
      },
      "outputs": [],
      "source": []
    },
    {
      "cell_type": "code",
      "execution_count": 25,
      "metadata": {
        "colab": {
          "base_uri": "https://localhost:8080/"
        },
        "id": "uSvKa3eqKqxC",
        "outputId": "f4eafd94-6514-4550-a397-82c29627e326"
      },
      "outputs": [
        {
          "output_type": "stream",
          "name": "stdout",
          "text": [
            "+----------+--------------+-----+-------+\n",
            "|      ASIN|   customer id|votes|helpful|\n",
            "+----------+--------------+-----+-------+\n",
            "|0827229534|A2JW67OY8U6HHK|   10|      9|\n",
            "|0827229534|A2VE83MZF98ITY|    6|      5|\n",
            "|0738700797|A11NCO6YTE4BTJ|    5|      4|\n",
            "|0738700797| A9CQ3PLRNIR83|    5|      5|\n",
            "|0738700797|A13SG9ACZ9O5IM|    8|      8|\n",
            "|0738700797|A1BDAI6VEYMAZA|    4|      4|\n",
            "|0738700797|A2P6KAWXJ16234|   16|     16|\n",
            "|0738700797| AMACWC3M7PQFR|    5|      5|\n",
            "|0738700797|A3GO7UV9XX14D8|    6|      6|\n",
            "|0738700797|A1GIL64QK68WKL|    8|      8|\n",
            "|0738700797| AEOBOF2ONQJWV|    8|      5|\n",
            "|0738700797|A3IGHTES8ME05L|    5|      5|\n",
            "|0738700797|A1CP26N8RHYVVO|   13|      9|\n",
            "|0738700797| ANEIANH0WAT9D|    1|      1|\n",
            "|0486287785|A3IDGASRQAW8B2|    2|      2|\n",
            "|0842328327|A2591BUPXCS705|    1|      1|\n",
            "|0486220125| ATVPDKIKX0DER|   12|     11|\n",
            "|0486220125| AUEZ7NVOEHYRY|   13|     12|\n",
            "|0486220125| ATVPDKIKX0DER|   18|      7|\n",
            "|0486220125| AJYG6ZJUQPZ9M|   14|     10|\n",
            "+----------+--------------+-----+-------+\n",
            "only showing top 20 rows\n",
            "\n"
          ]
        }
      ],
      "source": [
        "reviews_red.show()"
      ]
    },
    {
      "cell_type": "code",
      "execution_count": 26,
      "metadata": {
        "colab": {
          "base_uri": "https://localhost:8080/"
        },
        "id": "IQ3eluNvNN3B",
        "outputId": "8e86b798-e5d8-4e4d-94d1-9df189e5799d"
      },
      "outputs": [
        {
          "output_type": "stream",
          "name": "stdout",
          "text": [
            "+----------+--------------+-----+-------+--------------------+-----+---------+--------------------+\n",
            "|      ASIN|   customer id|votes|helpful|               title|group|salesrank|            category|\n",
            "+----------+--------------+-----+-------+--------------------+-----+---------+--------------------+\n",
            "|0827229534|A2JW67OY8U6HHK|   10|      9|Patterns of Preac...| Book|   396585|[Preaching, Chris...|\n",
            "|0827229534|A2VE83MZF98ITY|    6|      5|Patterns of Preac...| Book|   396585|[Preaching, Chris...|\n",
            "|0738700797|A11NCO6YTE4BTJ|    5|      4|Candlemas: Feast ...| Book|   168596|[Wicca, Books, Re...|\n",
            "|0738700797| A9CQ3PLRNIR83|    5|      5|Candlemas: Feast ...| Book|   168596|[Wicca, Books, Re...|\n",
            "|0738700797|A13SG9ACZ9O5IM|    8|      8|Candlemas: Feast ...| Book|   168596|[Wicca, Books, Re...|\n",
            "|0738700797|A1BDAI6VEYMAZA|    4|      4|Candlemas: Feast ...| Book|   168596|[Wicca, Books, Re...|\n",
            "|0738700797|A2P6KAWXJ16234|   16|     16|Candlemas: Feast ...| Book|   168596|[Wicca, Books, Re...|\n",
            "|0738700797| AMACWC3M7PQFR|    5|      5|Candlemas: Feast ...| Book|   168596|[Wicca, Books, Re...|\n",
            "|0738700797|A3GO7UV9XX14D8|    6|      6|Candlemas: Feast ...| Book|   168596|[Wicca, Books, Re...|\n",
            "|0738700797|A1GIL64QK68WKL|    8|      8|Candlemas: Feast ...| Book|   168596|[Wicca, Books, Re...|\n",
            "|0738700797| AEOBOF2ONQJWV|    8|      5|Candlemas: Feast ...| Book|   168596|[Wicca, Books, Re...|\n",
            "|0738700797|A3IGHTES8ME05L|    5|      5|Candlemas: Feast ...| Book|   168596|[Wicca, Books, Re...|\n",
            "|0738700797|A1CP26N8RHYVVO|   13|      9|Candlemas: Feast ...| Book|   168596|[Wicca, Books, Re...|\n",
            "|0738700797| ANEIANH0WAT9D|    1|      1|Candlemas: Feast ...| Book|   168596|[Wicca, Books, Re...|\n",
            "|0486287785|A3IDGASRQAW8B2|    2|      2|World War II Alli...| Book|  1270652|[Home & Garden, B...|\n",
            "|0842328327|A2591BUPXCS705|    1|      1|Life Application ...| Book|   631289|[Christianity, Tr...|\n",
            "|0486220125| ATVPDKIKX0DER|   12|     11|How the Other Hal...| Book|   188784|[Urban, Arts & Ph...|\n",
            "|0486220125| AUEZ7NVOEHYRY|   13|     12|How the Other Hal...| Book|   188784|[Urban, Arts & Ph...|\n",
            "|0486220125| ATVPDKIKX0DER|   18|      7|How the Other Hal...| Book|   188784|[Urban, Arts & Ph...|\n",
            "|0486220125| AJYG6ZJUQPZ9M|   14|     10|How the Other Hal...| Book|   188784|[Urban, Arts & Ph...|\n",
            "+----------+--------------+-----+-------+--------------------+-----+---------+--------------------+\n",
            "only showing top 20 rows\n",
            "\n"
          ]
        }
      ],
      "source": [
        "user_char = reviews_red.join(info_red,on=\"ASIN\",how=\"inner\")\n",
        "user_char = user_char.join(cat_red, on=\"ASIN\", how=\"inner\")\n",
        "user_char.show()"
      ]
    },
    {
      "cell_type": "code",
      "execution_count": 27,
      "metadata": {
        "colab": {
          "base_uri": "https://localhost:8080/"
        },
        "id": "miP2Z77JNNuh",
        "outputId": "240208a9-07f2-428c-8889-fca14ac0d74e"
      },
      "outputs": [
        {
          "output_type": "execute_result",
          "data": {
            "text/plain": [
              "100"
            ]
          },
          "metadata": {},
          "execution_count": 27
        }
      ],
      "source": [
        "user_char.count()"
      ]
    },
    {
      "cell_type": "code",
      "execution_count": null,
      "metadata": {
        "colab": {
          "base_uri": "https://localhost:8080/"
        },
        "id": "4413rOFzNNrI",
        "outputId": "0b99bcf3-e5b6-412f-a01e-abd300f6d319"
      },
      "outputs": [
        {
          "name": "stdout",
          "output_type": "stream",
          "text": [
            "+--------------+-----+-------+-----+--------------------+\n",
            "|   customer id|votes|helpful|group|            category|\n",
            "+--------------+-----+-------+-----+--------------------+\n",
            "|A2JW67OY8U6HHK|   10|      9| Book|[Preaching, Chris...|\n",
            "|A2VE83MZF98ITY|    6|      5| Book|[Preaching, Chris...|\n",
            "|A11NCO6YTE4BTJ|    5|      4| Book|[Wicca, Books, Re...|\n",
            "| A9CQ3PLRNIR83|    5|      5| Book|[Wicca, Books, Re...|\n",
            "|A13SG9ACZ9O5IM|    8|      8| Book|[Wicca, Books, Re...|\n",
            "|A1BDAI6VEYMAZA|    4|      4| Book|[Wicca, Books, Re...|\n",
            "|A2P6KAWXJ16234|   16|     16| Book|[Wicca, Books, Re...|\n",
            "| AMACWC3M7PQFR|    5|      5| Book|[Wicca, Books, Re...|\n",
            "|A3GO7UV9XX14D8|    6|      6| Book|[Wicca, Books, Re...|\n",
            "|A1GIL64QK68WKL|    8|      8| Book|[Wicca, Books, Re...|\n",
            "| AEOBOF2ONQJWV|    8|      5| Book|[Wicca, Books, Re...|\n",
            "|A3IGHTES8ME05L|    5|      5| Book|[Wicca, Books, Re...|\n",
            "|A1CP26N8RHYVVO|   13|      9| Book|[Wicca, Books, Re...|\n",
            "| ANEIANH0WAT9D|    1|      1| Book|[Wicca, Books, Re...|\n",
            "|A3IDGASRQAW8B2|    2|      2| Book|[Home & Garden, B...|\n",
            "|A2591BUPXCS705|    1|      1| Book|[Christianity, Tr...|\n",
            "| ATVPDKIKX0DER|   12|     11| Book|[Urban, Arts & Ph...|\n",
            "| AUEZ7NVOEHYRY|   13|     12| Book|[Urban, Arts & Ph...|\n",
            "| ATVPDKIKX0DER|   18|      7| Book|[Urban, Arts & Ph...|\n",
            "| AJYG6ZJUQPZ9M|   14|     10| Book|[Urban, Arts & Ph...|\n",
            "+--------------+-----+-------+-----+--------------------+\n",
            "only showing top 20 rows\n",
            "\n"
          ]
        }
      ],
      "source": [
        "user_char = user_char.drop(\"ASIN\",\"title\",\"salesrank\")\n",
        "user_char.show()"
      ]
    },
    {
      "cell_type": "code",
      "execution_count": null,
      "metadata": {
        "colab": {
          "base_uri": "https://localhost:8080/"
        },
        "id": "Kj80D8J-Pvgz",
        "outputId": "69b31282-0dc3-4dc4-b6d1-d4fede672230"
      },
      "outputs": [
        {
          "data": {
            "text/plain": [
              "95"
            ]
          },
          "execution_count": 322,
          "metadata": {},
          "output_type": "execute_result"
        }
      ],
      "source": [
        "user_char.select(\"customer id\").distinct().count()"
      ]
    },
    {
      "cell_type": "code",
      "execution_count": null,
      "metadata": {
        "colab": {
          "base_uri": "https://localhost:8080/"
        },
        "id": "R94ENuS3OsEZ",
        "outputId": "36041f50-8917-4177-f763-9db37ca7d417"
      },
      "outputs": [
        {
          "name": "stdout",
          "output_type": "stream",
          "text": [
            "+--------------+---------+-----------------+-------------+-----------------------------------------------------------------------------------------------------------------------------------------------------------------------------------------------------------------------------------------------------------------------------------------------------------------------+\n",
            "|customer id   |avg_votes|avg_helpful_votes|group_set    |category_set                                                                                                                                                                                                                                                                                                           |\n",
            "+--------------+---------+-----------------+-------------+-----------------------------------------------------------------------------------------------------------------------------------------------------------------------------------------------------------------------------------------------------------------------------------------------------------------------+\n",
            "|A2JW67OY8U6HHK|10.0     |9.0              |[Book]       |[[Preaching, Christianity, Books, Sermons, Clergy, Religion & Spirituality, Subjects]]                                                                                                                                                                                                                                 |\n",
            "|A2VE83MZF98ITY|6.0      |5.0              |[Book]       |[[Preaching, Christianity, Books, Sermons, Clergy, Religion & Spirituality, Subjects]]                                                                                                                                                                                                                                 |\n",
            "|A11NCO6YTE4BTJ|5.0      |4.0              |[Book]       |[[Wicca, Books, Religion & Spirituality, Earth-Based Religions, Subjects, Witchcraft]]                                                                                                                                                                                                                                 |\n",
            "|A9CQ3PLRNIR83 |5.0      |5.0              |[Book]       |[[Wicca, Books, Religion & Spirituality, Earth-Based Religions, Subjects, Witchcraft]]                                                                                                                                                                                                                                 |\n",
            "|A13SG9ACZ9O5IM|8.0      |8.0              |[Book]       |[[Wicca, Books, Religion & Spirituality, Earth-Based Religions, Subjects, Witchcraft]]                                                                                                                                                                                                                                 |\n",
            "|A1BDAI6VEYMAZA|4.0      |4.0              |[Book]       |[[Wicca, Books, Religion & Spirituality, Earth-Based Religions, Subjects, Witchcraft]]                                                                                                                                                                                                                                 |\n",
            "|A2P6KAWXJ16234|16.0     |16.0             |[Book]       |[[Wicca, Books, Religion & Spirituality, Earth-Based Religions, Subjects, Witchcraft]]                                                                                                                                                                                                                                 |\n",
            "|AMACWC3M7PQFR |5.0      |5.0              |[Book]       |[[Wicca, Books, Religion & Spirituality, Earth-Based Religions, Subjects, Witchcraft]]                                                                                                                                                                                                                                 |\n",
            "|A3GO7UV9XX14D8|6.0      |6.0              |[Book]       |[[Wicca, Books, Religion & Spirituality, Earth-Based Religions, Subjects, Witchcraft]]                                                                                                                                                                                                                                 |\n",
            "|A1GIL64QK68WKL|8.0      |8.0              |[Book]       |[[Wicca, Books, Religion & Spirituality, Earth-Based Religions, Subjects, Witchcraft]]                                                                                                                                                                                                                                 |\n",
            "|AEOBOF2ONQJWV |8.0      |5.0              |[Book]       |[[Wicca, Books, Religion & Spirituality, Earth-Based Religions, Subjects, Witchcraft]]                                                                                                                                                                                                                                 |\n",
            "|A3IGHTES8ME05L|5.0      |5.0              |[Book]       |[[Wicca, Books, Religion & Spirituality, Earth-Based Religions, Subjects, Witchcraft]]                                                                                                                                                                                                                                 |\n",
            "|A1CP26N8RHYVVO|13.0     |9.0              |[Book]       |[[Wicca, Books, Religion & Spirituality, Earth-Based Religions, Subjects, Witchcraft]]                                                                                                                                                                                                                                 |\n",
            "|ANEIANH0WAT9D |1.0      |1.0              |[Book]       |[[Wicca, Books, Religion & Spirituality, Earth-Based Religions, Subjects, Witchcraft]]                                                                                                                                                                                                                                 |\n",
            "|A3IDGASRQAW8B2|2.0      |2.0              |[Book]       |[[Home & Garden, Books, General, Crafts & Hobbies, Subjects]]                                                                                                                                                                                                                                                          |\n",
            "|A2591BUPXCS705|1.0      |1.0              |[Book]       |[[Christianity, Translations, History & Reference, Life Application, Bible & Other Sacred Texts, Books, New Testament, Bibles, General, Study Guides, Christian Living, Bible, Commentaries, Discipleship, Religion & Spirituality, Subjects, Reference]]                                                              |\n",
            "|ATVPDKIKX0DER |7.8      |4.8              |[Book, Music]|[[Urban, Arts & Photography, Categories, United States, Sociology, Camera & Photo, Photography Books, Nonfiction, Books, Jewish, General, Social Sciences, Photo Essays, Americas, History, Photography, Subjects], [Styles, Jazz, Music, General], [World War II, Naval, Books, General, History, Military, Subjects]]|\n",
            "|AUEZ7NVOEHYRY |13.0     |12.0             |[Book]       |[[Urban, Arts & Photography, Categories, United States, Sociology, Camera & Photo, Photography Books, Nonfiction, Books, Jewish, General, Social Sciences, Photo Essays, Americas, History, Photography, Subjects]]                                                                                                    |\n",
            "|AJYG6ZJUQPZ9M |14.0     |10.0             |[Book]       |[[Urban, Arts & Photography, Categories, United States, Sociology, Camera & Photo, Photography Books, Nonfiction, Books, Jewish, General, Social Sciences, Photo Essays, Americas, History, Photography, Subjects]]                                                                                                    |\n",
            "|A2ESGJTTLJWIAK|17.0     |11.0             |[Book]       |[[Urban, Arts & Photography, Categories, United States, Sociology, Camera & Photo, Photography Books, Nonfiction, Books, Jewish, General, Social Sciences, Photo Essays, Americas, History, Photography, Subjects]]                                                                                                    |\n",
            "+--------------+---------+-----------------+-------------+-----------------------------------------------------------------------------------------------------------------------------------------------------------------------------------------------------------------------------------------------------------------------------------------------------------------------+\n",
            "only showing top 20 rows\n",
            "\n"
          ]
        }
      ],
      "source": [
        "user_char = user_char.groupBy(\"customer id\").agg(functions.avg(\"votes\").alias(\"avg_votes\"),functions.avg(\"helpful\").alias(\"avg_helpful_votes\"),functions.collect_set(\"group\").alias(\"group_set\"),functions.collect_set(\"category\").alias(\"category_set\"))\n",
        "user_char.show(truncate=False)"
      ]
    },
    {
      "cell_type": "code",
      "execution_count": null,
      "metadata": {
        "id": "9a8H4wbEZI3g"
      },
      "outputs": [],
      "source": []
    },
    {
      "cell_type": "code",
      "execution_count": null,
      "metadata": {
        "colab": {
          "base_uri": "https://localhost:8080/"
        },
        "id": "5O0aFOk4YFg5",
        "outputId": "ebcc6fb2-2d88-4681-a8b2-4a5efb04d399"
      },
      "outputs": [
        {
          "name": "stdout",
          "output_type": "stream",
          "text": [
            "+--------------+---------+-----------------+-------------+---------------------------------------------------------------------------------------------------------------------------------------------------------------------------------------------------------------------------------------------------------------------+\n",
            "|customer id   |avg_votes|avg_helpful_votes|group_set    |category_set                                                                                                                                                                                                                                                         |\n",
            "+--------------+---------+-----------------+-------------+---------------------------------------------------------------------------------------------------------------------------------------------------------------------------------------------------------------------------------------------------------------------+\n",
            "|A2JW67OY8U6HHK|10.0     |9.0              |[Book]       |[Preaching, Christianity, Books, Sermons, Clergy, Religion & Spirituality, Subjects]                                                                                                                                                                                 |\n",
            "|A2VE83MZF98ITY|6.0      |5.0              |[Book]       |[Preaching, Christianity, Books, Sermons, Clergy, Religion & Spirituality, Subjects]                                                                                                                                                                                 |\n",
            "|A11NCO6YTE4BTJ|5.0      |4.0              |[Book]       |[Witchcraft, Books, Religion & Spirituality, Earth-Based Religions, Subjects, Wicca]                                                                                                                                                                                 |\n",
            "|A9CQ3PLRNIR83 |5.0      |5.0              |[Book]       |[Witchcraft, Books, Religion & Spirituality, Earth-Based Religions, Subjects, Wicca]                                                                                                                                                                                 |\n",
            "|A13SG9ACZ9O5IM|8.0      |8.0              |[Book]       |[Witchcraft, Books, Religion & Spirituality, Earth-Based Religions, Subjects, Wicca]                                                                                                                                                                                 |\n",
            "|A1BDAI6VEYMAZA|4.0      |4.0              |[Book]       |[Witchcraft, Books, Religion & Spirituality, Earth-Based Religions, Subjects, Wicca]                                                                                                                                                                                 |\n",
            "|A2P6KAWXJ16234|16.0     |16.0             |[Book]       |[Witchcraft, Books, Religion & Spirituality, Earth-Based Religions, Subjects, Wicca]                                                                                                                                                                                 |\n",
            "|AMACWC3M7PQFR |5.0      |5.0              |[Book]       |[Witchcraft, Books, Religion & Spirituality, Earth-Based Religions, Subjects, Wicca]                                                                                                                                                                                 |\n",
            "|A3GO7UV9XX14D8|6.0      |6.0              |[Book]       |[Witchcraft, Books, Religion & Spirituality, Earth-Based Religions, Subjects, Wicca]                                                                                                                                                                                 |\n",
            "|A1GIL64QK68WKL|8.0      |8.0              |[Book]       |[Witchcraft, Books, Religion & Spirituality, Earth-Based Religions, Subjects, Wicca]                                                                                                                                                                                 |\n",
            "|AEOBOF2ONQJWV |8.0      |5.0              |[Book]       |[Witchcraft, Books, Religion & Spirituality, Earth-Based Religions, Subjects, Wicca]                                                                                                                                                                                 |\n",
            "|A3IGHTES8ME05L|5.0      |5.0              |[Book]       |[Witchcraft, Books, Religion & Spirituality, Earth-Based Religions, Subjects, Wicca]                                                                                                                                                                                 |\n",
            "|A1CP26N8RHYVVO|13.0     |9.0              |[Book]       |[Witchcraft, Books, Religion & Spirituality, Earth-Based Religions, Subjects, Wicca]                                                                                                                                                                                 |\n",
            "|ANEIANH0WAT9D |1.0      |1.0              |[Book]       |[Witchcraft, Books, Religion & Spirituality, Earth-Based Religions, Subjects, Wicca]                                                                                                                                                                                 |\n",
            "|A3IDGASRQAW8B2|2.0      |2.0              |[Book]       |[Home & Garden, Books, General, Crafts & Hobbies, Subjects]                                                                                                                                                                                                          |\n",
            "|A2591BUPXCS705|1.0      |1.0              |[Book]       |[Christianity, History & Reference, Life Application, Bible & Other Sacred Texts, Books, New Testament, Bibles, General, Study Guides, Christian Living, Bible, Commentaries, Discipleship, Religion & Spirituality, Translations, Subjects, Reference]              |\n",
            "|ATVPDKIKX0DER |7.8      |4.8              |[Book, Music]|[World War II, Naval, Photography Books, Camera & Photo, Sociology, Nonfiction, Books, Social Sciences, Americas, Military, Photography, United States, Styles, Jazz, General, Photo Essays, History, Subjects, Urban, Arts & Photography, Jewish, Music, Categories]|\n",
            "|AUEZ7NVOEHYRY |13.0     |12.0             |[Book]       |[Urban, Arts & Photography, Camera & Photo, United States, Sociology, Photography, Nonfiction, Books, Jewish, General, Social Sciences, Photo Essays, Americas, Subjects, History, Photography Books, Categories]                                                    |\n",
            "|AJYG6ZJUQPZ9M |14.0     |10.0             |[Book]       |[Urban, Arts & Photography, Camera & Photo, United States, Sociology, Photography, Nonfiction, Books, Jewish, General, Social Sciences, Photo Essays, Americas, Subjects, History, Photography Books, Categories]                                                    |\n",
            "|A2ESGJTTLJWIAK|17.0     |11.0             |[Book]       |[Urban, Arts & Photography, Camera & Photo, United States, Sociology, Photography, Nonfiction, Books, Jewish, General, Social Sciences, Photo Essays, Americas, Subjects, History, Photography Books, Categories]                                                    |\n",
            "+--------------+---------+-----------------+-------------+---------------------------------------------------------------------------------------------------------------------------------------------------------------------------------------------------------------------------------------------------------------------+\n",
            "only showing top 20 rows\n",
            "\n"
          ]
        }
      ],
      "source": [
        "user_char = user_char.withColumn('category_set', flattenUDF(functions.col(\"category_set\")))\n",
        "user_char.show(truncate=False)"
      ]
    },
    {
      "cell_type": "code",
      "execution_count": null,
      "metadata": {
        "colab": {
          "base_uri": "https://localhost:8080/"
        },
        "id": "CA7EfWlMPWf2",
        "outputId": "7d7e9e75-9383-4980-c705-1832a0766cea"
      },
      "outputs": [
        {
          "data": {
            "text/plain": [
              "95"
            ]
          },
          "execution_count": 325,
          "metadata": {},
          "output_type": "execute_result"
        }
      ],
      "source": [
        "user_char.count()"
      ]
    },
    {
      "cell_type": "markdown",
      "metadata": {
        "id": "jSDutlDkHC1r"
      },
      "source": [
        "###Item Charachteristics"
      ]
    },
    {
      "cell_type": "markdown",
      "metadata": {
        "id": "Zy_7z3rJcUr4"
      },
      "source": [
        "Doing on small dataset containing 10000 items"
      ]
    },
    {
      "cell_type": "code",
      "execution_count": null,
      "metadata": {
        "colab": {
          "base_uri": "https://localhost:8080/"
        },
        "id": "zuo76yiGHIH3",
        "outputId": "59ec472d-5ff0-41dc-deac-ca74203f6998"
      },
      "outputs": [
        {
          "data": {
            "application/vnd.google.colaboratory.intrinsic+json": {
              "type": "string"
            },
            "text/plain": [
              "'\\nItem charachteristics could contain:\\n  ASIN\\n  Title ??\\n  Group\\n  Sales Rank\\n  Similar Items ??\\n  Categories\\n  Avg Rating\\n\\nPS: I am not sure whether title should be kept or not since ASIN should be enough. Not req then drop it\\n    I am also not sure how similar item can be encoporated in this, so i am just adding it as a list\\n'"
            ]
          },
          "execution_count": 326,
          "metadata": {},
          "output_type": "execute_result"
        }
      ],
      "source": [
        "\"\"\"\n",
        "Item charachteristics could contain:\n",
        "  ASIN\n",
        "  Title ??\n",
        "  Group\n",
        "  Sales Rank\n",
        "  Similar Items ??\n",
        "  Categories\n",
        "  Avg Rating\n",
        "\n",
        "PS: I am not sure whether title should be kept or not since ASIN should be enough. Not req then drop it\n",
        "    I am also not sure how similar item can be encoporated in this, so i am just adding it as a list\n",
        "\"\"\""
      ]
    },
    {
      "cell_type": "code",
      "execution_count": null,
      "metadata": {
        "id": "0dM37cp4dGaV"
      },
      "outputs": [],
      "source": [
        "sim_red = similar.alias(\"sim_red\")\n",
        "reviews_red = reviews.alias(\"reviews_red\")\n",
        "cat_red = categories.alias(\"cat_red\")"
      ]
    },
    {
      "cell_type": "code",
      "execution_count": null,
      "metadata": {
        "colab": {
          "base_uri": "https://localhost:8080/"
        },
        "id": "v0GqrS_eiPem",
        "outputId": "5b7deade-1248-4e8f-a788-5d33c6434ed3"
      },
      "outputs": [
        {
          "name": "stdout",
          "output_type": "stream",
          "text": [
            "+----------+--------------------------------------------------------------------------------------------------+\n",
            "|ASIN      |category                                                                                          |\n",
            "+----------+--------------------------------------------------------------------------------------------------+\n",
            "|0827229534|[, Books, Subjects, Religion & Spirituality, Christianity, Clergy, Preaching]                     |\n",
            "|0827229534|[, Books, Subjects, Religion & Spirituality, Christianity, Clergy, Sermons]                       |\n",
            "|0738700797|[, Books, Subjects, Religion & Spirituality, Earth-Based Religions, Wicca]                        |\n",
            "|0738700797|[, Books, Subjects, Religion & Spirituality, Earth-Based Religions, Witchcraft]                   |\n",
            "|0486287785|[, Books, Subjects, Home & Garden, Crafts & Hobbies, General]                                     |\n",
            "|0842328327|[, Books, Subjects, Religion & Spirituality, Christianity, Reference, Commentaries, New Testament]|\n",
            "|0842328327|[, Books, Subjects, Religion & Spirituality, Christianity, Christian Living, Discipleship]        |\n",
            "|0842328327|[, Books, Subjects, Religion & Spirituality, Christianity, Bibles, Translations, Life Application]|\n",
            "|0842328327|[, Books, Subjects, Religion & Spirituality, Bible & Other Sacred Texts, Bible, New Testament]    |\n",
            "|0842328327|[, Books, Subjects, Religion & Spirituality, Christianity, Bibles, Study Guides]                  |\n",
            "|0842328327|[ History & Reference, General]                                                                   |\n",
            "|1577943082|[, Books, Subjects, Religion & Spirituality, Christianity, Worship & Devotion, Prayerbooks]       |\n",
            "|1577943082|[, Books, Subjects, Religion & Spirituality, Christianity, Christian Living, Business]            |\n",
            "|0486220125|[, Books, Subjects, Arts & Photography, Photography, Photo Essays]                                |\n",
            "|0486220125|[, Books, Subjects, History, Americas, United States, General]                                    |\n",
            "|0486220125|[, Books, Subjects, History, Jewish, General]                                                     |\n",
            "|0486220125|[, Books, Subjects, Nonfiction, Social Sciences, Sociology, Urban]                                |\n",
            "|0486220125|[, , Categories, Camera & Photo, Photography Books, Photo Essays]                                 |\n",
            "|B00000AU3R|[, Music, Styles, Jazz, General]                                                                  |\n",
            "|B00000AU3R|[, Music, Styles, Jazz, Modern Postbebop]                                                         |\n",
            "+----------+--------------------------------------------------------------------------------------------------+\n",
            "only showing top 20 rows\n",
            "\n"
          ]
        }
      ],
      "source": [
        "cat_red = cat_red.withColumn(\"category\", functions.split(functions.regexp_replace(functions.col(\"category\"), r\"\\[.*?\\]\", \"\"), \"\\\\|\"))\n",
        "cat_red.show(truncate=False)"
      ]
    },
    {
      "cell_type": "code",
      "execution_count": null,
      "metadata": {
        "colab": {
          "base_uri": "https://localhost:8080/"
        },
        "id": "XF0KgbMDiPew",
        "outputId": "145e0187-dcf6-4200-f995-7a4ae0f18838"
      },
      "outputs": [
        {
          "name": "stdout",
          "output_type": "stream",
          "text": [
            "+----------+---------------------------------------------------------------------------------------------------------------------------------------------------------------------------------------------------------------------+\n",
            "|ASIN      |category                                                                                                                                                                                                             |\n",
            "+----------+---------------------------------------------------------------------------------------------------------------------------------------------------------------------------------------------------------------------+\n",
            "|0001057170|[Humor, Entertainment, Books, Formats, General, Boxed Sets, Books on Tape, Subjects]                                                                                                                                 |\n",
            "|0001474103|[Christianity, Books, Religion & Spirituality, Prophecies, Subjects, Reference]                                                                                                                                      |\n",
            "|0002193183|[Biological Sciences, Science, Reptiles & Amphibians, Books, Animals, Subjects]                                                                                                                                      |\n",
            "|0002250985|[Food & Wine, Brunch & Tea, Breakfast, Books, General, Cooking, Meals, Special Occasions, Subjects]                                                                                                                  |\n",
            "|0002251965|[U.S. Regional, Food & Wine, Regional & International, Books, General, Cooking, South, Subjects]                                                                                                                     |\n",
            "|0004133897|[Arts & Photography, Books, General, Instruction & Reference, Art, Watercolor Painting, Subjects]                                                                                                                    |\n",
            "|0004140885|[Food & Wine, Books, General, Cooking, Subjects]                                                                                                                                                                     |\n",
            "|0004707508|[English (All), Instruction, Foreign Language, Libros en español, Dictionaries & Thesauruses, Books, Formats, Dictionaries; Polyglot, Foreign Languages, Referencia, General, Polyglot, Spanish, Subjects, Reference]|\n",
            "|0004722817|[Conventional, World, Military Science, Nonfiction, Aviation, Books, General, History, Military, Weapons & Warfare, Transportation, Subjects]                                                                        |\n",
            "|0004723015|[Individual Sports, Sports, Mind & Body, Books, General, Health, Self-Help, Martial Arts, Subjects]                                                                                                                  |\n",
            "|0004723996|[Travel Books, Great Britain, Scotland, Amazon.com Stores, Books, General, Subjects, Travel, Europe, Categories]                                                                                                     |\n",
            "|0004724534|[Antiques & Collectibles, Firearms & Weapons, Home & Garden, Books, General, Subjects, Reference]                                                                                                                    |\n",
            "|000472500X|[Arts & Photography, Dance, Books, Performing Arts, Folk, Subjects]                                                                                                                                                  |\n",
            "|0005993806|[Christianity, Church Administration, Hymnals, Celtic, Worship & Devotion, Books, Clergy, Religion & Spirituality, Earth-Based Religions, Subjects]                                                                  |\n",
            "|0006386709|[Business & Investing Books, Management & Leadership, Amazon.com Stores, Books, Business & Investing, General, Management, Home & Office, Subjects]                                                                  |\n",
            "|0006482864|[Dick, ( D ), Science Fiction, Authors, Books, General, Science Fiction & Fantasy, Philip K., A-Z, Subjects]                                                                                                         |\n",
            "|0006491790|[Water Sports, Surfing, Sports, Books, General, Subjects]                                                                                                                                                            |\n",
            "|0006498779|[Mystery, Mystery & Thrillers, Books, General, British Detectives, Subjects]                                                                                                                                         |\n",
            "|0006531806|[Strategy, Politics, Nonfiction, Books, General, Ideologies, History, Military, Communism & Socialism, Subjects]                                                                                                     |\n",
            "|0006907237|[Fiction, Science, Science Fiction, Nature & How It Works, Books, Science Fiction & Fantasy, Children's Books, Teens, Subjects]                                                                                      |\n",
            "+----------+---------------------------------------------------------------------------------------------------------------------------------------------------------------------------------------------------------------------+\n",
            "only showing top 20 rows\n",
            "\n"
          ]
        }
      ],
      "source": [
        "cat_red = cat_red.groupBy('ASIN').agg(functions.collect_set(\"category\").alias(\"category\"))\n",
        "cat_red = cat_red.withColumn('category', flattenUDF(functions.col(\"category\")))\n",
        "cat_red.show(truncate=False)"
      ]
    },
    {
      "cell_type": "code",
      "execution_count": null,
      "metadata": {
        "colab": {
          "base_uri": "https://localhost:8080/"
        },
        "id": "dU7CZ1jFevPL",
        "outputId": "d656bfd5-5ce2-4f1d-f71c-90b835813e15"
      },
      "outputs": [
        {
          "name": "stdout",
          "output_type": "stream",
          "text": [
            "+----------+----------+\n",
            "|      ASIN|   ASIN ID|\n",
            "+----------+----------+\n",
            "|0827229534|0804215715|\n",
            "|0827229534|156101074X|\n",
            "|0827229534|0687023955|\n",
            "|0827229534|0687074231|\n",
            "|0827229534|082721619X|\n",
            "|0738700797|0738700827|\n",
            "|0738700797|1567184960|\n",
            "|0738700797|1567182836|\n",
            "|0738700797|0738700525|\n",
            "|0738700797|0738700940|\n",
            "|0842328327|0842328130|\n",
            "|0842328327|0830818138|\n",
            "|0842328327|0842330313|\n",
            "|0842328327|0842328610|\n",
            "|0842328327|0842328572|\n",
            "|1577943082|157794349X|\n",
            "|1577943082|0892749504|\n",
            "|1577943082|1577941829|\n",
            "|1577943082|0892749563|\n",
            "|1577943082|1577946006|\n",
            "+----------+----------+\n",
            "only showing top 20 rows\n",
            "\n"
          ]
        }
      ],
      "source": [
        "sim_red.show()"
      ]
    },
    {
      "cell_type": "code",
      "execution_count": null,
      "metadata": {
        "colab": {
          "base_uri": "https://localhost:8080/"
        },
        "id": "xRcXs7CXkHbT",
        "outputId": "eb5a3da8-6b5f-4810-cd98-0a1a36072ea8"
      },
      "outputs": [
        {
          "name": "stdout",
          "output_type": "stream",
          "text": [
            "+----------+--------------------+\n",
            "|      ASIN|         similar_set|\n",
            "+----------+--------------------+\n",
            "|0001057170|[B00006JMQR, 1585...|\n",
            "|0001474103|[0895403889, 0001...|\n",
            "|0002250985|[0912365307, 0060...|\n",
            "|0002251965|[0002553481, 0002...|\n",
            "|0004722817|[0007127596, 0004...|\n",
            "|0004724534|[0007127596, 0007...|\n",
            "|0006386709|[1857883195, 0060...|\n",
            "|0006482848|[1400030137, 1400...|\n",
            "|0006482864|[1400030080, 1400...|\n",
            "|0006491790|[0865475091, 0151...|\n",
            "|0006531806|[0030635543, 1891...|\n",
            "|0007105509|[0743427084, 1573...|\n",
            "|0007116012|[1573221112, 0743...|\n",
            "|0007116993|[014219624X, 0722...|\n",
            "|0007117000|[0062513605, 1577...|\n",
            "|0007127952|[0399144374, 0425...|\n",
            "|0007131151|[0722535724, 1567...|\n",
            "|0007140444|[0285633791, 0960...|\n",
            "|0007142595|[0261103881, 0007...|\n",
            "|002011690X|[0307605817, 0943...|\n",
            "+----------+--------------------+\n",
            "only showing top 20 rows\n",
            "\n"
          ]
        },
        {
          "data": {
            "text/plain": [
              "63780"
            ]
          },
          "execution_count": 331,
          "metadata": {},
          "output_type": "execute_result"
        }
      ],
      "source": [
        "sim_red = sim_red.groupBy(\"ASIN\").agg(functions.collect_list(\"ASIN ID\").alias(\"similar_set\"))\n",
        "sim_red.show()\n",
        "sim_red.count()"
      ]
    },
    {
      "cell_type": "code",
      "execution_count": null,
      "metadata": {
        "colab": {
          "base_uri": "https://localhost:8080/"
        },
        "id": "Q4SU_02Iexez",
        "outputId": "79e5153e-35f8-40a5-c1f7-1aa0ea88482e"
      },
      "outputs": [
        {
          "name": "stdout",
          "output_type": "stream",
          "text": [
            "+----------+--------------------+-----+---------+\n",
            "|      ASIN|               title|group|salesrank|\n",
            "+----------+--------------------+-----+---------+\n",
            "|0827229534|Patterns of Preac...| Book|   396585|\n",
            "|0738700797|Candlemas: Feast ...| Book|   168596|\n",
            "|0486287785|World War II Alli...| Book|  1270652|\n",
            "|0842328327|Life Application ...| Book|   631289|\n",
            "|1577943082|Prayers That Avai...| Book|   455160|\n",
            "|0486220125|How the Other Hal...| Book|   188784|\n",
            "|B00000AU3R|               Batik|Music|     5392|\n",
            "|0231118597| Losing Matt Shepard| Book|   277409|\n",
            "|1859677800|Making Bread: The...| Book|   949166|\n",
            "|0375709363|The Edward Said R...| Book|   220379|\n",
            "|0871318237|Resetting the Clo...| Book|   412962|\n",
            "|1590770218|Fantastic Food wi...| Book|    24741|\n",
            "|0313230269|Clockwork Worlds ...| Book|  2895088|\n",
            "|B00004W1W1|            Later...|Music|   390624|\n",
            "|1559362022|Wake Up and Smell...| Book|   518927|\n",
            "|0195110382|War at Sea: A Nav...| Book|   631564|\n",
            "|0849311012|Telecommunication...| Book|   570183|\n",
            "|B000007R0T|         Sol to Soul|Music|   109301|\n",
            "|078510870X|Ultimate Marvel T...| Book|   612475|\n",
            "|3895780812|Computed Tomograp...| Book|   179448|\n",
            "+----------+--------------------+-----+---------+\n",
            "only showing top 20 rows\n",
            "\n"
          ]
        }
      ],
      "source": [
        "info_red.show()"
      ]
    },
    {
      "cell_type": "code",
      "execution_count": null,
      "metadata": {
        "colab": {
          "base_uri": "https://localhost:8080/"
        },
        "id": "fa-mZOKFexbj",
        "outputId": "ea3b7e75-a140-4a39-ea1a-4917cc50fce2"
      },
      "outputs": [
        {
          "name": "stdout",
          "output_type": "stream",
          "text": [
            "+----------+--------------+------+-----+-------+\n",
            "|      ASIN|   customer id|rating|votes|helpful|\n",
            "+----------+--------------+------+-----+-------+\n",
            "|0827229534|A2JW67OY8U6HHK|     5|   10|      9|\n",
            "|0827229534|A2VE83MZF98ITY|     5|    6|      5|\n",
            "|0738700797|A11NCO6YTE4BTJ|     5|    5|      4|\n",
            "|0738700797| A9CQ3PLRNIR83|     4|    5|      5|\n",
            "|0738700797|A13SG9ACZ9O5IM|     5|    8|      8|\n",
            "|0738700797|A1BDAI6VEYMAZA|     5|    4|      4|\n",
            "|0738700797|A2P6KAWXJ16234|     4|   16|     16|\n",
            "|0738700797| AMACWC3M7PQFR|     4|    5|      5|\n",
            "|0738700797|A3GO7UV9XX14D8|     4|    6|      6|\n",
            "|0738700797|A1GIL64QK68WKL|     5|    8|      8|\n",
            "|0738700797| AEOBOF2ONQJWV|     5|    8|      5|\n",
            "|0738700797|A3IGHTES8ME05L|     5|    5|      5|\n",
            "|0738700797|A1CP26N8RHYVVO|     1|   13|      9|\n",
            "|0738700797| ANEIANH0WAT9D|     5|    1|      1|\n",
            "|0486287785|A3IDGASRQAW8B2|     5|    2|      2|\n",
            "|0842328327|A2591BUPXCS705|     4|    1|      1|\n",
            "|0486220125| ATVPDKIKX0DER|     5|   12|     11|\n",
            "|0486220125| AUEZ7NVOEHYRY|     5|   13|     12|\n",
            "|0486220125| ATVPDKIKX0DER|     5|   18|      7|\n",
            "|0486220125| AJYG6ZJUQPZ9M|     4|   14|     10|\n",
            "+----------+--------------+------+-----+-------+\n",
            "only showing top 20 rows\n",
            "\n"
          ]
        }
      ],
      "source": [
        "reviews_red.show()"
      ]
    },
    {
      "cell_type": "code",
      "execution_count": null,
      "metadata": {
        "colab": {
          "base_uri": "https://localhost:8080/"
        },
        "id": "dWsC5Dn3e6YT",
        "outputId": "cc210aa9-d873-4b24-e37e-6f0331a81ee5"
      },
      "outputs": [
        {
          "name": "stdout",
          "output_type": "stream",
          "text": [
            "+----------+------+\n",
            "|      ASIN|rating|\n",
            "+----------+------+\n",
            "|0827229534|     5|\n",
            "|0827229534|     5|\n",
            "|0738700797|     5|\n",
            "|0738700797|     4|\n",
            "|0738700797|     5|\n",
            "|0738700797|     5|\n",
            "|0738700797|     4|\n",
            "|0738700797|     4|\n",
            "|0738700797|     4|\n",
            "|0738700797|     5|\n",
            "|0738700797|     5|\n",
            "|0738700797|     5|\n",
            "|0738700797|     1|\n",
            "|0738700797|     5|\n",
            "|0486287785|     5|\n",
            "|0842328327|     4|\n",
            "|0486220125|     5|\n",
            "|0486220125|     5|\n",
            "|0486220125|     5|\n",
            "|0486220125|     4|\n",
            "+----------+------+\n",
            "only showing top 20 rows\n",
            "\n"
          ]
        }
      ],
      "source": [
        "reviews_red = reviews_red.drop(\"customer id\", \"votes\", \"helpful\")\n",
        "reviews_red.show()"
      ]
    },
    {
      "cell_type": "code",
      "execution_count": null,
      "metadata": {
        "colab": {
          "base_uri": "https://localhost:8080/"
        },
        "id": "Aqqel2XWfQiJ",
        "outputId": "1cf913e0-1e83-4fb8-8228-4bfc23340b6b"
      },
      "outputs": [
        {
          "name": "stdout",
          "output_type": "stream",
          "text": [
            "+----------+------------------+\n",
            "|      ASIN|        avg_rating|\n",
            "+----------+------------------+\n",
            "|B00000IBNZ|               4.0|\n",
            "|0425182681|3.4545454545454546|\n",
            "|B00005YTRK|               5.0|\n",
            "|0805044108|               5.0|\n",
            "|092997929X|               5.0|\n",
            "|0970430353|             4.625|\n",
            "|1564145743|3.8333333333333335|\n",
            "|0531164659|               5.0|\n",
            "|0071346503|               4.2|\n",
            "|B00000JMXK|               5.0|\n",
            "|1575846578|               5.0|\n",
            "|0140447881|               3.5|\n",
            "|0912912065| 4.511111111111111|\n",
            "|0786865059|3.8106796116504853|\n",
            "|050051044X|               3.5|\n",
            "|B00003CK6Y|              4.75|\n",
            "|B000053VCO|               4.0|\n",
            "|B00005T30X|             1.875|\n",
            "|B000000PEZ|               5.0|\n",
            "|B000059HUN| 4.666666666666667|\n",
            "+----------+------------------+\n",
            "only showing top 20 rows\n",
            "\n"
          ]
        }
      ],
      "source": [
        "reviews_red = reviews_red.groupBy(\"ASIN\").agg(functions.avg(\"rating\").alias(\"avg_rating\"))\n",
        "reviews_red.show()"
      ]
    },
    {
      "cell_type": "code",
      "execution_count": null,
      "metadata": {
        "colab": {
          "base_uri": "https://localhost:8080/"
        },
        "id": "Sf8i9Sz3f4n0",
        "outputId": "801c84e9-4309-4e10-a298-f43bae64dbe4"
      },
      "outputs": [
        {
          "data": {
            "text/plain": [
              "66991"
            ]
          },
          "execution_count": 336,
          "metadata": {},
          "output_type": "execute_result"
        }
      ],
      "source": [
        "reviews_red.count()"
      ]
    },
    {
      "cell_type": "code",
      "execution_count": null,
      "metadata": {
        "colab": {
          "base_uri": "https://localhost:8080/"
        },
        "id": "NxHnv2g_gb0F",
        "outputId": "76eb5220-0a84-44c7-f898-90a6920bd67d"
      },
      "outputs": [
        {
          "name": "stdout",
          "output_type": "stream",
          "text": [
            "+----------+------------------+--------------------+-----+---------+\n",
            "|      ASIN|        avg_rating|               title|group|salesrank|\n",
            "+----------+------------------+--------------------+-----+---------+\n",
            "|0786863919| 4.666666666666667|Disney A to Z : T...| Book|   161879|\n",
            "|0439240751|               5.0|Double Jeopardy (...| Book|    97166|\n",
            "|0689846088|               3.0|A Charlie Brown C...| Book|   423424|\n",
            "|0393037622|               4.0|Blood and Guts: A...| Book|   408761|\n",
            "|0875420532| 4.333333333333333|Secrets of Gypsy ...| Book|   409481|\n",
            "|0944708498|               5.0|Baby Boomer Retir...| Book|   566643|\n",
            "|0231118597| 4.466666666666667| Losing Matt Shepard| Book|   277409|\n",
            "|0375709363|               4.0|The Edward Said R...| Book|   220379|\n",
            "|B000002O8D| 4.166666666666667|Southern By the G...|Music|    89264|\n",
            "|3895780812|               5.0|Computed Tomograp...| Book|   179448|\n",
            "|0393049388|               3.0|Strange Fire: A N...| Book|  1277867|\n",
            "|1566913810|               3.5|Foghorn Outdoors:...| Book|   333198|\n",
            "|B000056PNC|3.7142857142857144|Mark Messier - Le...|  DVD|    46018|\n",
            "|0393971694|               5.0|Renaissance Music...| Book|   373682|\n",
            "|0486287785|               5.0|World War II Alli...| Book|  1270652|\n",
            "|0312199406|3.4545454545454546|Night of Many Dre...| Book|    57186|\n",
            "|B0000060T5|               5.0|Jonny Quest - Ban...|Video|    21571|\n",
            "|6303360041|               4.2|None But the Lone...|Video|    13524|\n",
            "|0939165252|               3.5|Jailed for Freedo...| Book|   326756|\n",
            "|B00004W1WK|               5.0|          Still Life|Music|   110723|\n",
            "+----------+------------------+--------------------+-----+---------+\n",
            "only showing top 20 rows\n",
            "\n"
          ]
        },
        {
          "data": {
            "text/plain": [
              "73"
            ]
          },
          "execution_count": 337,
          "metadata": {},
          "output_type": "execute_result"
        }
      ],
      "source": [
        "item_char = reviews_red.join(info_red,on=\"ASIN\",how=\"inner\")\n",
        "item_char.show()\n",
        "item_char.count()"
      ]
    },
    {
      "cell_type": "code",
      "execution_count": null,
      "metadata": {
        "colab": {
          "base_uri": "https://localhost:8080/"
        },
        "id": "IpcKtfRggbw7",
        "outputId": "01b2ea26-4549-4c50-ae9c-e7e9331e0dac"
      },
      "outputs": [
        {
          "name": "stdout",
          "output_type": "stream",
          "text": [
            "+----------+----------+--------------------+-----+---------+\n",
            "|      ASIN|avg_rating|               title|group|salesrank|\n",
            "+----------+----------+--------------------+-----+---------+\n",
            "|3895780812|       5.0|Computed Tomograp...| Book|   179448|\n",
            "+----------+----------+--------------------+-----+---------+\n",
            "\n"
          ]
        }
      ],
      "source": [
        "item_char.filter(item_char[\"ASIN\"]== \"3895780812\").show()"
      ]
    },
    {
      "cell_type": "code",
      "execution_count": null,
      "metadata": {
        "colab": {
          "base_uri": "https://localhost:8080/"
        },
        "id": "RTEKRFdVhjhn",
        "outputId": "2ed28c34-dd92-4af2-818d-0c32ab5b3a40"
      },
      "outputs": [
        {
          "name": "stdout",
          "output_type": "stream",
          "text": [
            "+----------+--------------------+\n",
            "|      ASIN|            category|\n",
            "+----------+--------------------+\n",
            "|0001057170|[Humor, Entertain...|\n",
            "|0001474103|[Christianity, Bo...|\n",
            "|0002193183|[Biological Scien...|\n",
            "|0002250985|[Food & Wine, Bru...|\n",
            "|0002251965|[U.S. Regional, F...|\n",
            "|0004133897|[Arts & Photograp...|\n",
            "|0004140885|[Food & Wine, Boo...|\n",
            "|0004707508|[English (All), I...|\n",
            "|0004722817|[Conventional, Wo...|\n",
            "|0004723015|[Individual Sport...|\n",
            "|0004723996|[Travel Books, Gr...|\n",
            "|0004724534|[Antiques & Colle...|\n",
            "|000472500X|[Arts & Photograp...|\n",
            "|0005993806|[Christianity, Ch...|\n",
            "|0006386709|[Business & Inves...|\n",
            "|0006482864|[Dick, ( D ), Sci...|\n",
            "|0006491790|[Water Sports, Su...|\n",
            "|0006498779|[Mystery, Mystery...|\n",
            "|0006531806|[Strategy, Politi...|\n",
            "|0006907237|[Fiction, Science...|\n",
            "+----------+--------------------+\n",
            "only showing top 20 rows\n",
            "\n"
          ]
        }
      ],
      "source": [
        "cat_red.show()"
      ]
    },
    {
      "cell_type": "code",
      "execution_count": null,
      "metadata": {
        "colab": {
          "base_uri": "https://localhost:8080/"
        },
        "id": "GdQZO-BXhjdO",
        "outputId": "e047a516-49da-4443-d030-d2eb6853ff0c"
      },
      "outputs": [
        {
          "name": "stdout",
          "output_type": "stream",
          "text": [
            "+----------+------------------+--------------------------------------------------------------------------------------------+-----+---------+------------------------------------------------------------------------------------------------------------------------------------------------------------------------------------------------------------------------------------------+\n",
            "|ASIN      |avg_rating        |title                                                                                       |group|salesrank|category                                                                                                                                                                                                                                  |\n",
            "+----------+------------------+--------------------------------------------------------------------------------------------+-----+---------+------------------------------------------------------------------------------------------------------------------------------------------------------------------------------------------------------------------------------------------+\n",
            "|0113300174|4.0               |Service Delivery (It Infrastructure Library Series)                                         |Book |27507    |[Company Profiles, Business & Investing Books, Management & Leadership, Amazon.com Stores, Books, Business & Investing, General, Biographies & Primers, Management Science, Home & Office, Subjects, Reference]                           |\n",
            "|0231096704|3.0               |The Columbia Anthology of Gay Literature                                                    |Book |1119683  |[Special Groups, Nonfiction, Books, Social Sciences, General, Gay & Lesbian, Literature & Fiction, Classics, Lesbian Studies, Subjects]                                                                                                   |\n",
            "|0231118597|4.466666666666667 |Losing Matt Shepard                                                                         |Book |277409   |[Criminology, Crime & Criminals, Politics, Nonfiction, Books, General, Gay & Lesbian, U.S., Subjects]                                                                                                                                     |\n",
            "|0312199406|3.4545454545454546|Night of Many Dreams : A Novel                                                              |Book |57186    |[Contemporary, Books, Popular Fiction, General, Book Clubs, Specialty Stores, Literature & Fiction, Subjects]                                                                                                                             |\n",
            "|0312982178|4.636363636363637 |Water Touching Stone                                                                        |Book |27012    |[Mystery, Mystery & Thrillers, Books, General, Subjects]                                                                                                                                                                                  |\n",
            "|0375709363|4.0               |The Edward Said Reader                                                                      |Book |220379   |[History & Criticism, Criticism & Theory, Politics, Nonfiction, Anthropology, Books, Social Sciences, Cultural, General, Literature & Fiction, History & Theory, Subjects]                                                                |\n",
            "|0393037622|4.0               |Blood and Guts: A Short History of Medicine                                                 |Book |408761   |[Science, Mathematics, Medicine, Special Topics, Books, General, History, Subjects]                                                                                                                                                       |\n",
            "|0393049388|3.0               |Strange Fire: A Novel                                                                       |Book |1277867  |[Mystery, Mystery & Thrillers, Contemporary, Books, General, Literature & Fiction, Subjects]                                                                                                                                              |\n",
            "|0393971694|5.0               |Renaissance Music: Music in Western Europe, 1400-1600 (Norton Introduction to Music History)|Book |373682   |[History & Criticism, Humanities, Entertainment, New & Used Textbooks, Appreciation & History, Books, General, Specialty Stores, History, Europe, Art & Music, Music, Subjects]                                                           |\n",
            "|039572774X|4.066666666666666 |The American Heritage Dictionary of Idioms                                                  |Book |166549   |[English (All), Dictionaries & Thesauruses, Books, Slang & Idioms, General, Subjects, Reference]                                                                                                                                          |\n",
            "|0398068917|1.0               |Investigating Computer Crime: A Primer for Security Managers                                |Book |1501773  |[Security, Internet, Computer & Internet Books, Books, Amazon.com Stores, Computers & Internet, General, Digital Business & Culture, Hackers, Project Management, Home & Office, Subjects]                                                |\n",
            "|042515517X|4.0               |Year of the Tiger                                                                           |Book |509767   |[Spy Stories & Tales of Intrigue, Mystery & Thrillers, Contemporary, Books, General, Thrillers, Literature & Fiction, Subjects]                                                                                                           |\n",
            "|0439240751|5.0               |Double Jeopardy (T*Witches, 6)                                                              |Book |97166    |[Series, Literature, Science Fiction, Twins, Issues, jp-unknown1, Books, & Magic, Mystery & Horror, Science Fiction & Fantasy, Fantasy & Adventure, Specialty Stores, Children's Books, Fantasy, Teens, Subjects, T.Witches]              |\n",
            "|0486220125|4.235294117647059 |How the Other Half Lives: Studies Among the Tenements of New York                           |Book |188784   |[Urban, Arts & Photography, Categories, United States, Sociology, Camera & Photo, Photography Books, Nonfiction, Books, Jewish, General, Social Sciences, Photo Essays, Americas, History, Photography, Subjects]                         |\n",
            "|0486275035|4.0               |Goldilocks and the Three Bears : Full-Color Picture Book (Dover Little Activity Books)      |Book |1269904  |[Literature, Ages 4-8, Books, General, Humorous, Children's Books, Subjects]                                                                                                                                                              |\n",
            "|0486287785|5.0               |World War II Allied Fighter Planes Trading Cards                                            |Book |1270652  |[Home & Garden, Books, General, Crafts & Hobbies, Subjects]                                                                                                                                                                               |\n",
            "|0553525476|4.5               |The Casebook of Sherlock Holmes, Volume 2 (Casebook of Sherlock Holmes)                     |Book |1545277  |[Authors, Mystery & Thrillers, Arthur Conan, A-Z, Sherlock Holmes, Radio, General Broadcasting, Formats, Books, British Detectives, Sir Arthur Conan, Entertainment, General, Doyle, Books on Tape, Radio Shows, Subjects, ( D ), Mystery]|\n",
            "|0613100093|5.0               |Betsy & Tacy Go over the Big Hill (Betsy and Tacy Books)                                    |Book |629348   |[Series, Fiction, Literature, Action & Adventure, Children's Books, People & Places, Friendship, Books, Ages 9-12, General, Social Situations, Classics, Betsy & Tacy, Subjects]                                                          |\n",
            "|0689846088|3.0               |A Charlie Brown Christmas                                                                   |Book |423424   |[Fiction, Ages 4-8, Picture Books, Holidays & Festivals, People & Places, Books, General, Christmas, Children's Books, Subjects]                                                                                                          |\n",
            "|0761116982|4.7272727272727275|Staff Meals from Chanterelle                                                                |Book |150657   |[U.S. Regional, Food & Wine, Regional & International, Professional, Middle Atlantic, Books, General, Cooking, History, Gastronomy, Professional Cooking, Subjects]                                                                       |\n",
            "+----------+------------------+--------------------------------------------------------------------------------------------+-----+---------+------------------------------------------------------------------------------------------------------------------------------------------------------------------------------------------------------------------------------------------+\n",
            "only showing top 20 rows\n",
            "\n"
          ]
        },
        {
          "data": {
            "text/plain": [
              "73"
            ]
          },
          "execution_count": 340,
          "metadata": {},
          "output_type": "execute_result"
        }
      ],
      "source": [
        "item_char = item_char.join(cat_red,on=\"ASIN\",how=\"inner\")\n",
        "item_char.show(truncate=False)\n",
        "item_char.count()"
      ]
    },
    {
      "cell_type": "code",
      "execution_count": null,
      "metadata": {
        "colab": {
          "base_uri": "https://localhost:8080/"
        },
        "id": "h1trYnjugbt7",
        "outputId": "08759279-9fd7-46ca-ddfd-ccd816d9b5e0"
      },
      "outputs": [
        {
          "name": "stdout",
          "output_type": "stream",
          "text": [
            "+----------+------------------+-----------------------------------------------------------------------------------------------------------------------------+-----+---------+----------------------------------------------------------------------------------------------------------------------------------------------------------------------------------------------------------------------------------------------------------------------------------------------------------------------------+------------------------------------------------------------+\n",
            "|ASIN      |avg_rating        |title                                                                                                                        |group|salesrank|category                                                                                                                                                                                                                                                                                                                    |similar_set                                                 |\n",
            "+----------+------------------+-----------------------------------------------------------------------------------------------------------------------------+-----+---------+----------------------------------------------------------------------------------------------------------------------------------------------------------------------------------------------------------------------------------------------------------------------------------------------------------------------------+------------------------------------------------------------+\n",
            "|0113300174|4.0               |Service Delivery (It Infrastructure Library Series)                                                                          |Book |27507    |[Company Profiles, Business & Investing Books, Management & Leadership, Amazon.com Stores, Books, Business & Investing, General, Biographies & Primers, Management Science, Home & Office, Subjects, Reference]                                                                                                             |[0113308655, 0113308779, 0113308663, 0975568604, 011330014X]|\n",
            "|0231096704|3.0               |The Columbia Anthology of Gay Literature                                                                                     |Book |1119683  |[Special Groups, Nonfiction, Books, Social Sciences, General, Gay & Lesbian, Literature & Fiction, Classics, Lesbian Studies, Subjects]                                                                                                                                                                                     |[0385492286, 0300080883, 0140172483, 0375707409, 0520078748]|\n",
            "|0231118597|4.466666666666667 |Losing Matt Shepard                                                                                                          |Book |277409   |[Criminology, Crime & Criminals, Politics, Nonfiction, Books, General, Gay & Lesbian, U.S., Subjects]                                                                                                                                                                                                                       |[B000067D0Y, 0375727191, 080148605X, 1560232579, 0300089023]|\n",
            "|0312199406|3.4545454545454546|Night of Many Dreams : A Novel                                                                                               |Book |57186    |[Contemporary, Books, Popular Fiction, General, Book Clubs, Specialty Stores, Literature & Fiction, Subjects]                                                                                                                                                                                                               |[0312267568, 0312316089, 0312099436, 0312144075, 0446674346]|\n",
            "|0312982178|4.636363636363637 |Water Touching Stone                                                                                                         |Book |27012    |[Mystery, Mystery & Thrillers, Books, General, Subjects]                                                                                                                                                                                                                                                                    |[0312978340, 0312330898, 0312277598, 1569473412, 1569472424]|\n",
            "|0375709363|4.0               |The Edward Said Reader                                                                                                       |Book |220379   |[History & Criticism, Criticism & Theory, Politics, Nonfiction, Anthropology, Books, Social Sciences, Cultural, General, Literature & Fiction, History & Theory, Subjects]                                                                                                                                                  |[039474067X, 0679730672, 0679750541, 1400030668, 0896086704]|\n",
            "|0393037622|4.0               |Blood and Guts: A Short History of Medicine                                                                                  |Book |408761   |[Science, Mathematics, Medicine, Special Topics, Books, General, History, Subjects]                                                                                                                                                                                                                                         |[0393050750, 0521566681, 0192802674, 0393319806, 157912156X]|\n",
            "|0393971694|5.0               |Renaissance Music: Music in Western Europe, 1400-1600 (Norton Introduction to Music History)                                 |Book |373682   |[History & Criticism, Humanities, Entertainment, New & Used Textbooks, Appreciation & History, Books, General, Specialty Stores, History, Europe, Art & Music, Music, Subjects]                                                                                                                                             |[0393971708, 0393090906, 0195122321, 0136081924, 039395272X]|\n",
            "|039572774X|4.066666666666666 |The American Heritage Dictionary of Idioms                                                                                   |Book |166549   |[English (All), Dictionaries & Thesauruses, Books, Slang & Idioms, General, Subjects, Reference]                                                                                                                                                                                                                            |[006270107X, 0844204625, 0590381571, 0844257796, 0764119826]|\n",
            "|042515517X|4.0               |Year of the Tiger                                                                                                            |Book |509767   |[Spy Stories & Tales of Intrigue, Mystery & Thrillers, Contemporary, Books, General, Thrillers, Literature & Fiction, Subjects]                                                                                                                                                                                             |[0425161021, 0425146707, 0425176312, 0671725319, 0425184250]|\n",
            "|0439240751|5.0               |Double Jeopardy (T*Witches, 6)                                                                                               |Book |97166    |[Series, Literature, Science Fiction, Twins, Issues, jp-unknown1, Books, & Magic, Mystery & Horror, Science Fiction & Fantasy, Fantasy & Adventure, Specialty Stores, Children's Books, Fantasy, Teens, Subjects, T.Witches]                                                                                                |[0439492327, 0439240727, 0439240719, 0439240700, 0061062499]|\n",
            "|0486220125|4.235294117647059 |How the Other Half Lives: Studies Among the Tenements of New York                                                            |Book |188784   |[Urban, Arts & Photography, Categories, United States, Sociology, Camera & Photo, Photography Books, Nonfiction, Books, Jewish, General, Social Sciences, Photo Essays, Americas, History, Photography, Subjects]                                                                                                           |[0486401960, 0452283612, 0486229076, 0714840343, 0374528993]|\n",
            "|0613100093|5.0               |Betsy & Tacy Go over the Big Hill (Betsy and Tacy Books)                                                                     |Book |629348   |[Series, Fiction, Literature, Action & Adventure, Children's Books, People & Places, Friendship, Books, Ages 9-12, General, Social Situations, Classics, Betsy & Tacy, Subjects]                                                                                                                                            |[0064400964, 0064401103, 0064401111, 0064405478, 0064405451]|\n",
            "|0689846088|3.0               |A Charlie Brown Christmas                                                                                                    |Book |423424   |[Fiction, Ages 4-8, Picture Books, Holidays & Festivals, People & Places, Books, General, Christmas, Children's Books, Subjects]                                                                                                                                                                                            |[068984607X, 0689850271, 0689848218, 0689848226, 0689851634]|\n",
            "|0761116982|4.7272727272727275|Staff Meals from Chanterelle                                                                                                 |Book |150657   |[U.S. Regional, Food & Wine, Regional & International, Professional, Middle Atlantic, Books, General, Cooking, History, Gastronomy, Professional Cooking, Subjects]                                                                                                                                                         |[1579652395, 0393020436, 0767903609, 0312290233, 0471287857]|\n",
            "|0786863919|4.666666666666667 |Disney A to Z : The Updated Official Encyclopedia (Disney a to Z)                                                            |Book |161879   |[Antiques & Collectibles, Television, Home & Garden, Entertainment, Books, Movies, Art, Americana, Pop Culture, Encyclopedias, Subjects, Reference]                                                                                                                                                                         |[0786853808, 1887140492, 0786885270, 1562829254, 0786854065]|\n",
            "|0842328327|4.0               |Life Application Bible Commentary: 1 and 2 Timothy and Titus                                                                 |Book |631289   |[Christianity, Translations, History & Reference, Life Application, Bible & Other Sacred Texts, Books, New Testament, Bibles, General, Study Guides, Christian Living, Bible, Commentaries, Discipleship, Religion & Spirituality, Subjects, Reference]                                                                     |[0842328130, 0830818138, 0842330313, 0842328610, 0842328572]|\n",
            "|0875420532|4.333333333333333 |Secrets of Gypsy Love Magick (Llewellyn's New Age Series)                                                                    |Book |409481   |[Love & Romance, Occultism, Magic, Sociology, Relationships, Nonfiction, Folklore & Mythology, Books, Mind & Body, Social Sciences, General, Occult, Health, Religion & Spirituality, Subjects]                                                                                                                             |[1567180906, 0875420516, 156718099X, 1567180973, 1578632617]|\n",
            "|0939165252|3.5               |Jailed for Freedom: American Women Win the Vote                                                                              |Book |326756   |[Women's Studies, Nonfiction, Books, History, Government, Subjects, Elections]                                                                                                                                                                                                                                              |[059500055X, B00026L9CU, 0471426121, 0791453200, 0674106539]|\n",
            "|0966723821|5.0               |Historia De Cancer De Una Dietista : Informacion & Inspiracion para la Recuperacion & Curacion Sobreviviente de tres canceres|Book |613909   |[Professionals & Academics, Internal Medicine, Mind & Body, Alternative Medicine, Biographies & Memoirs, Nutrition, Cancer, Medical, Disorders & Diseases, Libros en español, Formats, Books, Health, Special Conditions, General, Subjects, Medicine, Special Topics, Diets & Weight Loss, Oncology, Biografías y memorias]|[0972252207, 0963837281, 0471346683, 0553381628, 0812930665]|\n",
            "+----------+------------------+-----------------------------------------------------------------------------------------------------------------------------+-----+---------+----------------------------------------------------------------------------------------------------------------------------------------------------------------------------------------------------------------------------------------------------------------------------------------------------------------------------+------------------------------------------------------------+\n",
            "only showing top 20 rows\n",
            "\n"
          ]
        },
        {
          "data": {
            "text/plain": [
              "63"
            ]
          },
          "execution_count": 341,
          "metadata": {},
          "output_type": "execute_result"
        }
      ],
      "source": [
        "item_char = item_char.join(sim_red,on=\"ASIN\",how=\"inner\")\n",
        "item_char.show(truncate=False)\n",
        "item_char.count()"
      ]
    },
    {
      "cell_type": "code",
      "execution_count": null,
      "metadata": {
        "id": "RocDDaimgbeF"
      },
      "outputs": [],
      "source": []
    },
    {
      "cell_type": "markdown",
      "metadata": {
        "id": "anbxRQG1HKji"
      },
      "source": [
        "###Graph Embedding"
      ]
    },
    {
      "cell_type": "code",
      "execution_count": null,
      "metadata": {
        "colab": {
          "base_uri": "https://localhost:8080/"
        },
        "id": "1wcVlWRWEio2",
        "outputId": "8db5358b-beb9-44b1-c20c-e1adc7671da5"
      },
      "outputs": [
        {
          "name": "stdout",
          "output_type": "stream",
          "text": [
            "Requirement already satisfied: node2vec in /usr/local/lib/python3.10/dist-packages (0.4.6)\n",
            "Requirement already satisfied: gensim<5.0.0,>=4.1.2 in /usr/local/lib/python3.10/dist-packages (from node2vec) (4.3.1)\n",
            "Requirement already satisfied: joblib<2.0.0,>=1.1.0 in /usr/local/lib/python3.10/dist-packages (from node2vec) (1.3.1)\n",
            "Requirement already satisfied: networkx<3.0,>=2.5 in /usr/local/lib/python3.10/dist-packages (from node2vec) (2.8.8)\n",
            "Requirement already satisfied: numpy<2.0.0,>=1.19.5 in /usr/local/lib/python3.10/dist-packages (from node2vec) (1.22.4)\n",
            "Requirement already satisfied: tqdm<5.0.0,>=4.55.1 in /usr/local/lib/python3.10/dist-packages (from node2vec) (4.65.0)\n",
            "Requirement already satisfied: scipy>=1.7.0 in /usr/local/lib/python3.10/dist-packages (from gensim<5.0.0,>=4.1.2->node2vec) (1.10.1)\n",
            "Requirement already satisfied: smart-open>=1.8.1 in /usr/local/lib/python3.10/dist-packages (from gensim<5.0.0,>=4.1.2->node2vec) (6.3.0)\n"
          ]
        }
      ],
      "source": [
        "!pip install node2vec"
      ]
    },
    {
      "cell_type": "code",
      "execution_count": null,
      "metadata": {
        "colab": {
          "base_uri": "https://localhost:8080/"
        },
        "id": "ieBI2_1Kp6Rp",
        "outputId": "6c4f2d49-ad33-475d-db7a-21b1bca5c305"
      },
      "outputs": [
        {
          "data": {
            "text/plain": [
              "64"
            ]
          },
          "execution_count": 343,
          "metadata": {},
          "output_type": "execute_result"
        }
      ],
      "source": [
        "len(user1_embedding)"
      ]
    },
    {
      "cell_type": "code",
      "execution_count": null,
      "metadata": {
        "colab": {
          "background_save": true
        },
        "id": "Zh4VolFtGi75",
        "outputId": "355a7c86-1d11-400b-df31-d44b34f8e163"
      },
      "outputs": [
        {
          "data": {
            "image/png": "[encoded data removed]",
            "text/plain": [
              "<Figure size 640x480 with 1 Axes>"
            ]
          },
          "metadata": {},
          "output_type": "display_data"
        }
      ],
      "source": [
        "nx.draw(graph,with_labels=True, font_weight='bold')"
      ]
    },
    {
      "cell_type": "code",
      "execution_count": null,
      "metadata": {
        "colab": {
          "background_save": true
        },
        "id": "yR4_4QINhVvj",
        "outputId": "9f50aa1e-84db-4918-a8b2-c5534bc6f4ee"
      },
      "outputs": [
        {
          "name": "stdout",
          "output_type": "stream",
          "text": [
            "+--------------+---------+-----------------+-------------+---------------------------------------------------------------------------------------------------------------------------------------------------------------------------------------------------------------------------------------------------------------------+\n",
            "|customer id   |avg_votes|avg_helpful_votes|group_set    |category_set                                                                                                                                                                                                                                                         |\n",
            "+--------------+---------+-----------------+-------------+---------------------------------------------------------------------------------------------------------------------------------------------------------------------------------------------------------------------------------------------------------------------+\n",
            "|A2JW67OY8U6HHK|10.0     |9.0              |[Book]       |[Preaching, Christianity, Books, Sermons, Clergy, Religion & Spirituality, Subjects]                                                                                                                                                                                 |\n",
            "|A2VE83MZF98ITY|6.0      |5.0              |[Book]       |[Preaching, Christianity, Books, Sermons, Clergy, Religion & Spirituality, Subjects]                                                                                                                                                                                 |\n",
            "|A11NCO6YTE4BTJ|5.0      |4.0              |[Book]       |[Witchcraft, Books, Religion & Spirituality, Earth-Based Religions, Subjects, Wicca]                                                                                                                                                                                 |\n",
            "|A9CQ3PLRNIR83 |5.0      |5.0              |[Book]       |[Witchcraft, Books, Religion & Spirituality, Earth-Based Religions, Subjects, Wicca]                                                                                                                                                                                 |\n",
            "|A13SG9ACZ9O5IM|8.0      |8.0              |[Book]       |[Witchcraft, Books, Religion & Spirituality, Earth-Based Religions, Subjects, Wicca]                                                                                                                                                                                 |\n",
            "|A1BDAI6VEYMAZA|4.0      |4.0              |[Book]       |[Witchcraft, Books, Religion & Spirituality, Earth-Based Religions, Subjects, Wicca]                                                                                                                                                                                 |\n",
            "|A2P6KAWXJ16234|16.0     |16.0             |[Book]       |[Witchcraft, Books, Religion & Spirituality, Earth-Based Religions, Subjects, Wicca]                                                                                                                                                                                 |\n",
            "|AMACWC3M7PQFR |5.0      |5.0              |[Book]       |[Witchcraft, Books, Religion & Spirituality, Earth-Based Religions, Subjects, Wicca]                                                                                                                                                                                 |\n",
            "|A3GO7UV9XX14D8|6.0      |6.0              |[Book]       |[Witchcraft, Books, Religion & Spirituality, Earth-Based Religions, Subjects, Wicca]                                                                                                                                                                                 |\n",
            "|A1GIL64QK68WKL|8.0      |8.0              |[Book]       |[Witchcraft, Books, Religion & Spirituality, Earth-Based Religions, Subjects, Wicca]                                                                                                                                                                                 |\n",
            "|AEOBOF2ONQJWV |8.0      |5.0              |[Book]       |[Witchcraft, Books, Religion & Spirituality, Earth-Based Religions, Subjects, Wicca]                                                                                                                                                                                 |\n",
            "|A3IGHTES8ME05L|5.0      |5.0              |[Book]       |[Witchcraft, Books, Religion & Spirituality, Earth-Based Religions, Subjects, Wicca]                                                                                                                                                                                 |\n",
            "|A1CP26N8RHYVVO|13.0     |9.0              |[Book]       |[Witchcraft, Books, Religion & Spirituality, Earth-Based Religions, Subjects, Wicca]                                                                                                                                                                                 |\n",
            "|ANEIANH0WAT9D |1.0      |1.0              |[Book]       |[Witchcraft, Books, Religion & Spirituality, Earth-Based Religions, Subjects, Wicca]                                                                                                                                                                                 |\n",
            "|A3IDGASRQAW8B2|2.0      |2.0              |[Book]       |[Home & Garden, Books, General, Crafts & Hobbies, Subjects]                                                                                                                                                                                                          |\n",
            "|A2591BUPXCS705|1.0      |1.0              |[Book]       |[Christianity, History & Reference, Life Application, Bible & Other Sacred Texts, Books, New Testament, Bibles, General, Study Guides, Christian Living, Bible, Commentaries, Discipleship, Religion & Spirituality, Translations, Subjects, Reference]              |\n",
            "|ATVPDKIKX0DER |7.8      |4.8              |[Book, Music]|[World War II, Naval, Photography Books, Camera & Photo, Sociology, Nonfiction, Books, Social Sciences, Americas, Military, Photography, United States, Styles, Jazz, General, Photo Essays, History, Subjects, Urban, Arts & Photography, Jewish, Music, Categories]|\n",
            "|AUEZ7NVOEHYRY |13.0     |12.0             |[Book]       |[Urban, Arts & Photography, Camera & Photo, United States, Sociology, Photography, Nonfiction, Books, Jewish, General, Social Sciences, Photo Essays, Americas, Subjects, History, Photography Books, Categories]                                                    |\n",
            "|AJYG6ZJUQPZ9M |14.0     |10.0             |[Book]       |[Urban, Arts & Photography, Camera & Photo, United States, Sociology, Photography, Nonfiction, Books, Jewish, General, Social Sciences, Photo Essays, Americas, Subjects, History, Photography Books, Categories]                                                    |\n",
            "|A2ESGJTTLJWIAK|17.0     |11.0             |[Book]       |[Urban, Arts & Photography, Camera & Photo, United States, Sociology, Photography, Nonfiction, Books, Jewish, General, Social Sciences, Photo Essays, Americas, Subjects, History, Photography Books, Categories]                                                    |\n",
            "+--------------+---------+-----------------+-------------+---------------------------------------------------------------------------------------------------------------------------------------------------------------------------------------------------------------------------------------------------------------------+\n",
            "only showing top 20 rows\n",
            "\n"
          ]
        }
      ],
      "source": [
        "user_char.show(truncate=False)"
      ]
    },
    {
      "cell_type": "code",
      "execution_count": null,
      "metadata": {
        "colab": {
          "background_save": true
        },
        "id": "h11bGxfXnwa-",
        "outputId": "9caaa763-4131-4ebd-d4e2-e27bacc96250"
      },
      "outputs": [
        {
          "name": "stdout",
          "output_type": "stream",
          "text": [
            "+--------------+---------------------------------------------------------------------------------------------------------------------------------------------------------------------------------------------------------------------------------------------------------------------+\n",
            "|customer id   |category_set                                                                                                                                                                                                                                                         |\n",
            "+--------------+---------------------------------------------------------------------------------------------------------------------------------------------------------------------------------------------------------------------------------------------------------------------+\n",
            "|A2JW67OY8U6HHK|[Preaching, Christianity, Books, Sermons, Clergy, Religion & Spirituality, Subjects]                                                                                                                                                                                 |\n",
            "|A2VE83MZF98ITY|[Preaching, Christianity, Books, Sermons, Clergy, Religion & Spirituality, Subjects]                                                                                                                                                                                 |\n",
            "|A11NCO6YTE4BTJ|[Witchcraft, Books, Religion & Spirituality, Earth-Based Religions, Subjects, Wicca]                                                                                                                                                                                 |\n",
            "|A9CQ3PLRNIR83 |[Witchcraft, Books, Religion & Spirituality, Earth-Based Religions, Subjects, Wicca]                                                                                                                                                                                 |\n",
            "|A13SG9ACZ9O5IM|[Witchcraft, Books, Religion & Spirituality, Earth-Based Religions, Subjects, Wicca]                                                                                                                                                                                 |\n",
            "|A1BDAI6VEYMAZA|[Witchcraft, Books, Religion & Spirituality, Earth-Based Religions, Subjects, Wicca]                                                                                                                                                                                 |\n",
            "|A2P6KAWXJ16234|[Witchcraft, Books, Religion & Spirituality, Earth-Based Religions, Subjects, Wicca]                                                                                                                                                                                 |\n",
            "|AMACWC3M7PQFR |[Witchcraft, Books, Religion & Spirituality, Earth-Based Religions, Subjects, Wicca]                                                                                                                                                                                 |\n",
            "|A3GO7UV9XX14D8|[Witchcraft, Books, Religion & Spirituality, Earth-Based Religions, Subjects, Wicca]                                                                                                                                                                                 |\n",
            "|A1GIL64QK68WKL|[Witchcraft, Books, Religion & Spirituality, Earth-Based Religions, Subjects, Wicca]                                                                                                                                                                                 |\n",
            "|AEOBOF2ONQJWV |[Witchcraft, Books, Religion & Spirituality, Earth-Based Religions, Subjects, Wicca]                                                                                                                                                                                 |\n",
            "|A3IGHTES8ME05L|[Witchcraft, Books, Religion & Spirituality, Earth-Based Religions, Subjects, Wicca]                                                                                                                                                                                 |\n",
            "|A1CP26N8RHYVVO|[Witchcraft, Books, Religion & Spirituality, Earth-Based Religions, Subjects, Wicca]                                                                                                                                                                                 |\n",
            "|ANEIANH0WAT9D |[Witchcraft, Books, Religion & Spirituality, Earth-Based Religions, Subjects, Wicca]                                                                                                                                                                                 |\n",
            "|A3IDGASRQAW8B2|[Home & Garden, Books, General, Crafts & Hobbies, Subjects]                                                                                                                                                                                                          |\n",
            "|A2591BUPXCS705|[Christianity, History & Reference, Life Application, Bible & Other Sacred Texts, Books, New Testament, Bibles, General, Study Guides, Christian Living, Bible, Commentaries, Discipleship, Religion & Spirituality, Translations, Subjects, Reference]              |\n",
            "|ATVPDKIKX0DER |[World War II, Naval, Photography Books, Camera & Photo, Sociology, Nonfiction, Books, Social Sciences, Americas, Military, Photography, United States, Styles, Jazz, General, Photo Essays, History, Subjects, Urban, Arts & Photography, Jewish, Music, Categories]|\n",
            "|AUEZ7NVOEHYRY |[Urban, Arts & Photography, Camera & Photo, United States, Sociology, Photography, Nonfiction, Books, Jewish, General, Social Sciences, Photo Essays, Americas, Subjects, History, Photography Books, Categories]                                                    |\n",
            "|AJYG6ZJUQPZ9M |[Urban, Arts & Photography, Camera & Photo, United States, Sociology, Photography, Nonfiction, Books, Jewish, General, Social Sciences, Photo Essays, Americas, Subjects, History, Photography Books, Categories]                                                    |\n",
            "|A2ESGJTTLJWIAK|[Urban, Arts & Photography, Camera & Photo, United States, Sociology, Photography, Nonfiction, Books, Jewish, General, Social Sciences, Photo Essays, Americas, Subjects, History, Photography Books, Categories]                                                    |\n",
            "+--------------+---------------------------------------------------------------------------------------------------------------------------------------------------------------------------------------------------------------------------------------------------------------------+\n",
            "only showing top 20 rows\n",
            "\n"
          ]
        }
      ],
      "source": [
        "user_dat = user_char.drop('avg_votes','avg_helpful_votes','group_set',)\n",
        "user_dat.show(truncate=False)"
      ]
    },
    {
      "cell_type": "code",
      "execution_count": null,
      "metadata": {
        "colab": {
          "background_save": true
        },
        "id": "rXU3rBUvomLK",
        "outputId": "e962e17e-16b6-4272-9385-8c03268a6b56"
      },
      "outputs": [
        {
          "name": "stdout",
          "output_type": "stream",
          "text": [
            "+----------+-----------------------------------------------------------------------------------------------------------------------------+----------------------------------------------------------------------------------------------------------------------------------------------------------------------------------------------------------------------------------------------------------------------------------------------------------------------------+------------------------------------------------------------+\n",
            "|ASIN      |title                                                                                                                        |category                                                                                                                                                                                                                                                                                                                    |similar_set                                                 |\n",
            "+----------+-----------------------------------------------------------------------------------------------------------------------------+----------------------------------------------------------------------------------------------------------------------------------------------------------------------------------------------------------------------------------------------------------------------------------------------------------------------------+------------------------------------------------------------+\n",
            "|0113300174|Service Delivery (It Infrastructure Library Series)                                                                          |[Company Profiles, Business & Investing Books, Management & Leadership, Amazon.com Stores, Books, Business & Investing, General, Biographies & Primers, Management Science, Home & Office, Subjects, Reference]                                                                                                             |[0113308655, 0113308779, 0113308663, 0975568604, 011330014X]|\n",
            "|0231096704|The Columbia Anthology of Gay Literature                                                                                     |[Special Groups, Nonfiction, Books, Social Sciences, General, Gay & Lesbian, Literature & Fiction, Classics, Lesbian Studies, Subjects]                                                                                                                                                                                     |[0385492286, 0300080883, 0140172483, 0375707409, 0520078748]|\n",
            "|0231118597|Losing Matt Shepard                                                                                                          |[Criminology, Crime & Criminals, Politics, Nonfiction, Books, General, Gay & Lesbian, U.S., Subjects]                                                                                                                                                                                                                       |[B000067D0Y, 0375727191, 080148605X, 1560232579, 0300089023]|\n",
            "|0312199406|Night of Many Dreams : A Novel                                                                                               |[Contemporary, Books, Popular Fiction, General, Book Clubs, Specialty Stores, Literature & Fiction, Subjects]                                                                                                                                                                                                               |[0312267568, 0312316089, 0312099436, 0312144075, 0446674346]|\n",
            "|0312982178|Water Touching Stone                                                                                                         |[Mystery, Mystery & Thrillers, Books, General, Subjects]                                                                                                                                                                                                                                                                    |[0312978340, 0312330898, 0312277598, 1569473412, 1569472424]|\n",
            "|0375709363|The Edward Said Reader                                                                                                       |[History & Criticism, Criticism & Theory, Politics, Nonfiction, Anthropology, Books, Social Sciences, Cultural, General, Literature & Fiction, History & Theory, Subjects]                                                                                                                                                  |[039474067X, 0679730672, 0679750541, 1400030668, 0896086704]|\n",
            "|0393037622|Blood and Guts: A Short History of Medicine                                                                                  |[Science, Mathematics, Medicine, Special Topics, Books, General, History, Subjects]                                                                                                                                                                                                                                         |[0393050750, 0521566681, 0192802674, 0393319806, 157912156X]|\n",
            "|0393971694|Renaissance Music: Music in Western Europe, 1400-1600 (Norton Introduction to Music History)                                 |[History & Criticism, Humanities, Entertainment, New & Used Textbooks, Appreciation & History, Books, General, Specialty Stores, History, Europe, Art & Music, Music, Subjects]                                                                                                                                             |[0393971708, 0393090906, 0195122321, 0136081924, 039395272X]|\n",
            "|039572774X|The American Heritage Dictionary of Idioms                                                                                   |[English (All), Dictionaries & Thesauruses, Books, Slang & Idioms, General, Subjects, Reference]                                                                                                                                                                                                                            |[006270107X, 0844204625, 0590381571, 0844257796, 0764119826]|\n",
            "|042515517X|Year of the Tiger                                                                                                            |[Spy Stories & Tales of Intrigue, Mystery & Thrillers, Contemporary, Books, General, Thrillers, Literature & Fiction, Subjects]                                                                                                                                                                                             |[0425161021, 0425146707, 0425176312, 0671725319, 0425184250]|\n",
            "|0439240751|Double Jeopardy (T*Witches, 6)                                                                                               |[Series, Literature, Science Fiction, Twins, Issues, jp-unknown1, Books, & Magic, Mystery & Horror, Science Fiction & Fantasy, Fantasy & Adventure, Specialty Stores, Children's Books, Fantasy, Teens, Subjects, T.Witches]                                                                                                |[0439492327, 0439240727, 0439240719, 0439240700, 0061062499]|\n",
            "|0486220125|How the Other Half Lives: Studies Among the Tenements of New York                                                            |[Urban, Arts & Photography, Categories, United States, Sociology, Camera & Photo, Photography Books, Nonfiction, Books, Jewish, General, Social Sciences, Photo Essays, Americas, History, Photography, Subjects]                                                                                                           |[0486401960, 0452283612, 0486229076, 0714840343, 0374528993]|\n",
            "|0613100093|Betsy & Tacy Go over the Big Hill (Betsy and Tacy Books)                                                                     |[Series, Fiction, Literature, Action & Adventure, Children's Books, People & Places, Friendship, Books, Ages 9-12, General, Social Situations, Classics, Betsy & Tacy, Subjects]                                                                                                                                            |[0064400964, 0064401103, 0064401111, 0064405478, 0064405451]|\n",
            "|0689846088|A Charlie Brown Christmas                                                                                                    |[Fiction, Ages 4-8, Picture Books, Holidays & Festivals, People & Places, Books, General, Christmas, Children's Books, Subjects]                                                                                                                                                                                            |[068984607X, 0689850271, 0689848218, 0689848226, 0689851634]|\n",
            "|0761116982|Staff Meals from Chanterelle                                                                                                 |[U.S. Regional, Food & Wine, Regional & International, Professional, Middle Atlantic, Books, General, Cooking, History, Gastronomy, Professional Cooking, Subjects]                                                                                                                                                         |[1579652395, 0393020436, 0767903609, 0312290233, 0471287857]|\n",
            "|0786863919|Disney A to Z : The Updated Official Encyclopedia (Disney a to Z)                                                            |[Antiques & Collectibles, Television, Home & Garden, Entertainment, Books, Movies, Art, Americana, Pop Culture, Encyclopedias, Subjects, Reference]                                                                                                                                                                         |[0786853808, 1887140492, 0786885270, 1562829254, 0786854065]|\n",
            "|0842328327|Life Application Bible Commentary: 1 and 2 Timothy and Titus                                                                 |[Christianity, Translations, History & Reference, Life Application, Bible & Other Sacred Texts, Books, New Testament, Bibles, General, Study Guides, Christian Living, Bible, Commentaries, Discipleship, Religion & Spirituality, Subjects, Reference]                                                                     |[0842328130, 0830818138, 0842330313, 0842328610, 0842328572]|\n",
            "|0875420532|Secrets of Gypsy Love Magick (Llewellyn's New Age Series)                                                                    |[Love & Romance, Occultism, Magic, Sociology, Relationships, Nonfiction, Folklore & Mythology, Books, Mind & Body, Social Sciences, General, Occult, Health, Religion & Spirituality, Subjects]                                                                                                                             |[1567180906, 0875420516, 156718099X, 1567180973, 1578632617]|\n",
            "|0939165252|Jailed for Freedom: American Women Win the Vote                                                                              |[Women's Studies, Nonfiction, Books, History, Government, Subjects, Elections]                                                                                                                                                                                                                                              |[059500055X, B00026L9CU, 0471426121, 0791453200, 0674106539]|\n",
            "|0966723821|Historia De Cancer De Una Dietista : Informacion & Inspiracion para la Recuperacion & Curacion Sobreviviente de tres canceres|[Professionals & Academics, Internal Medicine, Mind & Body, Alternative Medicine, Biographies & Memoirs, Nutrition, Cancer, Medical, Disorders & Diseases, Libros en español, Formats, Books, Health, Special Conditions, General, Subjects, Medicine, Special Topics, Diets & Weight Loss, Oncology, Biografías y memorias]|[0972252207, 0963837281, 0471346683, 0553381628, 0812930665]|\n",
            "+----------+-----------------------------------------------------------------------------------------------------------------------------+----------------------------------------------------------------------------------------------------------------------------------------------------------------------------------------------------------------------------------------------------------------------------------------------------------------------------+------------------------------------------------------------+\n",
            "only showing top 20 rows\n",
            "\n"
          ]
        }
      ],
      "source": [
        "item_dat = item_char.drop('avg_rating','group','salesrank')\n",
        "item_dat.show(truncate=False)"
      ]
    },
    {
      "cell_type": "code",
      "execution_count": null,
      "metadata": {
        "colab": {
          "background_save": true
        },
        "id": "vy5v-r4Ps_-3",
        "outputId": "c3a1ff02-5dbc-4813-99e7-fefc3aa961f1"
      },
      "outputs": [
        {
          "name": "stdout",
          "output_type": "stream",
          "text": [
            "{'A2JW67OY8U6HHK': ['Preaching', 'Christianity', 'Books', 'Sermons', 'Clergy', 'Religion & Spirituality', 'Subjects'], 'A2VE83MZF98ITY': ['Preaching', 'Christianity', 'Books', 'Sermons', 'Clergy', 'Religion & Spirituality', 'Subjects'], 'A11NCO6YTE4BTJ': ['Witchcraft', 'Books', 'Religion & Spirituality', 'Earth-Based Religions', 'Subjects', 'Wicca'], 'A9CQ3PLRNIR83': ['Witchcraft', 'Books', 'Religion & Spirituality', 'Earth-Based Religions', 'Subjects', 'Wicca'], 'A13SG9ACZ9O5IM': ['Witchcraft', 'Books', 'Religion & Spirituality', 'Earth-Based Religions', 'Subjects', 'Wicca'], 'A1BDAI6VEYMAZA': ['Witchcraft', 'Books', 'Religion & Spirituality', 'Earth-Based Religions', 'Subjects', 'Wicca'], 'A2P6KAWXJ16234': ['Witchcraft', 'Books', 'Religion & Spirituality', 'Earth-Based Religions', 'Subjects', 'Wicca'], 'AMACWC3M7PQFR': ['Witchcraft', 'Books', 'Religion & Spirituality', 'Earth-Based Religions', 'Subjects', 'Wicca'], 'A3GO7UV9XX14D8': ['Witchcraft', 'Books', 'Religion & Spirituality', 'Earth-Based Religions', 'Subjects', 'Wicca'], 'A1GIL64QK68WKL': ['Witchcraft', 'Books', 'Religion & Spirituality', 'Earth-Based Religions', 'Subjects', 'Wicca'], 'AEOBOF2ONQJWV': ['Witchcraft', 'Books', 'Religion & Spirituality', 'Earth-Based Religions', 'Subjects', 'Wicca'], 'A3IGHTES8ME05L': ['Witchcraft', 'Books', 'Religion & Spirituality', 'Earth-Based Religions', 'Subjects', 'Wicca'], 'A1CP26N8RHYVVO': ['Witchcraft', 'Books', 'Religion & Spirituality', 'Earth-Based Religions', 'Subjects', 'Wicca'], 'ANEIANH0WAT9D': ['Witchcraft', 'Books', 'Religion & Spirituality', 'Earth-Based Religions', 'Subjects', 'Wicca'], 'A3IDGASRQAW8B2': ['Home & Garden', 'Books', 'General', 'Crafts & Hobbies', 'Subjects'], 'A2591BUPXCS705': ['Christianity', 'History & Reference', 'Life Application', 'Bible & Other Sacred Texts', 'Books', 'New Testament', 'Bibles', 'General', 'Study Guides', 'Christian Living', 'Bible', 'Commentaries', 'Discipleship', 'Religion & Spirituality', 'Translations', 'Subjects', 'Reference'], 'ATVPDKIKX0DER': ['World War II', 'Naval', 'Photography Books', 'Camera & Photo', 'Sociology', 'Nonfiction', 'Books', 'Social Sciences', 'Americas', 'Military', 'Photography', 'United States', 'Styles', 'Jazz', 'General', 'Photo Essays', 'History', 'Subjects', 'Urban', 'Arts & Photography', 'Jewish', 'Music', 'Categories'], 'AUEZ7NVOEHYRY': ['Urban', 'Arts & Photography', 'Camera & Photo', 'United States', 'Sociology', 'Photography', 'Nonfiction', 'Books', 'Jewish', 'General', 'Social Sciences', 'Photo Essays', 'Americas', 'Subjects', 'History', 'Photography Books', 'Categories'], 'AJYG6ZJUQPZ9M': ['Urban', 'Arts & Photography', 'Camera & Photo', 'United States', 'Sociology', 'Photography', 'Nonfiction', 'Books', 'Jewish', 'General', 'Social Sciences', 'Photo Essays', 'Americas', 'Subjects', 'History', 'Photography Books', 'Categories'], 'A2ESGJTTLJWIAK': ['Urban', 'Arts & Photography', 'Camera & Photo', 'United States', 'Sociology', 'Photography', 'Nonfiction', 'Books', 'Jewish', 'General', 'Social Sciences', 'Photo Essays', 'Americas', 'Subjects', 'History', 'Photography Books', 'Categories'], 'A2CHULHAO3A9BY': ['Urban', 'Arts & Photography', 'Camera & Photo', 'United States', 'Sociology', 'Photography', 'Nonfiction', 'Books', 'Jewish', 'General', 'Social Sciences', 'Photo Essays', 'Americas', 'Subjects', 'History', 'Photography Books', 'Categories'], 'A3BNWP7ATVP045': ['Urban', 'Arts & Photography', 'Camera & Photo', 'United States', 'Sociology', 'Photography', 'Nonfiction', 'Books', 'Jewish', 'General', 'Social Sciences', 'Photo Essays', 'Americas', 'Subjects', 'History', 'Photography Books', 'Categories'], 'AVOQ12GBXJ3F': ['Urban', 'Arts & Photography', 'Camera & Photo', 'United States', 'Sociology', 'Photography', 'Nonfiction', 'Books', 'Jewish', 'General', 'Social Sciences', 'Photo Essays', 'Americas', 'Subjects', 'History', 'Photography Books', 'Categories'], 'A2NJO6YE954DBH': ['Urban', 'Arts & Photography', 'Camera & Photo', 'United States', 'Sociology', 'Photography', 'Nonfiction', 'Books', 'Jewish', 'General', 'Social Sciences', 'Photo Essays', 'Americas', 'Subjects', 'History', 'Photography Books', 'Categories'], 'A393PYR83LT7R8': ['Urban', 'Arts & Photography', 'Camera & Photo', 'United States', 'Sociology', 'Photography', 'Nonfiction', 'Books', 'Jewish', 'General', 'Social Sciences', 'Photo Essays', 'Americas', 'Subjects', 'History', 'Photography Books', 'Categories'], 'AVY10FEFM6OBC': ['Urban', 'Arts & Photography', 'Camera & Photo', 'United States', 'Sociology', 'Photography', 'Nonfiction', 'Books', 'Jewish', 'General', 'Social Sciences', 'Photo Essays', 'Americas', 'Subjects', 'History', 'Photography Books', 'Categories'], 'A2OSPW11FVXTU6': ['Urban', 'Arts & Photography', 'Camera & Photo', 'United States', 'Sociology', 'Photography', 'Nonfiction', 'Books', 'Jewish', 'General', 'Social Sciences', 'Photo Essays', 'Americas', 'Subjects', 'History', 'Photography Books', 'Categories'], 'A32Z5HQGTG5V49': ['Urban', 'Arts & Photography', 'Camera & Photo', 'United States', 'Sociology', 'Photography', 'Nonfiction', 'Books', 'Jewish', 'General', 'Social Sciences', 'Photo Essays', 'Americas', 'Subjects', 'History', 'Photography Books', 'Categories'], 'A2WSI8HOWHFDOT': ['Urban', 'Arts & Photography', 'Camera & Photo', 'United States', 'Sociology', 'Photography', 'Nonfiction', 'Books', 'Jewish', 'General', 'Social Sciences', 'Photo Essays', 'Americas', 'Subjects', 'History', 'Photography Books', 'Categories'], 'A3BGC9MSXGM0WH': ['Urban', 'Arts & Photography', 'Camera & Photo', 'United States', 'Sociology', 'Photography', 'Nonfiction', 'Books', 'Jewish', 'General', 'Social Sciences', 'Photo Essays', 'Americas', 'Subjects', 'History', 'Photography Books', 'Categories'], 'A1IU7S4HCK1XK0': ['Urban', 'Arts & Photography', 'Camera & Photo', 'United States', 'Sociology', 'Photography', 'Nonfiction', 'Books', 'Jewish', 'General', 'Social Sciences', 'Photo Essays', 'Americas', 'Subjects', 'History', 'Photography Books', 'Categories'], 'A30JTDN020MAJB': ['Urban', 'Arts & Photography', 'Camera & Photo', 'United States', 'Sociology', 'Photography', 'Nonfiction', 'Books', 'Jewish', 'General', 'Social Sciences', 'Photo Essays', 'Americas', 'Subjects', 'History', 'Photography Books', 'Categories'], 'A2O3PW57IFNUHV': ['Styles', 'Imports', 'Jazz', 'General', 'Specialty Stores', 'Modern Postbebop', 'Music'], 'A3FNRL9QYZOBDH': ['Styles', 'Imports', 'Jazz', 'General', 'Specialty Stores', 'Modern Postbebop', 'Music'], 'A3SWAHVVHVPKWZ': ['Styles', 'Imports', 'Jazz', 'General', 'Specialty Stores', 'Modern Postbebop', 'Music'], 'A2F1X6YFCJZ1FH': ['Criminology', 'Crime & Criminals', 'Politics', 'Nonfiction', 'Books', 'General', 'Gay & Lesbian', 'U.S.', 'Subjects'], 'A1OZQCZAK21S6M': ['Criminology', 'Crime & Criminals', 'Politics', 'Nonfiction', 'Books', 'General', 'Gay & Lesbian', 'U.S.', 'Subjects'], 'AL5D52NA8F67F': ['Criminology', 'Crime & Criminals', 'Politics', 'Nonfiction', 'Books', 'General', 'Gay & Lesbian', 'U.S.', 'Subjects'], 'AVFBIM1W41IXO': ['Criminology', 'Crime & Criminals', 'Politics', 'Nonfiction', 'Books', 'General', 'Gay & Lesbian', 'U.S.', 'Subjects'], 'A3I6SOXDIE0M8R': ['Criminology', 'Crime & Criminals', 'Politics', 'Nonfiction', 'Books', 'General', 'Gay & Lesbian', 'U.S.', 'Subjects'], 'A3559TE3F9RRNL': ['Criminology', 'Crime & Criminals', 'Politics', 'Nonfiction', 'Books', 'General', 'Gay & Lesbian', 'U.S.', 'Subjects'], 'ASPUU0H77LFXG': ['Criminology', 'Crime & Criminals', 'Politics', 'Nonfiction', 'Books', 'General', 'Gay & Lesbian', 'U.S.', 'Subjects'], 'A3L902U49A6X5K': ['Criminology', 'Crime & Criminals', 'Politics', 'Nonfiction', 'Books', 'General', 'Gay & Lesbian', 'U.S.', 'Subjects'], 'AL5OEDM8TPTKV': ['Criminology', 'Crime & Criminals', 'Politics', 'Nonfiction', 'Books', 'General', 'Gay & Lesbian', 'U.S.', 'Subjects'], 'A1R64WON03GTN4': ['Criminology', 'Crime & Criminals', 'Politics', 'Nonfiction', 'Books', 'General', 'Gay & Lesbian', 'U.S.', 'Subjects'], 'A2WKESDGF2YC8S': ['Criminology', 'Crime & Criminals', 'Politics', 'Nonfiction', 'Books', 'General', 'Gay & Lesbian', 'U.S.', 'Subjects'], 'A71P2O8OMF8GY': ['Criminology', 'Crime & Criminals', 'Politics', 'Nonfiction', 'Books', 'General', 'Gay & Lesbian', 'U.S.', 'Subjects'], 'AB8HLDYSDI5M7': ['Criminology', 'Crime & Criminals', 'Politics', 'Nonfiction', 'Books', 'General', 'Gay & Lesbian', 'U.S.', 'Subjects'], 'A37FDCXZLI0MAC': ['Criminology', 'Crime & Criminals', 'Politics', 'Nonfiction', 'Books', 'General', 'Gay & Lesbian', 'U.S.', 'Subjects'], 'AQE41QO3NEUMW': ['Criminology', 'Crime & Criminals', 'Politics', 'Nonfiction', 'Books', 'General', 'Gay & Lesbian', 'U.S.', 'Subjects'], 'A2RI73IFW2GWU1': ['History & Criticism', 'Politics', 'Nonfiction', 'Anthropology', 'Books', 'Social Sciences', 'Cultural', 'General', 'Criticism & Theory', 'History & Theory', 'Literature & Fiction', 'Subjects'], 'A1GE54WF2WUZ2X': ['History & Criticism', 'Politics', 'Nonfiction', 'Anthropology', 'Books', 'Social Sciences', 'Cultural', 'General', 'Criticism & Theory', 'History & Theory', 'Literature & Fiction', 'Subjects'], 'A36S399V1VC4DR': ['History & Criticism', 'Politics', 'Nonfiction', 'Anthropology', 'Books', 'Social Sciences', 'Cultural', 'General', 'Criticism & Theory', 'History & Theory', 'Literature & Fiction', 'Subjects'], 'A280GY5UVUS2QH': ['History & Criticism', 'Politics', 'Nonfiction', 'Anthropology', 'Books', 'Social Sciences', 'Cultural', 'General', 'Criticism & Theory', 'History & Theory', 'Literature & Fiction', 'Subjects'], 'A2YHZJIU4L4IOI': ['History & Criticism', 'Politics', 'Nonfiction', 'Anthropology', 'Books', 'Social Sciences', 'Cultural', 'General', 'Criticism & Theory', 'History & Theory', 'Literature & Fiction', 'Subjects'], 'A1MB83EO48TRSC': ['History & Criticism', 'Politics', 'Nonfiction', 'Anthropology', 'Books', 'Social Sciences', 'Cultural', 'General', 'Criticism & Theory', 'History & Theory', 'Literature & Fiction', 'Subjects'], 'A2A1TNBFJNRADP': ['Professional & Technical', 'Alternative & Holistic', 'Medical', 'Medicine', 'Mind & Body', 'Books', 'General', 'Specialty Stores', 'Alternative Medicine', 'jp-unknown2', 'Health', 'Subjects'], 'A2V9UBVMQFDV20': ['Mind & Body', 'Herbs', 'Nutrition', 'Spices & Condiments', 'Low-Fat Diet', 'Low Fat', 'Books', 'Health', 'Special Conditions', 'Special Diet', 'General', 'Low Sugar', 'Diets', 'Subjects', 'Food & Wine', 'Low Carb', 'Diets & Weight Loss', 'Low Carbohydrate', 'Diabetic & Sugar-Free', 'Cooking', 'Cooking by Ingredient'], 'A3NXQLHXJZO5FB': ['Mind & Body', 'Herbs', 'Nutrition', 'Spices & Condiments', 'Low-Fat Diet', 'Low Fat', 'Books', 'Health', 'Special Conditions', 'Special Diet', 'General', 'Low Sugar', 'Diets', 'Subjects', 'Food & Wine', 'Low Carb', 'Diets & Weight Loss', 'Low Carbohydrate', 'Diabetic & Sugar-Free', 'Cooking', 'Cooking by Ingredient'], 'A1RNV50D6DNE42': ['Mind & Body', 'Herbs', 'Nutrition', 'Spices & Condiments', 'Low-Fat Diet', 'Low Fat', 'Books', 'Health', 'Special Conditions', 'Special Diet', 'General', 'Low Sugar', 'Diets', 'Subjects', 'Food & Wine', 'Low Carb', 'Diets & Weight Loss', 'Low Carbohydrate', 'Diabetic & Sugar-Free', 'Cooking', 'Cooking by Ingredient'], 'A3FVNS48MY8L32': ['Mind & Body', 'Herbs', 'Nutrition', 'Spices & Condiments', 'Low-Fat Diet', 'Low Fat', 'Books', 'Health', 'Special Conditions', 'Special Diet', 'General', 'Low Sugar', 'Diets', 'Subjects', 'Food & Wine', 'Low Carb', 'Diets & Weight Loss', 'Low Carbohydrate', 'Diabetic & Sugar-Free', 'Cooking', 'Cooking by Ingredient'], 'A1WC6GEAVET9K8': ['Mind & Body', 'Herbs', 'Nutrition', 'Spices & Condiments', 'Low-Fat Diet', 'Low Fat', 'Books', 'Health', 'Special Conditions', 'Special Diet', 'General', 'Low Sugar', 'Diets', 'Subjects', 'Food & Wine', 'Low Carb', 'Diets & Weight Loss', 'Low Carbohydrate', 'Diabetic & Sugar-Free', 'Cooking', 'Cooking by Ingredient'], 'A1PH1HGK2HFQ9G': ['Mind & Body', 'Herbs', 'Nutrition', 'Spices & Condiments', 'Low-Fat Diet', 'Low Fat', 'Books', 'Health', 'Special Conditions', 'Special Diet', 'General', 'Low Sugar', 'Diets', 'Subjects', 'Food & Wine', 'Low Carb', 'Diets & Weight Loss', 'Low Carbohydrate', 'Diabetic & Sugar-Free', 'Cooking', 'Cooking by Ingredient'], 'A1DOK8OJ386KDS': ['Mind & Body', 'Herbs', 'Nutrition', 'Spices & Condiments', 'Low-Fat Diet', 'Low Fat', 'Books', 'Health', 'Special Conditions', 'Special Diet', 'General', 'Low Sugar', 'Diets', 'Subjects', 'Food & Wine', 'Low Carb', 'Diets & Weight Loss', 'Low Carbohydrate', 'Diabetic & Sugar-Free', 'Cooking', 'Cooking by Ingredient'], 'A1E4FW0F5R7TOY': ['Mind & Body', 'Herbs', 'Nutrition', 'Spices & Condiments', 'Low-Fat Diet', 'Low Fat', 'Books', 'Health', 'Special Conditions', 'Special Diet', 'General', 'Low Sugar', 'Diets', 'Subjects', 'Food & Wine', 'Low Carb', 'Diets & Weight Loss', 'Low Carbohydrate', 'Diabetic & Sugar-Free', 'Cooking', 'Cooking by Ingredient'], 'A14OJS0VWMOSWO': ['Mind & Body', 'Herbs', 'Nutrition', 'Spices & Condiments', 'Low-Fat Diet', 'Low Fat', 'Books', 'Health', 'Special Conditions', 'Special Diet', 'General', 'Low Sugar', 'Diets', 'Subjects', 'Food & Wine', 'Low Carb', 'Diets & Weight Loss', 'Low Carbohydrate', 'Diabetic & Sugar-Free', 'Cooking', 'Cooking by Ingredient'], 'A3UDEP0MTKLLL2': ['Mind & Body', 'Herbs', 'Nutrition', 'Spices & Condiments', 'Low-Fat Diet', 'Low Fat', 'Books', 'Health', 'Special Conditions', 'Special Diet', 'General', 'Low Sugar', 'Diets', 'Subjects', 'Food & Wine', 'Low Carb', 'Diets & Weight Loss', 'Low Carbohydrate', 'Diabetic & Sugar-Free', 'Cooking', 'Cooking by Ingredient'], 'A19UTUEBWKIZFT': ['Mind & Body', 'Herbs', 'Nutrition', 'Spices & Condiments', 'Low-Fat Diet', 'Low Fat', 'Books', 'Health', 'Special Conditions', 'Special Diet', 'General', 'Low Sugar', 'Diets', 'Subjects', 'Food & Wine', 'Low Carb', 'Diets & Weight Loss', 'Low Carbohydrate', 'Diabetic & Sugar-Free', 'Cooking', 'Cooking by Ingredient'], 'A35X1EMOVF90JG': ['Mind & Body', 'Herbs', 'Nutrition', 'Spices & Condiments', 'Low-Fat Diet', 'Low Fat', 'Books', 'Health', 'Special Conditions', 'Special Diet', 'General', 'Low Sugar', 'Diets', 'Subjects', 'Food & Wine', 'Low Carb', 'Diets & Weight Loss', 'Low Carbohydrate', 'Diabetic & Sugar-Free', 'Cooking', 'Cooking by Ingredient'], 'A2IGOA66Y6O8TQ': ['Bogosian', 'Arts & Photography', 'Eric', 'Drama', 'United States', 'Authors', 'Books', '( B )', 'General', 'Performing Arts', 'Literature & Fiction', 'Theater', 'A-Z', 'Subjects'], 'A2OIN4AUH84KNE': ['Bogosian', 'Arts & Photography', 'Eric', 'Drama', 'United States', 'Authors', 'Books', '( B )', 'General', 'Performing Arts', 'Literature & Fiction', 'Theater', 'A-Z', 'Subjects'], 'A2HN382JNT1CIU': ['Bogosian', 'Arts & Photography', 'Eric', 'Drama', 'United States', 'Authors', 'Books', '( B )', 'General', 'Performing Arts', 'Literature & Fiction', 'Theater', 'A-Z', 'Subjects'], 'A2FDJ79LDU4O18': ['Bogosian', 'Arts & Photography', 'Eric', 'Drama', 'United States', 'Authors', 'Books', '( B )', 'General', 'Performing Arts', 'Literature & Fiction', 'Theater', 'A-Z', 'Subjects'], 'A39QMV9ZKRJXO5': ['Bogosian', 'Arts & Photography', 'Eric', 'Drama', 'United States', 'Authors', 'Books', '( B )', 'General', 'Performing Arts', 'Literature & Fiction', 'Theater', 'A-Z', 'Subjects'], 'AUUVMSTQ1TXDI': ['Bogosian', 'Arts & Photography', 'Eric', 'Drama', 'United States', 'Authors', 'Books', '( B )', 'General', 'Performing Arts', 'Literature & Fiction', 'Theater', 'A-Z', 'Subjects'], 'A2C5K0QTLL9UAT': ['Bogosian', 'Arts & Photography', 'Eric', 'Drama', 'United States', 'Authors', 'Books', '( B )', 'General', 'Performing Arts', 'Literature & Fiction', 'Theater', 'A-Z', 'Subjects'], 'A5XYF0Z3UH4HB': ['Bogosian', 'Arts & Photography', 'Eric', 'Drama', 'United States', 'Authors', 'Books', '( B )', 'General', 'Performing Arts', 'Literature & Fiction', 'Theater', 'A-Z', 'Subjects'], 'A2C4FHNHVRR8JZ': ['World War II', 'Naval', 'Books', 'General', 'History', 'Military', 'Subjects'], 'A1XPCHKIFECW33': ['World War II', 'Naval', 'Books', 'General', 'History', 'Military', 'Subjects'], 'A17VTMYNK7FHHG': ['World War II', 'Naval', 'Books', 'General', 'History', 'Military', 'Subjects'], 'A331OF34UX4Y1K': ['World War II', 'Naval', 'Books', 'General', 'History', 'Military', 'Subjects'], 'A3KMI0ZF739BW5': ['World War II', 'Naval', 'Books', 'General', 'History', 'Military', 'Subjects'], 'A26BWRBPP4V2WF': ['World War II', 'Naval', 'Books', 'General', 'History', 'Military', 'Subjects'], 'A3AAX9AO0CIFBI': ['World War II', 'Naval', 'Books', 'General', 'History', 'Military', 'Subjects'], 'A2DOKCCVTGTAE2': ['World War II', 'Naval', 'Books', 'General', 'History', 'Military', 'Subjects'], 'A1BVYFPZ0ZAYYV': ['World War II', 'Naval', 'Books', 'General', 'History', 'Military', 'Subjects'], 'A3DMU8D8N76WRH': ['Industrial', 'Engineering', 'Business & Investing Books', 'Management & Leadership', 'Books', 'Amazon.com Stores', 'General', 'Computers & Internet', 'Business & Investing', 'Hardware', 'Engineering Economics', 'Management', 'Subjects', 'Manufacturing & Operational Systems', 'Home & Office', 'Microprocessors & System Design', 'Telecommunications'], 'AH1H2DBKZ8WFA': ['Industrial', 'Engineering', 'Business & Investing Books', 'Management & Leadership', 'Books', 'Amazon.com Stores', 'General', 'Computers & Internet', 'Business & Investing', 'Hardware', 'Engineering Economics', 'Management', 'Subjects', 'Manufacturing & Operational Systems', 'Home & Office', 'Microprocessors & System Design', 'Telecommunications'], 'A3S1M10UPEQ3ED': ['Industrial', 'Engineering', 'Business & Investing Books', 'Management & Leadership', 'Books', 'Amazon.com Stores', 'General', 'Computers & Internet', 'Business & Investing', 'Hardware', 'Engineering Economics', 'Management', 'Subjects', 'Manufacturing & Operational Systems', 'Home & Office', 'Microprocessors & System Design', 'Telecommunications'], 'A21F29TO32JOU5': ['Styles', 'Jazz', 'Music', 'General'], 'A37S91N4IX72W2': ['Styles', 'Jazz', 'Music', 'General'], 'A1SXWD2D3W3TXK': ['Styles', 'Jazz', 'Music', 'General'], 'AKMBV0IV5WIC5': ['Styles', 'Jazz', 'Music', 'General'], 'A3QSUZVVNYZZ7L': ['Styles', 'Jazz', 'Music', 'General'], 'A1HNKSWGRW0YKB': ['Styles', 'Jazz', 'Music', 'General']}\n"
          ]
        }
      ],
      "source": [
        "user_characteristics = user_dat.rdd.map(lambda row: (row['customer id'], row['category_set'])).collectAsMap()\n",
        "print(user_characteristics)\n"
      ]
    },
    {
      "cell_type": "code",
      "execution_count": null,
      "metadata": {
        "colab": {
          "background_save": true
        },
        "id": "Om1UMNhhtDmM",
        "outputId": "e14a3fc8-2132-411d-e9f6-9e1e3f6238a2"
      },
      "outputs": [
        {
          "name": "stdout",
          "output_type": "stream",
          "text": [
            "{'0113300174': ['Company Profiles', 'Business & Investing Books', 'Management & Leadership', 'Amazon.com Stores', 'Books', 'Business & Investing', 'General', 'Biographies & Primers', 'Management Science', 'Home & Office', 'Subjects', 'Reference'], '0231096704': ['Special Groups', 'Nonfiction', 'Books', 'Social Sciences', 'General', 'Gay & Lesbian', 'Literature & Fiction', 'Classics', 'Lesbian Studies', 'Subjects'], '0231118597': ['Criminology', 'Crime & Criminals', 'Politics', 'Nonfiction', 'Books', 'General', 'Gay & Lesbian', 'U.S.', 'Subjects'], '0312199406': ['Contemporary', 'Books', 'Popular Fiction', 'General', 'Book Clubs', 'Specialty Stores', 'Literature & Fiction', 'Subjects'], '0312982178': ['Mystery', 'Mystery & Thrillers', 'Books', 'General', 'Subjects'], '0375709363': ['History & Criticism', 'Criticism & Theory', 'Politics', 'Nonfiction', 'Anthropology', 'Books', 'Social Sciences', 'Cultural', 'General', 'Literature & Fiction', 'History & Theory', 'Subjects'], '0393037622': ['Science', 'Mathematics', 'Medicine', 'Special Topics', 'Books', 'General', 'History', 'Subjects'], '0393971694': ['History & Criticism', 'Humanities', 'Entertainment', 'New & Used Textbooks', 'Appreciation & History', 'Books', 'General', 'Specialty Stores', 'History', 'Europe', 'Art & Music', 'Music', 'Subjects'], '039572774X': ['English (All)', 'Dictionaries & Thesauruses', 'Books', 'Slang & Idioms', 'General', 'Subjects', 'Reference'], '042515517X': ['Spy Stories & Tales of Intrigue', 'Mystery & Thrillers', 'Contemporary', 'Books', 'General', 'Thrillers', 'Literature & Fiction', 'Subjects'], '0439240751': ['Series', 'Literature', 'Science Fiction', 'Twins', 'Issues', 'jp-unknown1', 'Books', '& Magic', 'Mystery & Horror', 'Science Fiction & Fantasy', 'Fantasy & Adventure', 'Specialty Stores', \"Children's Books\", 'Fantasy', 'Teens', 'Subjects', 'T.Witches'], '0486220125': ['Urban', 'Arts & Photography', 'Categories', 'United States', 'Sociology', 'Camera & Photo', 'Photography Books', 'Nonfiction', 'Books', 'Jewish', 'General', 'Social Sciences', 'Photo Essays', 'Americas', 'History', 'Photography', 'Subjects'], '0613100093': ['Series', 'Fiction', 'Literature', 'Action & Adventure', \"Children's Books\", 'People & Places', 'Friendship', 'Books', 'Ages 9-12', 'General', 'Social Situations', 'Classics', 'Betsy & Tacy', 'Subjects'], '0689846088': ['Fiction', 'Ages 4-8', 'Picture Books', 'Holidays & Festivals', 'People & Places', 'Books', 'General', 'Christmas', \"Children's Books\", 'Subjects'], '0761116982': ['U.S. Regional', 'Food & Wine', 'Regional & International', 'Professional', 'Middle Atlantic', 'Books', 'General', 'Cooking', 'History', 'Gastronomy', 'Professional Cooking', 'Subjects'], '0786863919': ['Antiques & Collectibles', 'Television', 'Home & Garden', 'Entertainment', 'Books', 'Movies', 'Art', 'Americana', 'Pop Culture', 'Encyclopedias', 'Subjects', 'Reference'], '0842328327': ['Christianity', 'Translations', 'History & Reference', 'Life Application', 'Bible & Other Sacred Texts', 'Books', 'New Testament', 'Bibles', 'General', 'Study Guides', 'Christian Living', 'Bible', 'Commentaries', 'Discipleship', 'Religion & Spirituality', 'Subjects', 'Reference'], '0875420532': ['Love & Romance', 'Occultism', 'Magic', 'Sociology', 'Relationships', 'Nonfiction', 'Folklore & Mythology', 'Books', 'Mind & Body', 'Social Sciences', 'General', 'Occult', 'Health', 'Religion & Spirituality', 'Subjects'], '0939165252': [\"Women's Studies\", 'Nonfiction', 'Books', 'History', 'Government', 'Subjects', 'Elections'], '0966723821': ['Professionals & Academics', 'Internal Medicine', 'Mind & Body', 'Alternative Medicine', 'Biographies & Memoirs', 'Nutrition', 'Cancer', 'Medical', 'Disorders & Diseases', 'Libros en español', 'Formats', 'Books', 'Health', 'Special Conditions', 'General', 'Subjects', 'Medicine', 'Special Topics', 'Diets & Weight Loss', 'Oncology', 'Biografías y memorias'], '1559362022': ['Bogosian', 'Arts & Photography', 'Eric', 'Drama', 'United States', 'Authors', 'Books', '( B )', 'General', 'Performing Arts', 'Literature & Fiction', 'Theater', 'A-Z', 'Subjects'], '1566913810': ['Regions', 'Northeast', 'Travel Books', 'United States', 'Amazon.com Stores', 'Books', 'New England', 'Subjects', 'Travel', 'Categories'], '157281196X': ['Entertainment', 'Games', 'Divination', 'Books', 'New Age', 'General', 'Card Games', 'Tarot', 'Religion & Spirituality', 'Subjects'], '1590770218': ['Mind & Body', 'Herbs', 'Nutrition', 'Spices & Condiments', 'Low-Fat Diet', 'Low Fat', 'Books', 'Health', 'Special Conditions', 'Special Diet', 'General', 'Low Sugar', 'Diets', 'Subjects', 'Food & Wine', 'Low Carb', 'Diets & Weight Loss', 'Low Carbohydrate', 'Diabetic & Sugar-Free', 'Cooking', 'Cooking by Ingredient'], '1590930509': ['Literature', 'Fairy Tales', 'Ages 4-8', 'Picture Books', 'Books', 'General', 'Folk Tales & Myths', \"Children's Books\", 'Stories', 'Subjects'], '3895780812': ['Specialties', 'Radiology', 'Professional & Technical', 'Medical', 'Medicine', 'Internal Medicine', 'Books', 'General', 'Computers & Internet', 'Subjects'], '6303360041': ['Matthew', 'Walter', 'Boulton', '( S )', 'Konstantin', 'By Theme', 'VHS', 'Dan', 'Shayne', 'Ethel', 'Fitzgerald', 'Drama', 'Grant', 'Cary', '( F )', 'Bohnen', 'Classics', '( W )', 'Mothers & Sons', 'Family Life', '( C )', 'Coulouris', '( G )', 'Jane', '( B )', 'General', 'George', 'Roman', 'Soderling', 'Wyatt', 'Barrymore', 'Barry', 'Duryea', 'Psychological Drama', '( D )', 'Actors & Actresses', 'Genres'], 'B000002O8D': ['Blues Rock', 'Arena Rock', 'Album-Oriented Rock (AOR)', 'Rock', 'Styles', 'Classic Rock', 'Live Albums', 'Music', 'Southern Rock'], 'B0000060T5': ['Jonny Quest', 'Animation', 'General', 'Kids & Family', 'Genres', 'VHS', 'Characters & Series', '7-9 Years', 'Cartoon Network'], 'B00004W1WK': ['Styles', 'Rock', 'Music', 'General'], 'B000056PNB': ['Special Features', 'By Country', 'New Yorker Films', 'By Theme', 'Studio Specials', 'Coming of Age', 'DVD', 'Drama', 'All New Yorker Titles', 'Babenco', '( P )', 'Portuguese', 'Down on Their Luck', '( B )', 'General', 'Children', 'Titles', 'Specialty Stores', 'Childhood Drama', 'Hector', 'Latin American Cinema', 'Brazil', 'Urban Life', 'By Original Language', 'Kids in Trouble', 'Genres', 'Directors', 'Art House & International'], 'B000056PNC': ['Biography', 'Sports', '( M )', 'DVD', 'General', 'Titles', 'Special Features', 'Genres', 'Hockey'], 'B000063W82': ['3-6 Years', '( S )', 'Schoolhouse Rock', 'VHS', '7-9 Years', 'Disney Home Video', 'All Titles', '10-12 Years', 'All Disney Titles', '7-11 Years', 'Animation', 'For the Whole Family', 'Kids & Family', 'Jack', 'Sheldon', 'Characters & Series', 'General', 'Animated Cartoons', 'Specialty Stores', 'Actors & Actresses', 'Genres', 'By Age'], '0140430407': ['Twain', 'United States', 'Authors', '19th Century', 'Books', 'General', '( T )', 'Mark', 'World Literature', 'Literature & Fiction', 'Classics', 'Paperback', 'A-Z', 'Subjects'], '0195110382': ['World War II', 'Naval', 'Books', 'General', 'History', 'Military', 'Subjects'], '0310485002': ['Christianity', 'Inspirational', 'Books', 'Christian Living', 'General', 'Discipleship', 'Religion & Spirituality', 'Subjects', 'Protestantism'], '037575380X': ['United States', 'Short Stories', 'Contemporary', 'Books', 'General', 'World Literature', 'Literature & Fiction', 'Classics', 'Subjects'], '0375803394': ['Christianity', 'Series', 'Family Life', 'Literature', 'Seventh Heaven', 'People & Places', 'Ages 9-12', 'Books', 'General', 'Popular Culture', 'Religions', \"Children's Books\", 'Subjects'], '0415157528': ['English (All)', 'Instruction', 'Foreign Language', 'Dictionaries & Thesauruses', 'Books', 'Polish', 'General', 'Foreign Languages', 'Subjects', 'Reference'], '0486268780': ['Poetry', '20th Century', '( W )', 'United States', 'Single Authors', 'Authors', 'Whitman', 'A-Z', 'Books', 'General', 'World Literature', 'Literature & Fiction', 'Classics', 'Walt', '19th Century', 'Subjects'], '0590568833': ['Literature', 'Authors', '( S )', 'A-Z', 'R. L.', 'Science Fiction', 'Books', 'Fantasy', 'Spine-Chilling Horror', 'Horror', 'Ages 9-12', 'General', 'Authors & Illustrators', 'Stine', 'Subjects', 'Mystery & Horror', 'Monsters', \"Children's Books\", 'Obsessions'], '0618111212': ['Literature', 'Fiction', 'Ages 4-8', 'Science Fiction', 'Picture Books', 'Books', '& Magic', 'General', 'Animals', 'Mystery & Horror', 'Dogs', 'Humorous', \"Children's Books\", 'Fantasy', 'Subjects'], '0671727737': ['Spy Stories & Tales of Intrigue', 'Mystery & Thrillers', 'Books', 'Thrillers', 'Subjects'], '0687054532': ['Christianity', 'Ministry', 'Pentecostal', 'Books', 'General', 'Clergy', 'Protestantism', 'Religion & Spirituality', 'Subjects', 'Church History'], '0738700797': ['Wicca', 'Books', 'Religion & Spirituality', 'Earth-Based Religions', 'Subjects', 'Witchcraft'], '078510870X': ['Literature', 'Science Fiction', 'Comics & Graphic Novels', 'Marvel', 'Books', 'Mystery & Horror', 'Science Fiction & Fantasy', 'Graphic Novels', 'Superheroes', 'Publishers', \"Children's Books\", 'Fantasy', 'Teens', 'Subjects'], '0787950599': ['Internet', 'Mind & Body', \"Manager's Guides to Computing\", 'Business Life', 'Home & Office', 'Psychology & Counseling', 'Books', 'Computers & Internet', 'Biographies & Primers', 'Health', 'Digital Business & Culture', 'Computer & Internet Books', 'Amazon.com Stores', 'General', 'Subjects', 'Human Resources & Personnel Management', 'Business & Investing Books', 'Occupational & Organizational', 'Business & Investing', 'Secrets of Success', 'Industries & Professions'], '0790747324': ['Lloyd', 'Classic Sci-Fi', 'Sebastian', 'Doris', 'Special Features', 'By Country', 'Deals Under $15', 'By Theme', 'Studio Specials', 'Futuristic', \"Today's Deals in DVD\", 'Mimieux', 'Amazon.com Outlet', 'All Titles', '( M )', 'DVD', 'Drama', 'Helmore', '( F )', 'United Kingdom', 'DVD Outlet', 'Whit', 'Bissell', 'Time Travel', 'Monsters & Mutants', 'Classics', 'Fantasy', '( P )', '( Y )', 'Cabot', 'Rod', '( C )', 'Young', 'Costume Adventures', 'Amazon.com Stores', '( B )', 'General', 'DVDs Under $15', 'George', 'Titles', 'Specialty Stores', 'Taylor', '( H )', 'Science Fiction & Fantasy', 'Warner Home Video', 'Pal', 'Directors', 'Yvette', 'Frees', '( T )', 'Actors & Actresses', 'Alan', '( L )', 'Genres', 'Tom', 'Paul', 'Categories', 'Art House & International'], '0810114275': ['Philosophy', 'Nonfiction', 'Books', 'General', 'Phenomenology', 'Modern', 'Movements', 'Epistemology', 'Subjects'], '0811726371': [\"Women's Studies\", 'Nonfiction', 'Books', 'General', 'Subjects', 'Reference'], '0827229534': ['Preaching', 'Christianity', 'Books', 'Sermons', 'Clergy', 'Religion & Spirituality', 'Subjects'], '0849311012': ['Industrial', 'Telecommunications', 'Engineering', 'Business & Investing Books', 'Management & Leadership', 'Books', 'Amazon.com Stores', 'General', 'Computers & Internet', 'Business & Investing', 'Hardware', 'Engineering Economics', 'Management', 'Manufacturing & Operational Systems', 'Home & Office', 'Microprocessors & System Design', 'Subjects'], '0871318237': ['Alternative & Holistic', 'Professional & Technical', 'Medicine', 'Medical', 'Mind & Body', 'Books', 'General', 'Specialty Stores', 'Alternative Medicine', 'jp-unknown2', 'Health', 'Subjects'], '0874850037': ['U.S. Regional', 'Food & Wine', 'Regional & International', 'African American', 'Books', 'General', 'Cooking', 'Subjects'], '0895872218': ['Food & Lodging', 'Home & Office', 'U.S. Regional', 'Regional & International', 'Books', 'Travel & Tourism', 'Travel Books', 'United States', 'Amazon.com Stores', 'General', 'Travel', 'South', 'Subjects', 'Regions', 'Food & Wine', 'Dining', 'Business & Investing Books', 'Business & Investing', 'Cooking', 'Hospitality', 'Industries & Professions', 'Categories'], '1861007418': ['Active Server Pages', 'Christianity', 'Programming', 'Eschatology', 'Books', 'Computers & Internet', 'General', 'C & C++', 'Theology', 'Web Programming', 'Databases', 'Languages & Tools', 'Religion & Spirituality', 'Subjects'], '1884997015': ['Easwaran', 'Eknath', 'Other Eastern Religions', 'Authors', 'Books', 'General', 'Biographies & Memoirs', 'Religion & Spirituality', 'Spirituality', 'A-Z', 'Subjects', '( E )'], '6304286961': ['( K )', 'Addiction & Alcoholism', 'Maberly to Mazzello', 'Westerman', 'Floyd Red Crow', '( S )', '( R )', 'Special Features', 'Kyle', 'Oliver', 'By Theme', 'Maclachlan', 'VHS', 'Madsen', 'Musicals & Performing Arts', 'Amazon.com Outlet', \"Today's Deals in Video\", '( M )', 'Drama', '( Q )', 'Meg', 'Wes', 'Artists & Writers', 'Billy', '( W )', 'Dennis', 'Musicals', 'Wincott', 'Studi', 'Dillon', '( I )', 'Whaley', 'General', '( B )', 'Amazon.com Stores', 'Stone', 'Kathleen', 'Video Outlet', 'Val', 'Frank', 'Kevin', 'Kilmer', 'Biography', '( D )', 'Ryan', 'Idol', 'Burkley', 'Michael', 'Quinlan', 'Actors & Actresses', 'Genres', 'Directors', 'Categories'], 'B000007R0T': ['Styles', 'Jazz', 'Music', 'General'], 'B00000AU3R': ['Styles', 'Imports', 'Jazz', 'General', 'Specialty Stores', 'Modern Postbebop', 'Music'], 'B000056PNE': ['Amazon.com Outlet', '( N )', 'Sports', 'DVD', 'Amazon.com Stores', 'DVD Outlet', 'General', 'Titles', 'Special Features', 'Genres', 'Deals Under $20', 'Basketball', 'Categories', \"Today's Deals in DVD\"], 'B00005NTSV': ['Vocal Jazz General', 'Styles', 'Broadway & Vocalists', 'Vocal Jazz', 'Jazz', 'General', 'Traditional Vocal Pop', 'Specialty Stores', 'Music', 'Indie Music'], 'B0000646IJ': ['Concertos', '( S )', 'Amazon.com Label Stores', 'Johannes', 'A-Z', 'Brahms', 'Labels', 'Shaham', 'Gil', 'Featured Composers', 'Forms & Genres', 'Concertinos', 'Deutsche Grammophon Records', 'Styles', 'Strings', 'Berlin Philharmonic Orchestra', '( B )', 'General', 'Violin', 'Featured Performers', 'Classical', 'All Works by Brahms', 'Instruments', 'Music']}\n"
          ]
        }
      ],
      "source": [
        "item_characteristics = item_dat.rdd.map(lambda row: (row['ASIN'], row['category'])).collectAsMap()\n",
        "print(item_characteristics)"
      ]
    },
    {
      "cell_type": "code",
      "execution_count": null,
      "metadata": {
        "colab": {
          "background_save": true
        },
        "id": "G3_RohcjvNJh"
      },
      "outputs": [],
      "source": [
        "reviews_red = reviews.limit(10000)"
      ]
    },
    {
      "cell_type": "code",
      "execution_count": null,
      "metadata": {
        "colab": {
          "background_save": true
        },
        "id": "FI5qVrsTvYcM",
        "outputId": "a4268a8c-53e5-4b51-80b0-1732121bf0b0"
      },
      "outputs": [
        {
          "name": "stdout",
          "output_type": "stream",
          "text": [
            "+----------+--------------+\n",
            "|      ASIN|   customer id|\n",
            "+----------+--------------+\n",
            "|0827229534|A2JW67OY8U6HHK|\n",
            "|0827229534|A2VE83MZF98ITY|\n",
            "|0738700797|A11NCO6YTE4BTJ|\n",
            "|0738700797| A9CQ3PLRNIR83|\n",
            "|0738700797|A13SG9ACZ9O5IM|\n",
            "|0738700797|A1BDAI6VEYMAZA|\n",
            "|0738700797|A2P6KAWXJ16234|\n",
            "|0738700797| AMACWC3M7PQFR|\n",
            "|0738700797|A3GO7UV9XX14D8|\n",
            "|0738700797|A1GIL64QK68WKL|\n",
            "|0738700797| AEOBOF2ONQJWV|\n",
            "|0738700797|A3IGHTES8ME05L|\n",
            "|0738700797|A1CP26N8RHYVVO|\n",
            "|0738700797| ANEIANH0WAT9D|\n",
            "|0486287785|A3IDGASRQAW8B2|\n",
            "|0842328327|A2591BUPXCS705|\n",
            "|0486220125| ATVPDKIKX0DER|\n",
            "|0486220125| AUEZ7NVOEHYRY|\n",
            "|0486220125| ATVPDKIKX0DER|\n",
            "|0486220125| AJYG6ZJUQPZ9M|\n",
            "+----------+--------------+\n",
            "only showing top 20 rows\n",
            "\n"
          ]
        }
      ],
      "source": [
        "edge_table.show()"
      ]
    },
    {
      "cell_type": "code",
      "execution_count": null,
      "metadata": {
        "colab": {
          "background_save": true
        },
        "id": "8Am5kV2F1c9O"
      },
      "outputs": [],
      "source": [
        "import networkx as nx\n",
        "\n",
        "# Create a new bipartite graph\n",
        "graph = nx.Graph()\n",
        "\n",
        "# Add users as nodes in one set\n",
        "graph.add_nodes_from(user_characteristics.keys(), bipartite=0)\n",
        "\n",
        "# Add items as nodes in the other set\n",
        "graph.add_nodes_from(item_characteristics.keys(), bipartite=1)\n",
        "\n",
        "# Add edges between users and items based on shared characteristics\n",
        "# for user, user_char in user_characteristics.items():\n",
        "#     for item, item_char in item_characteristics.items():\n",
        "#         if any(char in user_char for char in item_char):\n",
        "#             graph.add_edge(user, item)\n",
        "for row in edge_table.collect():\n",
        "    customer_id = row['customer id']\n",
        "    ASIN = row['ASIN']\n",
        "    graph.add_edge(customer_id,ASIN)"
      ]
    },
    {
      "cell_type": "code",
      "execution_count": null,
      "metadata": {
        "colab": {
          "background_save": true
        },
        "id": "JUP95gM1XdVr",
        "outputId": "6460696e-efdf-4d3c-9672-fdac67175e17"
      },
      "outputs": [
        {
          "ename": "ValueError",
          "evalue": "ignored",
          "output_type": "error",
          "traceback": [
            "\u001b[0;31m---------------------------------------------------------------------------\u001b[0m",
            "\u001b[0;31mValueError\u001b[0m                                Traceback (most recent call last)",
            "\u001b[0;32m<ipython-input-353-49ff807d9129>\u001b[0m in \u001b[0;36m<cell line: 1>\u001b[0;34m()\u001b[0m\n\u001b[0;32m----> 1\u001b[0;31m \u001b[0mnx\u001b[0m\u001b[0;34m.\u001b[0m\u001b[0mdraw\u001b[0m\u001b[0;34m(\u001b[0m\u001b[0mgraph\u001b[0m\u001b[0;34m,\u001b[0m\u001b[0mwith_label\u001b[0m\u001b[0;34m=\u001b[0m\u001b[0;32mTrue\u001b[0m\u001b[0;34m)\u001b[0m\u001b[0;34m\u001b[0m\u001b[0;34m\u001b[0m\u001b[0m\n\u001b[0m",
            "\u001b[0;32m/usr/local/lib/python3.10/dist-packages/networkx/drawing/nx_pylab.py\u001b[0m in \u001b[0;36mdraw\u001b[0;34m(G, pos, ax, **kwds)\u001b[0m\n\u001b[1;32m    119\u001b[0m         \u001b[0mkwds\u001b[0m\u001b[0;34m[\u001b[0m\u001b[0;34m\"with_labels\"\u001b[0m\u001b[0;34m]\u001b[0m \u001b[0;34m=\u001b[0m \u001b[0;34m\"labels\"\u001b[0m \u001b[0;32min\u001b[0m \u001b[0mkwds\u001b[0m\u001b[0;34m\u001b[0m\u001b[0;34m\u001b[0m\u001b[0m\n\u001b[1;32m    120\u001b[0m \u001b[0;34m\u001b[0m\u001b[0m\n\u001b[0;32m--> 121\u001b[0;31m     \u001b[0mdraw_networkx\u001b[0m\u001b[0;34m(\u001b[0m\u001b[0mG\u001b[0m\u001b[0;34m,\u001b[0m \u001b[0mpos\u001b[0m\u001b[0;34m=\u001b[0m\u001b[0mpos\u001b[0m\u001b[0;34m,\u001b[0m \u001b[0max\u001b[0m\u001b[0;34m=\u001b[0m\u001b[0max\u001b[0m\u001b[0;34m,\u001b[0m \u001b[0;34m**\u001b[0m\u001b[0mkwds\u001b[0m\u001b[0;34m)\u001b[0m\u001b[0;34m\u001b[0m\u001b[0;34m\u001b[0m\u001b[0m\n\u001b[0m\u001b[1;32m    122\u001b[0m     \u001b[0max\u001b[0m\u001b[0;34m.\u001b[0m\u001b[0mset_axis_off\u001b[0m\u001b[0;34m(\u001b[0m\u001b[0;34m)\u001b[0m\u001b[0;34m\u001b[0m\u001b[0;34m\u001b[0m\u001b[0m\n\u001b[1;32m    123\u001b[0m     \u001b[0mplt\u001b[0m\u001b[0;34m.\u001b[0m\u001b[0mdraw_if_interactive\u001b[0m\u001b[0;34m(\u001b[0m\u001b[0;34m)\u001b[0m\u001b[0;34m\u001b[0m\u001b[0;34m\u001b[0m\u001b[0m\n",
            "\u001b[0;32m/usr/local/lib/python3.10/dist-packages/networkx/drawing/nx_pylab.py\u001b[0m in \u001b[0;36mdraw_networkx\u001b[0;34m(G, pos, arrows, with_labels, **kwds)\u001b[0m\n\u001b[1;32m    292\u001b[0m     \u001b[0;32mif\u001b[0m \u001b[0many\u001b[0m\u001b[0;34m(\u001b[0m\u001b[0;34m[\u001b[0m\u001b[0mk\u001b[0m \u001b[0;32mnot\u001b[0m \u001b[0;32min\u001b[0m \u001b[0mvalid_kwds\u001b[0m \u001b[0;32mfor\u001b[0m \u001b[0mk\u001b[0m \u001b[0;32min\u001b[0m \u001b[0mkwds\u001b[0m\u001b[0;34m]\u001b[0m\u001b[0;34m)\u001b[0m\u001b[0;34m:\u001b[0m\u001b[0;34m\u001b[0m\u001b[0;34m\u001b[0m\u001b[0m\n\u001b[1;32m    293\u001b[0m         \u001b[0minvalid_args\u001b[0m \u001b[0;34m=\u001b[0m \u001b[0;34m\", \"\u001b[0m\u001b[0;34m.\u001b[0m\u001b[0mjoin\u001b[0m\u001b[0;34m(\u001b[0m\u001b[0;34m[\u001b[0m\u001b[0mk\u001b[0m \u001b[0;32mfor\u001b[0m \u001b[0mk\u001b[0m \u001b[0;32min\u001b[0m \u001b[0mkwds\u001b[0m \u001b[0;32mif\u001b[0m \u001b[0mk\u001b[0m \u001b[0;32mnot\u001b[0m \u001b[0;32min\u001b[0m \u001b[0mvalid_kwds\u001b[0m\u001b[0;34m]\u001b[0m\u001b[0;34m)\u001b[0m\u001b[0;34m\u001b[0m\u001b[0;34m\u001b[0m\u001b[0m\n\u001b[0;32m--> 294\u001b[0;31m         \u001b[0;32mraise\u001b[0m \u001b[0mValueError\u001b[0m\u001b[0;34m(\u001b[0m\u001b[0;34mf\"Received invalid argument(s): {invalid_args}\"\u001b[0m\u001b[0;34m)\u001b[0m\u001b[0;34m\u001b[0m\u001b[0;34m\u001b[0m\u001b[0m\n\u001b[0m\u001b[1;32m    295\u001b[0m \u001b[0;34m\u001b[0m\u001b[0m\n\u001b[1;32m    296\u001b[0m     \u001b[0mnode_kwds\u001b[0m \u001b[0;34m=\u001b[0m \u001b[0;34m{\u001b[0m\u001b[0mk\u001b[0m\u001b[0;34m:\u001b[0m \u001b[0mv\u001b[0m \u001b[0;32mfor\u001b[0m \u001b[0mk\u001b[0m\u001b[0;34m,\u001b[0m \u001b[0mv\u001b[0m \u001b[0;32min\u001b[0m \u001b[0mkwds\u001b[0m\u001b[0;34m.\u001b[0m\u001b[0mitems\u001b[0m\u001b[0;34m(\u001b[0m\u001b[0;34m)\u001b[0m \u001b[0;32mif\u001b[0m \u001b[0mk\u001b[0m \u001b[0;32min\u001b[0m \u001b[0mvalid_node_kwds\u001b[0m\u001b[0;34m}\u001b[0m\u001b[0;34m\u001b[0m\u001b[0;34m\u001b[0m\u001b[0m\n",
            "\u001b[0;31mValueError\u001b[0m: Received invalid argument(s): with_label"
          ]
        },
        {
          "data": {
            "image/png": "[encoded data removed]",
            "text/plain": [
              "<Figure size 640x480 with 1 Axes>"
            ]
          },
          "metadata": {},
          "output_type": "display_data"
        }
      ],
      "source": [
        "nx.draw(graph,with_label=True)"
      ]
    },
    {
      "cell_type": "code",
      "execution_count": null,
      "metadata": {
        "colab": {
          "background_save": true
        },
        "id": "2gvHkc1E1fyj"
      },
      "outputs": [],
      "source": [
        "count = 0\n",
        "for n,d in list(graph.nodes(data=True)):\n",
        "  if len(d) == 0:\n",
        "    print(n)\n",
        "    count+=1\n",
        "\n",
        "print(count)"
      ]
    },
    {
      "cell_type": "code",
      "execution_count": null,
      "metadata": {
        "colab": {
          "background_save": true
        },
        "id": "40tutRWQwaBp"
      },
      "outputs": [],
      "source": [
        "import networkx as nx\n",
        "\n",
        "# Create a new bipartite graph\n",
        "graph = nx.Graph()\n",
        "\n",
        "# Add users as nodes in one set\n",
        "graph.add_nodes_from(user_characteristics.keys(), bipartite=0)\n",
        "\n",
        "# Add items as nodes in the other set\n",
        "graph.add_nodes_from(item_characteristics.keys(), bipartite=1)\n",
        "\n",
        "# Add edges between users and items based on shared characteristics\n",
        "# for user, user_char in user_characteristics.items():\n",
        "#     for item, item_char in item_characteristics.items():\n",
        "#         if any(char in user_char for char in item_char):\n",
        "#             graph.add_edge(user, item)\n",
        "for row in edge_table.collect():\n",
        "    customer_id = row['customer id']\n",
        "    ASIN = row['ASIN']\n",
        "    graph.add_edge(customer_id,ASIN)\n",
        "\n",
        "# Access nodes and edges\n",
        "user_nodes = {n for n, d in graph.nodes(data=True) if len(d)!=0 and d['bipartite'] == 0}\n",
        "item_nodes = {n for n, d in graph.nodes(data=True) if len(d)!=0 and d['bipartite'] == 1}\n",
        "edges = graph.edges()\n",
        "\n",
        "# Perform node embedding\n",
        "# Node embedding is a way to represent nodes in a low-dimensional vector space\n",
        "# There are several algorithms available for node embedding, such as node2vec, DeepWalk, or GraphSAGE.\n",
        "# Here's an example of using the node2vec algorithm from the `node2vec` library in Python:\n",
        "\n",
        "from node2vec import Node2Vec\n",
        "\n",
        "# Create the Node2Vec object\n",
        "node2vec = Node2Vec(graph, dimensions=64, walk_length=30, num_walks=200, workers=4)\n",
        "\n",
        "# Generate the node embeddings\n",
        "model = node2vec.fit(window=10, min_count=1)\n",
        "\n",
        "# Get the embedding vectors for users and items\n",
        "user_embeddings = {node: model.wv[node] for node in user_nodes}\n",
        "item_embeddings = {node: model.wv[node] for node in item_nodes}\n",
        "\n",
        "# Now you have the node embeddings for users and items, which you can use for various downstream tasks.\n",
        "\n",
        "# Example usage:\n",
        "# You can calculate the similarity between two nodes based on their embeddings\n",
        "# user1_embedding = user_embeddings[\"user1\"]\n",
        "# item1_embedding = item_embeddings[\"item1\"]\n",
        "# similarity = user1_embedding.dot(item1_embedding)"
      ]
    },
    {
      "cell_type": "code",
      "execution_count": null,
      "metadata": {
        "colab": {
          "background_save": true
        },
        "id": "DQq_4EA90Yp6"
      },
      "outputs": [],
      "source": [
        "nx.draw(graph,with_labels=True, font_weight='bold')"
      ]
    },
    {
      "cell_type": "code",
      "execution_count": null,
      "metadata": {
        "colab": {
          "background_save": true
        },
        "id": "eO4FLfjWFxnF"
      },
      "outputs": [],
      "source": [
        "import networkx as nx\n",
        "\n",
        "# Example user and item characteristics\n",
        "user_characteristics = {\n",
        "    \"user1\": [\"good\", \"handsome\"],\n",
        "    \"user2\": [\"angry\", \"tall\"],\n",
        "    # Add more users and their characteristics\n",
        "}\n",
        "\n",
        "item_characteristics = {\n",
        "    \"item1\": [\"best\", \"short\"],\n",
        "    \"item2\": [\"shine\", \"bad\"],\n",
        "    # Add more items and their characteristics\n",
        "}\n",
        "\n",
        "# Create a new bipartite graph\n",
        "graph = nx.Graph()\n",
        "\n",
        "# Add users as nodes in one set\n",
        "graph.add_nodes_from(user_characteristics.keys(), bipartite=0)\n",
        "\n",
        "# Add items as nodes in the other set\n",
        "graph.add_nodes_from(item_characteristics.keys(), bipartite=1)\n",
        "\n",
        "# Add edges between users and items based on shared characteristics\n",
        "# for user, user_char in user_characteristics.items():\n",
        "#     for item, item_char in item_characteristics.items():\n",
        "#         if any(char in user_char for char in item_char):\n",
        "#             graph.add_edge(user, item)\n",
        "graph.add_edge(\"user1\",\"item2\")\n",
        "graph.add_edge(\"user2\",\"item1\")\n",
        "\n",
        "# Access nodes and edges\n",
        "user_nodes = {n for n, d in graph.nodes(data=True) if d[\"bipartite\"] == 0}\n",
        "item_nodes = {n for n, d in graph.nodes(data=True) if d[\"bipartite\"] == 1}\n",
        "edges = graph.edges()\n",
        "\n",
        "# Perform node embedding\n",
        "# Node embedding is a way to represent nodes in a low-dimensional vector space\n",
        "# There are several algorithms available for node embedding, such as node2vec, DeepWalk, or GraphSAGE.\n",
        "# Here's an example of using the node2vec algorithm from the `node2vec` library in Python:\n",
        "\n",
        "from node2vec import Node2Vec\n",
        "\n",
        "# Create the Node2Vec object\n",
        "node2vec = Node2Vec(graph, dimensions=64, walk_length=30, num_walks=200, workers=4)\n",
        "\n",
        "# Generate the node embeddings\n",
        "model = node2vec.fit(window=10, min_count=1)\n",
        "\n",
        "# Get the embedding vectors for users and items\n",
        "user_embeddings = {node: model.wv[node] for node in user_nodes}\n",
        "item_embeddings = {node: model.wv[node] for node in item_nodes}\n",
        "\n",
        "# Now you have the node embeddings for users and items, which you can use for various downstream tasks.\n",
        "\n",
        "# Example usage:\n",
        "# You can calculate the similarity between two nodes based on their embeddings\n",
        "user1_embedding = user_embeddings[\"user1\"]\n",
        "item1_embedding = item_embeddings[\"item1\"]\n",
        "similarity = user1_embedding.dot(item1_embedding)\n"
      ]
    },
    {
      "cell_type": "code",
      "execution_count": null,
      "metadata": {
        "colab": {
          "background_save": true
        },
        "id": "cernZ5RXpvUv"
      },
      "outputs": [],
      "source": [
        "print(user)"
      ]
    }
  ],
  "metadata": {
    "colab": {
      "provenance": []
    },
    "kernelspec": {
      "display_name": "Python 3",
      "name": "python3"
    },
    "language_info": {
      "name": "python"
    }
  },
  "nbformat": 4,
  "nbformat_minor": 0
}