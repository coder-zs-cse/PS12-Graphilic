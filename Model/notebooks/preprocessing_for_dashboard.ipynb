{
  "cells": [
    {
      "cell_type": "code",
      "execution_count": null,
      "metadata": {
        "vscode": {
          "languageId": "plaintext"
        }
      },
      "outputs": [],
      "source": [
        "from google.colab import drive\n",
        "drive.mount('/content/drive')"
      ]
    },
    {
      "cell_type": "code",
      "execution_count": null,
      "metadata": {
        "vscode": {
          "languageId": "plaintext"
        }
      },
      "outputs": [],
      "source": [
        "import os\n",
        "import gzip\n",
        "\n",
        "# Change directory to the folder where the .gz file is located\n",
        "os.chdir('/content/drive/MyDrive/Data/')\n",
        "\n",
        "# Specify the path to the .gz file\n",
        "gz_file_path = 'amazon-meta.txt.gz'\n",
        "\n",
        "# Extract the .gz file\n",
        "with gzip.open(gz_file_path, 'rb') as gz_file:\n",
        "    with open('amazon-meta.txt', 'wb') as out_file:\n",
        "        out_file.write(gz_file.read())"
      ]
    },
    {
      "cell_type": "code",
      "execution_count": null,
      "metadata": {
        "vscode": {
          "languageId": "plaintext"
        }
      },
      "outputs": [],
      "source": [
        "dataset_folder = '/content/drive/MyDrive/Data/'\n",
        "file_name = 'amazon-meta.txt'\n",
        "file_path = dataset_folder + file_name"
      ]
    },
    {
      "cell_type": "code",
      "execution_count": null,
      "metadata": {
        "vscode": {
          "languageId": "plaintext"
        }
      },
      "outputs": [],
      "source": [
        "import numpy as np\n",
        "import json\n",
        "import re\n",
        "import pandas as pd\n",
        "from pandas import json_normalize"
      ]
    },
    {
      "cell_type": "code",
      "execution_count": null,
      "metadata": {
        "vscode": {
          "languageId": "plaintext"
        }
      },
      "outputs": [],
      "source": [
        "# print the first few lines of the text file\n",
        "def view_file(file_path,lines=50):\n",
        "  with open(file_path, 'r') as file:\n",
        "    for lineNo,line in enumerate(file):\n",
        "      if(lineNo>lines):\n",
        "        break\n",
        "      print(line)\n"
      ]
    },
    {
      "cell_type": "code",
      "execution_count": null,
      "metadata": {
        "vscode": {
          "languageId": "plaintext"
        }
      },
      "outputs": [],
      "source": [
        "def import_from_file(filename):\n",
        "    with open(filename, 'r',encoding='utf-8', errors='ignore') as f:\n",
        "        data = []\n",
        "        entry = {}\n",
        "        last_key = None\n",
        "        for num,line in enumerate(f):\n",
        "            if(num<3) :\n",
        "                continue\n",
        "            line = line.strip()\n",
        "            if line.startswith('Id:'):\n",
        "                if entry:\n",
        "                    if \"discontinued product\" not in entry[last_key]:\n",
        "                        data.append(entry)\n",
        "                entry = {\"Id\":line[3:].strip()}\n",
        "\n",
        "            elif line:\n",
        "                if not line[0].isalpha() or ':' not in line:\n",
        "                    entry[last_key] += ',' + line\n",
        "                else:\n",
        "                    key,value = line.split(':', 1)\n",
        "                    entry[key.strip()] = value.strip()\n",
        "                    last_key = key\n",
        "\n",
        "        if entry:\n",
        "            data.append(entry)\n",
        "    return data\n",
        "\n",
        "def post_Processing(filedata):\n",
        "    for item in filedata:\n",
        "\n",
        "        for key,value in item.items():\n",
        "            if key == 'similar':\n",
        "                count, *similar = value.split()\n",
        "                item[key] = {\"count\":count, \"ASIN ID\":similar}\n",
        "            elif key == 'categories':\n",
        "                subentry = {}\n",
        "                value = value.split(',')\n",
        "                subentry['count'] = value[0]\n",
        "                subentry['ASIN ID'] = value[1:]\n",
        "                item[key] = subentry\n",
        "            elif key == 'reviews':\n",
        "                pass\n",
        "                subentry = {}\n",
        "                value = value.split(',')\n",
        "\n",
        "                pattern = r'(\\S+):\\s*(\\S+)'\n",
        "                indexes = re.findall(pattern,value[0])\n",
        "                for index in indexes:\n",
        "                    subentry[index[0]] = index[1]\n",
        "\n",
        "                reviewList = []\n",
        "                for i in range(len(value[1:])):\n",
        "\n",
        "                    currentReview = {}\n",
        "                    currentReview[\"Review ID\"] = i+1\n",
        "                    currentReview[\"Date\"] = re.split(r'\\s+', value[1:][i])[0]\n",
        "                    pattern = r'(\\S+):\\s*(\\S+)'\n",
        "                    indexes = re.findall(pattern,value[1:][i])\n",
        "                    for index in indexes:\n",
        "                        currentReview[index[0]] = index[1]\n",
        "\n",
        "                    reviewList.append(currentReview)\n",
        "\n",
        "                subentry['review list'] = reviewList\n",
        "                item[key] = subentry\n",
        "\n",
        "    return filedata\n",
        "\n"
      ]
    },
    {
      "cell_type": "code",
      "execution_count": null,
      "metadata": {
        "vscode": {
          "languageId": "plaintext"
        }
      },
      "outputs": [],
      "source": [
        "data = import_from_file(file_path)\n",
        "data = post_Processing(data)"
      ]
    },
    {
      "cell_type": "code",
      "execution_count": null,
      "metadata": {
        "vscode": {
          "languageId": "plaintext"
        }
      },
      "outputs": [],
      "source": [
        "updated_data = []\n",
        "for item in data:\n",
        "  if item['similar']['count'] == '5' and item['salesrank'] != '0':\n",
        "    updated_data.append(item)"
      ]
    },
    {
      "cell_type": "code",
      "execution_count": null,
      "metadata": {
        "vscode": {
          "languageId": "plaintext"
        }
      },
      "outputs": [],
      "source": [
        "#select only 10000 random data of updated_data\n",
        "import random\n",
        "random_data = random.sample(updated_data, 10000)\n"
      ]
    },
    {
      "cell_type": "code",
      "execution_count": null,
      "metadata": {
        "vscode": {
          "languageId": "plaintext"
        }
      },
      "outputs": [],
      "source": [
        "from datetime import datetime\n"
      ]
    },
    {
      "cell_type": "code",
      "execution_count": null,
      "metadata": {
        "vscode": {
          "languageId": "plaintext"
        }
      },
      "outputs": [],
      "source": [
        "reviews_data = []\n",
        "for item in random_data:\n",
        "  for review in item['reviews']['review list']:\n",
        "    date_string = review['Date']\n",
        "\n",
        "    # Convert the date string to a datetime object\n",
        "    date_object = datetime.strptime(date_string, '%Y-%m-%d')\n",
        "\n",
        "    # Extract year, month, and day from the datetime object\n",
        "    year = date_object.year\n",
        "    month = date_object.month\n",
        "    day = date_object.day\n",
        "    reviews_data.append({\n",
        "      'customer id': review['cutomer'],\n",
        "      'ASIN': item['ASIN'],\n",
        "      'group': item['group'],\n",
        "      'day': day,\n",
        "      'month': month,\n",
        "      'year': year\n",
        "    })"
      ]
    },
    {
      "cell_type": "code",
      "execution_count": null,
      "metadata": {
        "vscode": {
          "languageId": "plaintext"
        }
      },
      "outputs": [],
      "source": [
        "#store the content of reviews_data into a file\n",
        "with open(dataset_folder + 'reviews_data.txt', 'w') as file:\n",
        "  file.write(str(reviews_data))"
      ]
    },
    {
      "cell_type": "code",
      "execution_count": null,
      "metadata": {
        "vscode": {
          "languageId": "plaintext"
        }
      },
      "outputs": [],
      "source": [
        "baseCost = { 'Book':1000, 'DVD': 800, 'Video': 500, 'Music': 200, 'Software': 2000}"
      ]
    },
    {
      "cell_type": "code",
      "execution_count": null,
      "metadata": {
        "vscode": {
          "languageId": "plaintext"
        }
      },
      "outputs": [],
      "source": [
        "reviews = reviews_data"
      ]
    },
    {
      "cell_type": "code",
      "execution_count": null,
      "metadata": {
        "vscode": {
          "languageId": "plaintext"
        }
      },
      "outputs": [],
      "source": [
        "#create a new column price and assign random price to each item\n",
        "import random\n",
        "for item in reviews:\n",
        "  base = baseCost[item['group']] \n",
        "  price =  random.randint(int(base -0.50 * base), int(base + 0.50 * base))\n",
        "  item['profit'] = random.randint(3,15)/100 * price\n"
      ]
    },
    {
      "cell_type": "code",
      "execution_count": null,
      "metadata": {
        "vscode": {
          "languageId": "plaintext"
        }
      },
      "outputs": [],
      "source": [
        "!pip install pyspark"
      ]
    },
    {
      "cell_type": "code",
      "execution_count": null,
      "metadata": {
        "vscode": {
          "languageId": "plaintext"
        }
      },
      "outputs": [],
      "source": [
        "!pip install findspark"
      ]
    },
    {
      "cell_type": "code",
      "execution_count": null,
      "metadata": {
        "vscode": {
          "languageId": "plaintext"
        }
      },
      "outputs": [],
      "source": [
        "import findspark\n",
        "findspark.init()\n",
        "findspark.find()"
      ]
    },
    {
      "cell_type": "code",
      "execution_count": null,
      "metadata": {
        "vscode": {
          "languageId": "plaintext"
        }
      },
      "outputs": [],
      "source": [
        "filtered_reviews = []\n",
        "for review in reviews:\n",
        "  if review['year'] == 2000 and review['month'] == 6:\n",
        "    filtered_reviews.append(review)"
      ]
    },
    {
      "cell_type": "code",
      "execution_count": null,
      "metadata": {
        "vscode": {
          "languageId": "plaintext"
        }
      },
      "outputs": [],
      "source": [
        "reviews = filtered_reviews"
      ]
    },
    {
      "cell_type": "code",
      "execution_count": null,
      "metadata": {
        "vscode": {
          "languageId": "plaintext"
        }
      },
      "outputs": [],
      "source": [
        "# use pyspark to convert the reviews list to a table\n",
        "#install pyspark\n",
        "from pyspark.sql import SparkSession\n",
        "spark = SparkSession.builder.getOrCreate()\n",
        "reviews_df = spark.createDataFrame(reviews)\n"
      ]
    },
    {
      "cell_type": "code",
      "execution_count": null,
      "metadata": {
        "vscode": {
          "languageId": "plaintext"
        }
      },
      "outputs": [],
      "source": [
        "#print the schema of reviews_df\n",
        "reviews_df.printSchema()"
      ]
    },
    {
      "cell_type": "code",
      "execution_count": null,
      "metadata": {
        "vscode": {
          "languageId": "plaintext"
        }
      },
      "outputs": [],
      "source": [
        "reviews_df.createOrReplaceTempView(\"reviews_table_june_2000\")\n",
        "query = \"SELECT day, group, SUM(profit) as daily_profit, COUNT(*) as count FROM reviews_table_june_2000 GROUP BY day, group ORDER BY day\"\n",
        "reviews_count_per_day = spark.sql(query)"
      ]
    },
    {
      "cell_type": "code",
      "execution_count": null,
      "metadata": {
        "vscode": {
          "languageId": "plaintext"
        }
      },
      "outputs": [],
      "source": [
        "reviews_count_per_day.show()"
      ]
    },
    {
      "cell_type": "code",
      "execution_count": null,
      "metadata": {
        "vscode": {
          "languageId": "plaintext"
        }
      },
      "outputs": [],
      "source": [
        "# Select only the 'month' and 'count' columns\n",
        "import matplotlib.pyplot as plt\n",
        "\n",
        "music_reviews = reviews_count_per_day.filter(reviews_count_per_day.group == 'Music')\n",
        "\n",
        "music_reviews_month_count = music_reviews.select('day', 'count','daily_profit')\n",
        "# Collect the rows as a list of dictionaries\n",
        "result_rows = music_reviews_month_count.collect()\n",
        "\n",
        "# Extract months and counts from the rows\n",
        "months = [row['day'] for row in result_rows]\n",
        "counts = [row['count'] for row in result_rows]\n",
        "profit = [row['daily_profit'] for row in result_rows]\n",
        "# Plot the data\n",
        "fig, axs = plt.subplots(1, 2, figsize=(16, 6))\n",
        "\n",
        "# Plot the bar chart on the left subplot (index 0)\n",
        "axs[0].bar(months, counts)\n",
        "axs[0].set_xlabel('day')\n",
        "axs[0].set_ylabel('Count')\n",
        "axs[0].set_title('Current Trend of User Interaction on platform')\n",
        "# axs[0].tick_params(axis='x', rotation=45, ha='right')  # Rotate the x-axis labels for better readability\n",
        "\n",
        "# If you want to add more subplots on the right side, you can plot them here.\n",
        "# For example:\n",
        "axs[1].bar(months, profit)\n",
        "axs[1].set_xlabel('months')\n",
        "axs[1].set_ylabel('profit')\n",
        "axs[1].set_title('Current Trend of daily profit')\n",
        "\n",
        "# Adjust the spacing between the subplots to prevent overlapping labels\n",
        "plt.tight_layout()\n",
        "\n",
        "# Show the plot\n",
        "plt.show()\n",
        "# In this example, the given bar chart will be plotted on the left side (index 0) of the 1x2 grid of subplots. If you want to add more subplots to the right, you can simply create additional plots by referring to axs[1], axs[2], and so on, and customize them as needed. The plt.tight_layout() function ensures that the subplots are properly spaced to prevent overlapping labels and titles.\n"
      ]
    },
    {
      "cell_type": "code",
      "execution_count": null,
      "metadata": {
        "vscode": {
          "languageId": "plaintext"
        }
      },
      "outputs": [],
      "source": [
        "\n",
        "def plotData(reviews, group, year=2000, month=6):\n",
        "  print(group,year,month)\n",
        "  print(reviews[0])\n",
        "  filtered_reviews = []\n",
        "  for review in reviews:\n",
        "    if review['group'] == group and review['year'] == year and review['month'] == month:\n",
        "      filtered_reviews.append(review)\n",
        "\n",
        "  # from pyspark.sql import SparkSession\n",
        "  spark = SparkSession.builder.getOrCreate()\n",
        "  reviews_df = spark.createDataFrame(filtered_reviews)\n",
        "\n",
        "  reviews_df.createOrReplaceTempView(\"reviews_table\")\n",
        "  query = \"SELECT day, group, SUM(profit) as daily_profit, COUNT(*) as count FROM reviews_table GROUP BY day, group ORDER BY day\"\n",
        "  reviews_count_per_day = spark.sql(query)\n",
        "\n",
        "  # import matplotlib.pyplot as plt\n",
        "\n",
        "  group_reviews = reviews_count_per_day.filter(reviews_count_per_day.group == group)\n",
        "\n",
        "  group_reviews_month_count = group_reviews.select('day', 'count','daily_profit')\n",
        "  # Collect the rows as a list of dictionaries\n",
        "  result_rows = group_reviews_month_count.collect()\n",
        "\n",
        "  # Extract months and counts from the rows\n",
        "  months = [row['day'] for row in result_rows]\n",
        "  counts = [row['count'] for row in result_rows]\n",
        "  profit = [row['daily_profit'] for row in result_rows]\n",
        "  # Plot the data\n",
        "  fig, axs = plt.subplots(1, 2, figsize=(16, 6))\n",
        "\n",
        "  # Plot the bar chart on the left subplot (index 0)\n",
        "  axs[0].bar(months, counts)\n",
        "  axs[0].set_xlabel('day')\n",
        "  axs[0].set_ylabel('Count')\n",
        "  axs[0].set_title('Current Trend of User Interaction on platform')\n",
        "  # axs[0].tick_params(axis='x', rotation=45, ha='right')  # Rotate the x-axis labels for better readability\n",
        "\n",
        "  # If you want to add more subplots on the right side, you can plot them here.\n",
        "  # For example:\n",
        "  axs[1].bar(months, profit)\n",
        "  axs[1].set_xlabel('months')\n",
        "  axs[1].set_ylabel('profit')\n",
        "  axs[1].set_title('Current Trend of daily profit')\n",
        "\n",
        "  # Adjust the spacing between the subplots to prevent overlapping labels\n",
        "  plt.tight_layout()\n",
        "\n",
        "  # Show the plot\n",
        "  plt.show()"
      ]
    },
    {
      "cell_type": "code",
      "execution_count": null,
      "metadata": {
        "vscode": {
          "languageId": "plaintext"
        }
      },
      "outputs": [],
      "source": [
        "def loadData():\n",
        "  import csv\n",
        "  reviews = []\n",
        "  with open('reviews_data.csv', 'r') as file:\n",
        "    reader = csv.DictReader(file)\n",
        "    for row in reader:\n",
        "      reviews.append(row)\n",
        "  plotData(reviews,'Book',2000,1)\n",
        "  return reviews\n",
        "\n",
        "loadData()"
      ]
    }
  ],
  "metadata": {
    "colab": {
      "provenance": []
    },
    "kernelspec": {
      "display_name": "Python 3",
      "name": "python3"
    },
    "language_info": {
      "name": "python"
    }
  },
  "nbformat": 4,
  "nbformat_minor": 0
}
