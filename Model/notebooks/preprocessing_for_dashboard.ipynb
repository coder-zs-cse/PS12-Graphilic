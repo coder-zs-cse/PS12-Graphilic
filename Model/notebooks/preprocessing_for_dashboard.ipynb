{
  "nbformat": 4,
  "nbformat_minor": 0,
  "metadata": {
    "colab": {
      "provenance": []
    },
    "kernelspec": {
      "name": "python3",
      "display_name": "Python 3"
    },
    "language_info": {
      "name": "python"
    }
  },
  "cells": [
    {
      "cell_type": "code",
      "execution_count": null,
      "metadata": {
        "colab": {
          "base_uri": "https://localhost:8080/"
        },
        "id": "WhPVEN22BjQe",
        "outputId": "31c87aee-a075-4018-cd3e-5fe4a4eb95e8"
      },
      "outputs": [
        {
          "output_type": "stream",
          "name": "stdout",
          "text": [
            "Requirement already satisfied: pyspark in /usr/local/lib/python3.10/dist-packages (3.4.1)\n",
            "Requirement already satisfied: py4j==0.10.9.7 in /usr/local/lib/python3.10/dist-packages (from pyspark) (0.10.9.7)\n"
          ]
        }
      ],
      "source": [
        "!pip install pyspark"
      ]
    },
    {
      "cell_type": "code",
      "source": [
        "!pip install findspark"
      ],
      "metadata": {
        "colab": {
          "base_uri": "https://localhost:8080/"
        },
        "id": "kQU5Pq_7BoUR",
        "outputId": "310e421a-827a-4b41-f0b2-1cf5ec82a37a"
      },
      "execution_count": null,
      "outputs": [
        {
          "output_type": "stream",
          "name": "stdout",
          "text": [
            "Requirement already satisfied: findspark in /usr/local/lib/python3.10/dist-packages (2.0.1)\n"
          ]
        }
      ]
    },
    {
      "cell_type": "code",
      "source": [
        "import findspark\n",
        "findspark.init()\n",
        "findspark.find()"
      ],
      "metadata": {
        "colab": {
          "base_uri": "https://localhost:8080/",
          "height": 36
        },
        "id": "i5xN8EPGBsuS",
        "outputId": "b8068e78-11c5-49f8-f41c-52baa4e843b7"
      },
      "execution_count": null,
      "outputs": [
        {
          "output_type": "execute_result",
          "data": {
            "text/plain": [
              "'/usr/local/lib/python3.10/dist-packages/pyspark'"
            ],
            "application/vnd.google.colaboratory.intrinsic+json": {
              "type": "string"
            }
          },
          "metadata": {},
          "execution_count": 40
        }
      ]
    },
    {
      "cell_type": "code",
      "source": [
        "from pyspark.sql import SparkSession\n",
        "spark = SparkSession.builder.appName('SparkByExamples.com').getOrCreate()\n",
        "emptyRDD = spark.sparkContext.emptyRDD()\n",
        "print(emptyRDD)"
      ],
      "metadata": {
        "colab": {
          "base_uri": "https://localhost:8080/"
        },
        "id": "OU5d1FvfChvU",
        "outputId": "0df5ccc7-c43c-46c0-e192-a842d8c2d55c"
      },
      "execution_count": null,
      "outputs": [
        {
          "output_type": "stream",
          "name": "stdout",
          "text": [
            "EmptyRDD[139] at emptyRDD at NativeMethodAccessorImpl.java:0\n"
          ]
        }
      ]
    },
    {
      "cell_type": "code",
      "source": [
        "file_path = \"/content/drive/MyDrive/hackrx/\""
      ],
      "metadata": {
        "id": "fTAuS2TkEHMq"
      },
      "execution_count": null,
      "outputs": []
    },
    {
      "cell_type": "code",
      "source": [
        "from pyspark.sql import functions\n",
        "from pyspark.sql import types\n",
        "from pyspark.sql.functions import col"
      ],
      "metadata": {
        "id": "b7Pdg06rEa8y"
      },
      "execution_count": null,
      "outputs": []
    },
    {
      "cell_type": "code",
      "source": [
        "categories = spark.read.option(\"header\",True).csv(file_path+'categories.csv')\n",
        "info = spark.read.option(\"header\",True).csv(file_path+'info.csv')\n",
        "reviews = spark.read.option(\"header\",True).csv(file_path+'reviews.csv')\n",
        "similar = spark.read.option(\"header\",True).csv(file_path+'similar.csv')"
      ],
      "metadata": {
        "id": "eqxJIlsuEdPD"
      },
      "execution_count": null,
      "outputs": []
    },
    {
      "cell_type": "code",
      "source": [
        "# reviews_red = reviews.limit(100)\n",
        "# info_red = info.limit(100)\n",
        "# cat_red = categories.limit(100)\n",
        "# print(f\"Reviews DF size {reviews_red.count()} info DF size { info_red.count()} category Df size {cat_red.count()}\")"
      ],
      "metadata": {
        "id": "uZ-KzlrgEe4A"
      },
      "execution_count": null,
      "outputs": []
    },
    {
      "cell_type": "code",
      "source": [
        "reviews.show(truncate=False)"
      ],
      "metadata": {
        "colab": {
          "base_uri": "https://localhost:8080/"
        },
        "id": "kVJ9gSvtEnap",
        "outputId": "66e82f19-49c0-4bac-e749-683b81c58da6"
      },
      "execution_count": null,
      "outputs": [
        {
          "output_type": "stream",
          "name": "stdout",
          "text": [
            "+----------+--------------+------+-----+-------+\n",
            "|ASIN      |customer id   |rating|votes|helpful|\n",
            "+----------+--------------+------+-----+-------+\n",
            "|0827229534|A2JW67OY8U6HHK|5     |10   |9      |\n",
            "|0827229534|A2VE83MZF98ITY|5     |6    |5      |\n",
            "|0738700797|A11NCO6YTE4BTJ|5     |5    |4      |\n",
            "|0738700797|A9CQ3PLRNIR83 |4     |5    |5      |\n",
            "|0738700797|A13SG9ACZ9O5IM|5     |8    |8      |\n",
            "|0738700797|A1BDAI6VEYMAZA|5     |4    |4      |\n",
            "|0738700797|A2P6KAWXJ16234|4     |16   |16     |\n",
            "|0738700797|AMACWC3M7PQFR |4     |5    |5      |\n",
            "|0738700797|A3GO7UV9XX14D8|4     |6    |6      |\n",
            "|0738700797|A1GIL64QK68WKL|5     |8    |8      |\n",
            "|0738700797|AEOBOF2ONQJWV |5     |8    |5      |\n",
            "|0738700797|A3IGHTES8ME05L|5     |5    |5      |\n",
            "|0738700797|A1CP26N8RHYVVO|1     |13   |9      |\n",
            "|0738700797|ANEIANH0WAT9D |5     |1    |1      |\n",
            "|0486287785|A3IDGASRQAW8B2|5     |2    |2      |\n",
            "|0842328327|A2591BUPXCS705|4     |1    |1      |\n",
            "|0486220125|ATVPDKIKX0DER |5     |12   |11     |\n",
            "|0486220125|AUEZ7NVOEHYRY |5     |13   |12     |\n",
            "|0486220125|ATVPDKIKX0DER |5     |18   |7      |\n",
            "|0486220125|AJYG6ZJUQPZ9M |4     |14   |10     |\n",
            "+----------+--------------+------+-----+-------+\n",
            "only showing top 20 rows\n",
            "\n"
          ]
        }
      ]
    },
    {
      "cell_type": "code",
      "source": [
        "categories.show()"
      ],
      "metadata": {
        "colab": {
          "base_uri": "https://localhost:8080/"
        },
        "id": "xMT0wNz1LsjX",
        "outputId": "d654b6dd-011e-407a-9643-662aa9fe6f6c"
      },
      "execution_count": null,
      "outputs": [
        {
          "output_type": "stream",
          "name": "stdout",
          "text": [
            "+----------+--------------------+\n",
            "|      ASIN|            category|\n",
            "+----------+--------------------+\n",
            "|0827229534||Books[283155]|Su...|\n",
            "|0827229534||Books[283155]|Su...|\n",
            "|0738700797||Books[283155]|Su...|\n",
            "|0738700797||Books[283155]|Su...|\n",
            "|0486287785||Books[283155]|Su...|\n",
            "|0842328327||Books[283155]|Su...|\n",
            "|0842328327||Books[283155]|Su...|\n",
            "|0842328327||Books[283155]|Su...|\n",
            "|0842328327||Books[283155]|Su...|\n",
            "|0842328327||Books[283155]|Su...|\n",
            "|0842328327| History & Refere...|\n",
            "|1577943082||Books[283155]|Su...|\n",
            "|1577943082||Books[283155]|Su...|\n",
            "|0486220125||Books[283155]|Su...|\n",
            "|0486220125||Books[283155]|Su...|\n",
            "|0486220125||Books[283155]|Su...|\n",
            "|0486220125||Books[283155]|Su...|\n",
            "|0486220125||[172282]|Categor...|\n",
            "|B00000AU3R||Music[5174]|Styl...|\n",
            "|B00000AU3R||Music[5174]|Styl...|\n",
            "+----------+--------------------+\n",
            "only showing top 20 rows\n",
            "\n"
          ]
        }
      ]
    },
    {
      "cell_type": "code",
      "source": [
        "info.show()"
      ],
      "metadata": {
        "colab": {
          "base_uri": "https://localhost:8080/"
        },
        "id": "xPXfBeWdLw8o",
        "outputId": "2a5a20ff-878f-48bc-d31a-93643fa5d252"
      },
      "execution_count": null,
      "outputs": [
        {
          "output_type": "stream",
          "name": "stdout",
          "text": [
            "+----------+--------------------+-----+---------+\n",
            "|      ASIN|               title|group|salesrank|\n",
            "+----------+--------------------+-----+---------+\n",
            "|0827229534|Patterns of Preac...| Book|   396585|\n",
            "|0738700797|Candlemas: Feast ...| Book|   168596|\n",
            "|0486287785|World War II Alli...| Book|  1270652|\n",
            "|0842328327|Life Application ...| Book|   631289|\n",
            "|1577943082|Prayers That Avai...| Book|   455160|\n",
            "|0486220125|How the Other Hal...| Book|   188784|\n",
            "|B00000AU3R|               Batik|Music|     5392|\n",
            "|0231118597| Losing Matt Shepard| Book|   277409|\n",
            "|1859677800|Making Bread: The...| Book|   949166|\n",
            "|0375709363|The Edward Said R...| Book|   220379|\n",
            "|0871318237|Resetting the Clo...| Book|   412962|\n",
            "|1590770218|Fantastic Food wi...| Book|    24741|\n",
            "|0313230269|Clockwork Worlds ...| Book|  2895088|\n",
            "|B00004W1W1|            Later...|Music|   390624|\n",
            "|1559362022|Wake Up and Smell...| Book|   518927|\n",
            "|0195110382|War at Sea: A Nav...| Book|   631564|\n",
            "|0849311012|Telecommunication...| Book|   570183|\n",
            "|B000007R0T|         Sol to Soul|Music|   109301|\n",
            "|078510870X|Ultimate Marvel T...| Book|   612475|\n",
            "|3895780812|Computed Tomograp...| Book|   179448|\n",
            "+----------+--------------------+-----+---------+\n",
            "only showing top 20 rows\n",
            "\n"
          ]
        }
      ]
    },
    {
      "cell_type": "code",
      "source": [
        "similar.show()"
      ],
      "metadata": {
        "colab": {
          "base_uri": "https://localhost:8080/"
        },
        "id": "fepk1mVWLw5c",
        "outputId": "4d8eb584-1d0a-49f0-f870-654753bbd3fa"
      },
      "execution_count": null,
      "outputs": [
        {
          "output_type": "stream",
          "name": "stdout",
          "text": [
            "+----------+----------+\n",
            "|      ASIN|   ASIN ID|\n",
            "+----------+----------+\n",
            "|0827229534|0804215715|\n",
            "|0827229534|156101074X|\n",
            "|0827229534|0687023955|\n",
            "|0827229534|0687074231|\n",
            "|0827229534|082721619X|\n",
            "|0738700797|0738700827|\n",
            "|0738700797|1567184960|\n",
            "|0738700797|1567182836|\n",
            "|0738700797|0738700525|\n",
            "|0738700797|0738700940|\n",
            "|0842328327|0842328130|\n",
            "|0842328327|0830818138|\n",
            "|0842328327|0842330313|\n",
            "|0842328327|0842328610|\n",
            "|0842328327|0842328572|\n",
            "|1577943082|157794349X|\n",
            "|1577943082|0892749504|\n",
            "|1577943082|1577941829|\n",
            "|1577943082|0892749563|\n",
            "|1577943082|1577946006|\n",
            "+----------+----------+\n",
            "only showing top 20 rows\n",
            "\n"
          ]
        }
      ]
    },
    {
      "cell_type": "code",
      "source": [
        "info.groupby(\"group\").count().show()"
      ],
      "metadata": {
        "colab": {
          "base_uri": "https://localhost:8080/"
        },
        "id": "hxp2tW6MM4-F",
        "outputId": "2eea5361-271f-476b-fb46-3c4899eae7ee"
      },
      "execution_count": null,
      "outputs": [
        {
          "output_type": "stream",
          "name": "stdout",
          "text": [
            "+--------------------+-----+\n",
            "|               group|count|\n",
            "+--------------------+-----+\n",
            "| and Value Fulfil...|    1|\n",
            "|           Vol. 2\"\"\"|    7|\n",
            "|             No 13)\"|    1|\n",
            "| I Don't Recollec...|    1|\n",
            "|      Sexta Edicion\"|    1|\n",
            "| Concertgebouw Or...|    1|\n",
            "|               Video| 4539|\n",
            "|                 Toy|    2|\n",
            "|\"\" Said the Baby ...|    1|\n",
            "|                 DVD| 3239|\n",
            "| Catalina D`Erzel...|    1|\n",
            "|                  )\"|    1|\n",
            "|\"\" \"\"Bartleby the...|    1|\n",
            "| Vol. 1: 1964-196...|    1|\n",
            "|    Asset Protection|    1|\n",
            "| Picardy Sinfonie...|    1|\n",
            "| But...\"\": The Mo...|    1|\n",
            "|         Video Games|    1|\n",
            "|                Book|66544|\n",
            "|                  1\"|    1|\n",
            "+--------------------+-----+\n",
            "only showing top 20 rows\n",
            "\n"
          ]
        }
      ]
    },
    {
      "cell_type": "code",
      "source": [
        "'''\n",
        "removing the rows where the group value is other than Book, Video, DVD, Video Games\n",
        "'''\n",
        "allowed_groups = [\"Book\", \"Video\", \"DVD\", \"Video Games\"]\n",
        "processed_data = info.filter(col('group').isin(allowed_groups))"
      ],
      "metadata": {
        "id": "MqPjEU2FONMA"
      },
      "execution_count": null,
      "outputs": []
    },
    {
      "cell_type": "code",
      "source": [
        "processed_data.show()"
      ],
      "metadata": {
        "colab": {
          "base_uri": "https://localhost:8080/"
        },
        "id": "xQynyCQHPJ6R",
        "outputId": "a4cb5910-a020-417b-f2a6-fe6a1b38404d"
      },
      "execution_count": null,
      "outputs": [
        {
          "output_type": "stream",
          "name": "stdout",
          "text": [
            "+----------+--------------------+-----+---------+\n",
            "|      ASIN|               title|group|salesrank|\n",
            "+----------+--------------------+-----+---------+\n",
            "|0827229534|Patterns of Preac...| Book|   396585|\n",
            "|0738700797|Candlemas: Feast ...| Book|   168596|\n",
            "|0486287785|World War II Alli...| Book|  1270652|\n",
            "|0842328327|Life Application ...| Book|   631289|\n",
            "|1577943082|Prayers That Avai...| Book|   455160|\n",
            "|0486220125|How the Other Hal...| Book|   188784|\n",
            "|0231118597| Losing Matt Shepard| Book|   277409|\n",
            "|1859677800|Making Bread: The...| Book|   949166|\n",
            "|0375709363|The Edward Said R...| Book|   220379|\n",
            "|0871318237|Resetting the Clo...| Book|   412962|\n",
            "|1590770218|Fantastic Food wi...| Book|    24741|\n",
            "|0313230269|Clockwork Worlds ...| Book|  2895088|\n",
            "|1559362022|Wake Up and Smell...| Book|   518927|\n",
            "|0195110382|War at Sea: A Nav...| Book|   631564|\n",
            "|0849311012|Telecommunication...| Book|   570183|\n",
            "|078510870X|Ultimate Marvel T...| Book|   612475|\n",
            "|3895780812|Computed Tomograp...| Book|   179448|\n",
            "|0790747324|    The Time Machine|  DVD|      795|\n",
            "|0393049388|Strange Fire: A N...| Book|  1277867|\n",
            "|0553525476|The Casebook of S...| Book|  1545277|\n",
            "+----------+--------------------+-----+---------+\n",
            "only showing top 20 rows\n",
            "\n"
          ]
        }
      ]
    },
    {
      "cell_type": "code",
      "source": [
        "processed_df = processed_data.join(reviews, processed_data['ASIN']==reviews['ASIN'])"
      ],
      "metadata": {
        "id": "wdoaut7gSpL0"
      },
      "execution_count": null,
      "outputs": []
    },
    {
      "cell_type": "code",
      "source": [
        "from pyspark.sql.functions import col, countDistinct"
      ],
      "metadata": {
        "id": "yo25OfwIUeFG"
      },
      "execution_count": null,
      "outputs": []
    },
    {
      "cell_type": "code",
      "source": [
        "group_counts = processed_df.groupBy(\"group\").agg(countDistinct(\"customer id\").alias(\"customer_count\"))\n",
        "\n",
        "# Filter the results to keep only \"group1\" and \"group2\"\n",
        "result = group_counts.filter(col(\"group\").isin(\"Book\", \"Video\"))"
      ],
      "metadata": {
        "id": "G0YRjJBVUXBN"
      },
      "execution_count": null,
      "outputs": []
    },
    {
      "cell_type": "code",
      "source": [
        "from pyspark.sql.functions import col, collect_set, size\n",
        "filtered_df = processed_df.filter(col(\"group\").isin(\"Book\", \"Video\"))\n",
        "grouped_df = filtered_df.groupBy(\"customer id\").agg(collect_set(\"group\").alias(\"purchased_items\"))\n",
        "customers_with_both_items = grouped_df.filter(size(col(\"purchased_items\")) == 2)\n",
        "customers_with_both_items.show()"
      ],
      "metadata": {
        "colab": {
          "base_uri": "https://localhost:8080/"
        },
        "id": "cVHqSmKBUiHO",
        "outputId": "6347eb86-4967-4657-e2ab-1098c9eb1d8d"
      },
      "execution_count": null,
      "outputs": [
        {
          "output_type": "stream",
          "name": "stdout",
          "text": [
            "+--------------+---------------+\n",
            "|   customer id|purchased_items|\n",
            "+--------------+---------------+\n",
            "|A1009L3XQBX5GJ|  [Book, Video]|\n",
            "|A1018BDG082EVM|  [Book, Video]|\n",
            "|A103KNDW8GN92L|  [Book, Video]|\n",
            "|A103W7ZPKGOCC9|  [Book, Video]|\n",
            "|A104D0P0KNZC06|  [Book, Video]|\n",
            "|A104KYSJJZLWB4|  [Book, Video]|\n",
            "|A104OB1I4P0KM0|  [Book, Video]|\n",
            "|A104Y042UJ1ERG|  [Book, Video]|\n",
            "|A105B8V248S2WH|  [Book, Video]|\n",
            "|A105YVLAZNYQUU|  [Book, Video]|\n",
            "|A106FAR7Z5T5YN|  [Book, Video]|\n",
            "|A107T0HDY55ZHO|  [Book, Video]|\n",
            "|A107UOX7KZHZLB|  [Book, Video]|\n",
            "|A10872FHIJAKKD|  [Book, Video]|\n",
            "|A108P33MBHGP08|  [Book, Video]|\n",
            "|A109FLT2P9JEFD|  [Book, Video]|\n",
            "|A10AJHFKRZG4JC|  [Book, Video]|\n",
            "|A10ARISO1UMIUN|  [Book, Video]|\n",
            "|A10B8DKR3OYZYT|  [Book, Video]|\n",
            "|A10BFNYFLH5CHJ|  [Book, Video]|\n",
            "+--------------+---------------+\n",
            "only showing top 20 rows\n",
            "\n"
          ]
        }
      ]
    },
    {
      "cell_type": "code",
      "source": [
        "customers_with_both_items.agg(countDistinct(\"customer id\")).show()"
      ],
      "metadata": {
        "colab": {
          "base_uri": "https://localhost:8080/"
        },
        "id": "gGpNJCUuWXyz",
        "outputId": "af0f907c-66d8-4b4d-af7b-61c008743216"
      },
      "execution_count": null,
      "outputs": [
        {
          "output_type": "stream",
          "name": "stdout",
          "text": [
            "+------------------+\n",
            "|count(customer id)|\n",
            "+------------------+\n",
            "|             14353|\n",
            "+------------------+\n",
            "\n"
          ]
        }
      ]
    },
    {
      "cell_type": "code",
      "source": [
        "processed_df.show()"
      ],
      "metadata": {
        "colab": {
          "base_uri": "https://localhost:8080/"
        },
        "id": "NdoaEBgYTyo8",
        "outputId": "197e9dd2-16c3-4cee-c121-1cf8e7d20ab9"
      },
      "execution_count": null,
      "outputs": [
        {
          "output_type": "stream",
          "name": "stdout",
          "text": [
            "+----------+--------------------+-----+---------+----------+--------------+------+-----+-------+\n",
            "|      ASIN|               title|group|salesrank|      ASIN|   customer id|rating|votes|helpful|\n",
            "+----------+--------------------+-----+---------+----------+--------------+------+-----+-------+\n",
            "|0827229534|Patterns of Preac...| Book|   396585|0827229534|A2JW67OY8U6HHK|     5|   10|      9|\n",
            "|0827229534|Patterns of Preac...| Book|   396585|0827229534|A2VE83MZF98ITY|     5|    6|      5|\n",
            "|0738700797|Candlemas: Feast ...| Book|   168596|0738700797|A11NCO6YTE4BTJ|     5|    5|      4|\n",
            "|0738700797|Candlemas: Feast ...| Book|   168596|0738700797| A9CQ3PLRNIR83|     4|    5|      5|\n",
            "|0738700797|Candlemas: Feast ...| Book|   168596|0738700797|A13SG9ACZ9O5IM|     5|    8|      8|\n",
            "|0738700797|Candlemas: Feast ...| Book|   168596|0738700797|A1BDAI6VEYMAZA|     5|    4|      4|\n",
            "|0738700797|Candlemas: Feast ...| Book|   168596|0738700797|A2P6KAWXJ16234|     4|   16|     16|\n",
            "|0738700797|Candlemas: Feast ...| Book|   168596|0738700797| AMACWC3M7PQFR|     4|    5|      5|\n",
            "|0738700797|Candlemas: Feast ...| Book|   168596|0738700797|A3GO7UV9XX14D8|     4|    6|      6|\n",
            "|0738700797|Candlemas: Feast ...| Book|   168596|0738700797|A1GIL64QK68WKL|     5|    8|      8|\n",
            "|0738700797|Candlemas: Feast ...| Book|   168596|0738700797| AEOBOF2ONQJWV|     5|    8|      5|\n",
            "|0738700797|Candlemas: Feast ...| Book|   168596|0738700797|A3IGHTES8ME05L|     5|    5|      5|\n",
            "|0738700797|Candlemas: Feast ...| Book|   168596|0738700797|A1CP26N8RHYVVO|     1|   13|      9|\n",
            "|0738700797|Candlemas: Feast ...| Book|   168596|0738700797| ANEIANH0WAT9D|     5|    1|      1|\n",
            "|0486287785|World War II Alli...| Book|  1270652|0486287785|A3IDGASRQAW8B2|     5|    2|      2|\n",
            "|0842328327|Life Application ...| Book|   631289|0842328327|A2591BUPXCS705|     4|    1|      1|\n",
            "|0486220125|How the Other Hal...| Book|   188784|0486220125| ATVPDKIKX0DER|     5|   12|     11|\n",
            "|0486220125|How the Other Hal...| Book|   188784|0486220125| AUEZ7NVOEHYRY|     5|   13|     12|\n",
            "|0486220125|How the Other Hal...| Book|   188784|0486220125| ATVPDKIKX0DER|     5|   18|      7|\n",
            "|0486220125|How the Other Hal...| Book|   188784|0486220125| AJYG6ZJUQPZ9M|     4|   14|     10|\n",
            "+----------+--------------------+-----+---------+----------+--------------+------+-----+-------+\n",
            "only showing top 20 rows\n",
            "\n"
          ]
        }
      ]
    }
  ]
}